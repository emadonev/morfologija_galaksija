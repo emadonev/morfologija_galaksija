{
 "cells": [
  {
   "cell_type": "markdown",
   "metadata": {},
   "source": [
    "# Importing the data and creating the data loaders"
   ]
  },
  {
   "cell_type": "code",
   "execution_count": 1,
   "metadata": {},
   "outputs": [],
   "source": [
    "%load_ext autoreload\n",
    "%autoreload 2"
   ]
  },
  {
   "cell_type": "code",
   "execution_count": 2,
   "metadata": {},
   "outputs": [],
   "source": [
    "import os\n",
    "os.environ[\"PYTORCH_CUDA_ALLOC_CONF\"] = \"expandable_segments:True\""
   ]
  },
  {
   "cell_type": "code",
   "execution_count": 3,
   "metadata": {},
   "outputs": [
    {
     "name": "stderr",
     "output_type": "stream",
     "text": [
      "\u001b[34m\u001b[1mwandb\u001b[0m: Using wandb-core as the SDK backend.  Please refer to https://wandb.me/wandb-core for more information.\n",
      "\u001b[34m\u001b[1mwandb\u001b[0m: Currently logged in as: \u001b[33memadonev\u001b[0m (\u001b[33memadonev-xv-gimnazija\u001b[0m) to \u001b[32mhttps://api.wandb.ai\u001b[0m. Use \u001b[1m`wandb login --relogin`\u001b[0m to force relogin\n"
     ]
    },
    {
     "data": {
      "text/plain": [
       "True"
      ]
     },
     "execution_count": 3,
     "metadata": {},
     "output_type": "execute_result"
    }
   ],
   "source": [
    "# importing libraries\n",
    "\n",
    "import glob\n",
    "import sys\n",
    "from zipfile import ZipFile \n",
    "import concurrent.futures\n",
    "import gc\n",
    "from time import time\n",
    "import cv2\n",
    "\n",
    "sys.path.insert(0,'../src/')\n",
    "\n",
    "import PIL as pil\n",
    "\n",
    "import pandas as pd\n",
    "import numpy as np\n",
    "np.random.seed(42)\n",
    "\n",
    "import matplotlib.pyplot as plt\n",
    "\n",
    "import torch\n",
    "from sklearn.model_selection import train_test_split\n",
    "from sklearn.metrics import accuracy_score\n",
    "from torch.utils.data import DataLoader, TensorDataset\n",
    "import torch.nn as nn\n",
    "from tqdm import tqdm\n",
    "import urllib.request\n",
    "import wandb\n",
    "wandb.login()"
   ]
  },
  {
   "cell_type": "code",
   "execution_count": 4,
   "metadata": {},
   "outputs": [],
   "source": [
    "def clear_gpu_memory(debug:bool=True):\n",
    "    \"\"\"\n",
    "    Clear GPU memory on all devices.\n",
    "    Optinonally print the memory before and after clearing.\n",
    "\n",
    "    Args:\n",
    "        debug (bool, optional): Print memory before and after clearing. Defaults to False.\n",
    "    \"\"\"\n",
    "    if debug:\n",
    "        print(\"GPU memory before clearing.\")\n",
    "        print(f\"Allocated: {torch.cuda.memory_allocated() :_}\")\n",
    "        print(f\"Reserved: {torch.cuda.memory_reserved() :_}\")\n",
    "    \n",
    "    # Free up memory\n",
    "    gc.collect()\n",
    "\n",
    "    # Clear CUDA memory cache\n",
    "    torch.cuda.empty_cache()\n",
    "    torch.cuda.reset_peak_memory_stats()\n",
    "    print(\"GPU memory has been cleared.\")\n",
    "\n",
    "    if debug:\n",
    "        print(\"GPU memory after clearing.\")\n",
    "        print(f\"Allocated: {torch.cuda.memory_allocated() :_}\")\n",
    "        print(f\"Reserved: {torch.cuda.memory_reserved() :_}\")"
   ]
  },
  {
   "cell_type": "code",
   "execution_count": 5,
   "metadata": {},
   "outputs": [
    {
     "name": "stdout",
     "output_type": "stream",
     "text": [
      "GPU memory before clearing.\n",
      "Allocated: 0\n",
      "Reserved: 0\n",
      "GPU memory has been cleared.\n",
      "GPU memory after clearing.\n",
      "Allocated: 0\n",
      "Reserved: 0\n"
     ]
    }
   ],
   "source": [
    "clear_gpu_memory()"
   ]
  },
  {
   "cell_type": "code",
   "execution_count": 6,
   "metadata": {},
   "outputs": [],
   "source": [
    "from data_process import *\n",
    "from cvt import *\n",
    "from model_train import *"
   ]
  },
  {
   "cell_type": "markdown",
   "metadata": {},
   "source": [
    "---"
   ]
  },
  {
   "cell_type": "code",
   "execution_count": null,
   "metadata": {},
   "outputs": [],
   "source": [
    "url = \"https://zenodo.org/records/3565489/files/images_gz2.zip?download=1\"\n",
    "urllib.request.urlretrieve(url, \"../input/images_gz2.zip\")"
   ]
  },
  {
   "cell_type": "code",
   "execution_count": 7,
   "metadata": {},
   "outputs": [],
   "source": [
    "with ZipFile('../input/images_gz2.zip', 'r') as zip_ref:\n",
    "    zip_ref.extractall(path='../input/images_gz2/')"
   ]
  },
  {
   "cell_type": "markdown",
   "metadata": {},
   "source": [
    "---"
   ]
  },
  {
   "cell_type": "code",
   "execution_count": 7,
   "metadata": {},
   "outputs": [],
   "source": [
    "reference_images = pd.read_csv('../input/filename_mapping.csv')\n",
    "\n",
    "main_catalogue = pd.read_csv('../input/gz2_classes.csv')"
   ]
  },
  {
   "cell_type": "code",
   "execution_count": 8,
   "metadata": {},
   "outputs": [
    {
     "data": {
      "text/html": [
       "<div>\n",
       "<style scoped>\n",
       "    .dataframe tbody tr th:only-of-type {\n",
       "        vertical-align: middle;\n",
       "    }\n",
       "\n",
       "    .dataframe tbody tr th {\n",
       "        vertical-align: top;\n",
       "    }\n",
       "\n",
       "    .dataframe thead th {\n",
       "        text-align: right;\n",
       "    }\n",
       "</style>\n",
       "<table border=\"1\" class=\"dataframe\">\n",
       "  <thead>\n",
       "    <tr style=\"text-align: right;\">\n",
       "      <th></th>\n",
       "      <th>objid</th>\n",
       "      <th>sample</th>\n",
       "      <th>asset_id</th>\n",
       "    </tr>\n",
       "  </thead>\n",
       "  <tbody>\n",
       "    <tr>\n",
       "      <th>0</th>\n",
       "      <td>587722981736120347</td>\n",
       "      <td>original</td>\n",
       "      <td>1</td>\n",
       "    </tr>\n",
       "    <tr>\n",
       "      <th>1</th>\n",
       "      <td>587722981736579107</td>\n",
       "      <td>original</td>\n",
       "      <td>2</td>\n",
       "    </tr>\n",
       "    <tr>\n",
       "      <th>2</th>\n",
       "      <td>587722981741363294</td>\n",
       "      <td>original</td>\n",
       "      <td>3</td>\n",
       "    </tr>\n",
       "    <tr>\n",
       "      <th>3</th>\n",
       "      <td>587722981741363323</td>\n",
       "      <td>original</td>\n",
       "      <td>4</td>\n",
       "    </tr>\n",
       "    <tr>\n",
       "      <th>4</th>\n",
       "      <td>587722981741559888</td>\n",
       "      <td>original</td>\n",
       "      <td>5</td>\n",
       "    </tr>\n",
       "  </tbody>\n",
       "</table>\n",
       "</div>"
      ],
      "text/plain": [
       "                objid    sample  asset_id\n",
       "0  587722981736120347  original         1\n",
       "1  587722981736579107  original         2\n",
       "2  587722981741363294  original         3\n",
       "3  587722981741363323  original         4\n",
       "4  587722981741559888  original         5"
      ]
     },
     "execution_count": 8,
     "metadata": {},
     "output_type": "execute_result"
    }
   ],
   "source": [
    "reference_images.head()"
   ]
  },
  {
   "cell_type": "code",
   "execution_count": 9,
   "metadata": {},
   "outputs": [
    {
     "data": {
      "text/html": [
       "<div>\n",
       "<style scoped>\n",
       "    .dataframe tbody tr th:only-of-type {\n",
       "        vertical-align: middle;\n",
       "    }\n",
       "\n",
       "    .dataframe tbody tr th {\n",
       "        vertical-align: top;\n",
       "    }\n",
       "\n",
       "    .dataframe thead th {\n",
       "        text-align: right;\n",
       "    }\n",
       "</style>\n",
       "<table border=\"1\" class=\"dataframe\">\n",
       "  <thead>\n",
       "    <tr style=\"text-align: right;\">\n",
       "      <th></th>\n",
       "      <th>specobjid</th>\n",
       "      <th>dr8objid</th>\n",
       "      <th>dr7objid</th>\n",
       "      <th>ra</th>\n",
       "      <th>dec</th>\n",
       "      <th>rastring</th>\n",
       "      <th>decstring</th>\n",
       "      <th>sample</th>\n",
       "      <th>gz2class</th>\n",
       "      <th>total_classifications</th>\n",
       "      <th>...</th>\n",
       "      <th>t11_arms_number_a36_more_than_4_fraction</th>\n",
       "      <th>t11_arms_number_a36_more_than_4_weighted_fraction</th>\n",
       "      <th>t11_arms_number_a36_more_than_4_debiased</th>\n",
       "      <th>t11_arms_number_a36_more_than_4_flag</th>\n",
       "      <th>t11_arms_number_a37_cant_tell_count</th>\n",
       "      <th>t11_arms_number_a37_cant_tell_weight</th>\n",
       "      <th>t11_arms_number_a37_cant_tell_fraction</th>\n",
       "      <th>t11_arms_number_a37_cant_tell_weighted_fraction</th>\n",
       "      <th>t11_arms_number_a37_cant_tell_debiased</th>\n",
       "      <th>t11_arms_number_a37_cant_tell_flag</th>\n",
       "    </tr>\n",
       "  </thead>\n",
       "  <tbody>\n",
       "    <tr>\n",
       "      <th>0</th>\n",
       "      <td>1.802675e+18</td>\n",
       "      <td>NaN</td>\n",
       "      <td>588017703996096547</td>\n",
       "      <td>160.99040</td>\n",
       "      <td>11.703790</td>\n",
       "      <td>10:43:57.70</td>\n",
       "      <td>+11:42:13.6</td>\n",
       "      <td>original</td>\n",
       "      <td>SBb?t</td>\n",
       "      <td>44</td>\n",
       "      <td>...</td>\n",
       "      <td>0.225</td>\n",
       "      <td>0.225</td>\n",
       "      <td>0.225</td>\n",
       "      <td>0</td>\n",
       "      <td>10</td>\n",
       "      <td>10.0</td>\n",
       "      <td>0.250</td>\n",
       "      <td>0.250</td>\n",
       "      <td>0.250</td>\n",
       "      <td>0</td>\n",
       "    </tr>\n",
       "    <tr>\n",
       "      <th>1</th>\n",
       "      <td>1.992984e+18</td>\n",
       "      <td>NaN</td>\n",
       "      <td>587738569780428805</td>\n",
       "      <td>192.41083</td>\n",
       "      <td>15.164207</td>\n",
       "      <td>12:49:38.60</td>\n",
       "      <td>+15:09:51.1</td>\n",
       "      <td>original</td>\n",
       "      <td>Ser</td>\n",
       "      <td>45</td>\n",
       "      <td>...</td>\n",
       "      <td>0.000</td>\n",
       "      <td>0.000</td>\n",
       "      <td>0.000</td>\n",
       "      <td>0</td>\n",
       "      <td>0</td>\n",
       "      <td>0.0</td>\n",
       "      <td>0.000</td>\n",
       "      <td>0.000</td>\n",
       "      <td>0.000</td>\n",
       "      <td>0</td>\n",
       "    </tr>\n",
       "    <tr>\n",
       "      <th>2</th>\n",
       "      <td>1.489569e+18</td>\n",
       "      <td>NaN</td>\n",
       "      <td>587735695913320507</td>\n",
       "      <td>210.80220</td>\n",
       "      <td>54.348953</td>\n",
       "      <td>14:03:12.53</td>\n",
       "      <td>+54:20:56.2</td>\n",
       "      <td>original</td>\n",
       "      <td>Sc+t</td>\n",
       "      <td>46</td>\n",
       "      <td>...</td>\n",
       "      <td>0.651</td>\n",
       "      <td>0.651</td>\n",
       "      <td>0.651</td>\n",
       "      <td>0</td>\n",
       "      <td>3</td>\n",
       "      <td>3.0</td>\n",
       "      <td>0.070</td>\n",
       "      <td>0.070</td>\n",
       "      <td>0.070</td>\n",
       "      <td>0</td>\n",
       "    </tr>\n",
       "    <tr>\n",
       "      <th>3</th>\n",
       "      <td>2.924084e+18</td>\n",
       "      <td>1.237668e+18</td>\n",
       "      <td>587742775634624545</td>\n",
       "      <td>185.30342</td>\n",
       "      <td>18.382704</td>\n",
       "      <td>12:21:12.82</td>\n",
       "      <td>+18:22:57.7</td>\n",
       "      <td>original</td>\n",
       "      <td>SBc(r)</td>\n",
       "      <td>45</td>\n",
       "      <td>...</td>\n",
       "      <td>0.071</td>\n",
       "      <td>0.071</td>\n",
       "      <td>0.071</td>\n",
       "      <td>0</td>\n",
       "      <td>6</td>\n",
       "      <td>6.0</td>\n",
       "      <td>0.429</td>\n",
       "      <td>0.429</td>\n",
       "      <td>0.429</td>\n",
       "      <td>0</td>\n",
       "    </tr>\n",
       "    <tr>\n",
       "      <th>4</th>\n",
       "      <td>1.387165e+18</td>\n",
       "      <td>1.237658e+18</td>\n",
       "      <td>587732769983889439</td>\n",
       "      <td>187.36679</td>\n",
       "      <td>8.749928</td>\n",
       "      <td>12:29:28.03</td>\n",
       "      <td>+08:44:59.7</td>\n",
       "      <td>extra</td>\n",
       "      <td>Ser</td>\n",
       "      <td>49</td>\n",
       "      <td>...</td>\n",
       "      <td>0.000</td>\n",
       "      <td>0.000</td>\n",
       "      <td>0.000</td>\n",
       "      <td>0</td>\n",
       "      <td>1</td>\n",
       "      <td>1.0</td>\n",
       "      <td>1.000</td>\n",
       "      <td>1.000</td>\n",
       "      <td>1.000</td>\n",
       "      <td>0</td>\n",
       "    </tr>\n",
       "  </tbody>\n",
       "</table>\n",
       "<p>5 rows × 233 columns</p>\n",
       "</div>"
      ],
      "text/plain": [
       "      specobjid      dr8objid            dr7objid         ra        dec  \\\n",
       "0  1.802675e+18           NaN  588017703996096547  160.99040  11.703790   \n",
       "1  1.992984e+18           NaN  587738569780428805  192.41083  15.164207   \n",
       "2  1.489569e+18           NaN  587735695913320507  210.80220  54.348953   \n",
       "3  2.924084e+18  1.237668e+18  587742775634624545  185.30342  18.382704   \n",
       "4  1.387165e+18  1.237658e+18  587732769983889439  187.36679   8.749928   \n",
       "\n",
       "      rastring    decstring    sample gz2class  total_classifications  ...  \\\n",
       "0  10:43:57.70  +11:42:13.6  original    SBb?t                     44  ...   \n",
       "1  12:49:38.60  +15:09:51.1  original      Ser                     45  ...   \n",
       "2  14:03:12.53  +54:20:56.2  original     Sc+t                     46  ...   \n",
       "3  12:21:12.82  +18:22:57.7  original   SBc(r)                     45  ...   \n",
       "4  12:29:28.03  +08:44:59.7     extra      Ser                     49  ...   \n",
       "\n",
       "   t11_arms_number_a36_more_than_4_fraction  \\\n",
       "0                                     0.225   \n",
       "1                                     0.000   \n",
       "2                                     0.651   \n",
       "3                                     0.071   \n",
       "4                                     0.000   \n",
       "\n",
       "   t11_arms_number_a36_more_than_4_weighted_fraction  \\\n",
       "0                                              0.225   \n",
       "1                                              0.000   \n",
       "2                                              0.651   \n",
       "3                                              0.071   \n",
       "4                                              0.000   \n",
       "\n",
       "   t11_arms_number_a36_more_than_4_debiased  \\\n",
       "0                                     0.225   \n",
       "1                                     0.000   \n",
       "2                                     0.651   \n",
       "3                                     0.071   \n",
       "4                                     0.000   \n",
       "\n",
       "   t11_arms_number_a36_more_than_4_flag  t11_arms_number_a37_cant_tell_count  \\\n",
       "0                                     0                                   10   \n",
       "1                                     0                                    0   \n",
       "2                                     0                                    3   \n",
       "3                                     0                                    6   \n",
       "4                                     0                                    1   \n",
       "\n",
       "   t11_arms_number_a37_cant_tell_weight  \\\n",
       "0                                  10.0   \n",
       "1                                   0.0   \n",
       "2                                   3.0   \n",
       "3                                   6.0   \n",
       "4                                   1.0   \n",
       "\n",
       "   t11_arms_number_a37_cant_tell_fraction  \\\n",
       "0                                   0.250   \n",
       "1                                   0.000   \n",
       "2                                   0.070   \n",
       "3                                   0.429   \n",
       "4                                   1.000   \n",
       "\n",
       "   t11_arms_number_a37_cant_tell_weighted_fraction  \\\n",
       "0                                            0.250   \n",
       "1                                            0.000   \n",
       "2                                            0.070   \n",
       "3                                            0.429   \n",
       "4                                            1.000   \n",
       "\n",
       "   t11_arms_number_a37_cant_tell_debiased  t11_arms_number_a37_cant_tell_flag  \n",
       "0                                   0.250                                   0  \n",
       "1                                   0.000                                   0  \n",
       "2                                   0.070                                   0  \n",
       "3                                   0.429                                   0  \n",
       "4                                   1.000                                   0  \n",
       "\n",
       "[5 rows x 233 columns]"
      ]
     },
     "execution_count": 9,
     "metadata": {},
     "output_type": "execute_result"
    }
   ],
   "source": [
    "main_catalogue.head()"
   ]
  },
  {
   "cell_type": "code",
   "execution_count": 10,
   "metadata": {},
   "outputs": [
    {
     "name": "stdout",
     "output_type": "stream",
     "text": [
      "(243500, 2)\n"
     ]
    },
    {
     "data": {
      "text/html": [
       "<div>\n",
       "<style scoped>\n",
       "    .dataframe tbody tr th:only-of-type {\n",
       "        vertical-align: middle;\n",
       "    }\n",
       "\n",
       "    .dataframe tbody tr th {\n",
       "        vertical-align: top;\n",
       "    }\n",
       "\n",
       "    .dataframe thead th {\n",
       "        text-align: right;\n",
       "    }\n",
       "</style>\n",
       "<table border=\"1\" class=\"dataframe\">\n",
       "  <thead>\n",
       "    <tr style=\"text-align: right;\">\n",
       "      <th></th>\n",
       "      <th>dr7ID</th>\n",
       "      <th>class</th>\n",
       "    </tr>\n",
       "  </thead>\n",
       "  <tbody>\n",
       "    <tr>\n",
       "      <th>0</th>\n",
       "      <td>588017703996096547</td>\n",
       "      <td>SBb?t</td>\n",
       "    </tr>\n",
       "    <tr>\n",
       "      <th>1</th>\n",
       "      <td>587738569780428805</td>\n",
       "      <td>Ser</td>\n",
       "    </tr>\n",
       "    <tr>\n",
       "      <th>2</th>\n",
       "      <td>587735695913320507</td>\n",
       "      <td>Sc+t</td>\n",
       "    </tr>\n",
       "    <tr>\n",
       "      <th>3</th>\n",
       "      <td>587742775634624545</td>\n",
       "      <td>SBc(r)</td>\n",
       "    </tr>\n",
       "    <tr>\n",
       "      <th>4</th>\n",
       "      <td>587732769983889439</td>\n",
       "      <td>Ser</td>\n",
       "    </tr>\n",
       "  </tbody>\n",
       "</table>\n",
       "</div>"
      ],
      "text/plain": [
       "                dr7ID   class\n",
       "0  588017703996096547   SBb?t\n",
       "1  587738569780428805     Ser\n",
       "2  587735695913320507    Sc+t\n",
       "3  587742775634624545  SBc(r)\n",
       "4  587732769983889439     Ser"
      ]
     },
     "execution_count": 10,
     "metadata": {},
     "output_type": "execute_result"
    }
   ],
   "source": [
    "# create modified main catalogue\n",
    "model_01_catalogue = pd.DataFrame()\n",
    "model_01_catalogue['dr7ID'] = main_catalogue['dr7objid']\n",
    "model_01_catalogue['class'] = main_catalogue['gz2class']\n",
    "print(model_01_catalogue.shape)\n",
    "model_01_catalogue.head()"
   ]
  },
  {
   "cell_type": "code",
   "execution_count": 11,
   "metadata": {},
   "outputs": [
    {
     "data": {
      "text/plain": [
       "(243253, 2)"
      ]
     },
     "execution_count": 11,
     "metadata": {},
     "output_type": "execute_result"
    }
   ],
   "source": [
    "model_01_catalogue.drop(model_01_catalogue[model_01_catalogue['class'] == 'A'].index, inplace=True)\n",
    "model_01_catalogue.shape"
   ]
  },
  {
   "cell_type": "code",
   "execution_count": 12,
   "metadata": {},
   "outputs": [
    {
     "data": {
      "text/html": [
       "<div>\n",
       "<style scoped>\n",
       "    .dataframe tbody tr th:only-of-type {\n",
       "        vertical-align: middle;\n",
       "    }\n",
       "\n",
       "    .dataframe tbody tr th {\n",
       "        vertical-align: top;\n",
       "    }\n",
       "\n",
       "    .dataframe thead th {\n",
       "        text-align: right;\n",
       "    }\n",
       "</style>\n",
       "<table border=\"1\" class=\"dataframe\">\n",
       "  <thead>\n",
       "    <tr style=\"text-align: right;\">\n",
       "      <th></th>\n",
       "      <th>dr7ID</th>\n",
       "      <th>class</th>\n",
       "      <th>asset_id</th>\n",
       "    </tr>\n",
       "  </thead>\n",
       "  <tbody>\n",
       "    <tr>\n",
       "      <th>0</th>\n",
       "      <td>587722981741363294</td>\n",
       "      <td>Ei0000</td>\n",
       "      <td>3</td>\n",
       "    </tr>\n",
       "    <tr>\n",
       "      <th>1</th>\n",
       "      <td>587722981741363323</td>\n",
       "      <td>Sc0000</td>\n",
       "      <td>4</td>\n",
       "    </tr>\n",
       "    <tr>\n",
       "      <th>2</th>\n",
       "      <td>587722981741559888</td>\n",
       "      <td>Er0000</td>\n",
       "      <td>5</td>\n",
       "    </tr>\n",
       "    <tr>\n",
       "      <th>3</th>\n",
       "      <td>587722981741625481</td>\n",
       "      <td>Er0000</td>\n",
       "      <td>6</td>\n",
       "    </tr>\n",
       "    <tr>\n",
       "      <th>4</th>\n",
       "      <td>587722981741625484</td>\n",
       "      <td>Ei0000</td>\n",
       "      <td>7</td>\n",
       "    </tr>\n",
       "  </tbody>\n",
       "</table>\n",
       "</div>"
      ],
      "text/plain": [
       "                dr7ID   class  asset_id\n",
       "0  587722981741363294  Ei0000         3\n",
       "1  587722981741363323  Sc0000         4\n",
       "2  587722981741559888  Er0000         5\n",
       "3  587722981741625481  Er0000         6\n",
       "4  587722981741625484  Ei0000         7"
      ]
     },
     "execution_count": 12,
     "metadata": {},
     "output_type": "execute_result"
    }
   ],
   "source": [
    "# connecting each class with the corresponding asset_id\n",
    "model_01_catalogue = model_01_catalogue.merge(\n",
    "    reference_images[['objid', 'asset_id']], \n",
    "    left_on='dr7ID', \n",
    "    right_on='objid', \n",
    "    how='left'\n",
    ").drop(columns=['objid'])  # Drop extra 'objid' column after merging\n",
    "model_01_catalogue = model_01_catalogue.sort_values(by=['asset_id']).reset_index(drop=True)\n",
    "\n",
    "model_01_catalogue['class'] = model_01_catalogue['class'].apply(lambda x: x.replace('(', '').replace(')', '').ljust(6, '0'))\n",
    "model_01_catalogue.head()"
   ]
  },
  {
   "cell_type": "code",
   "execution_count": 13,
   "metadata": {},
   "outputs": [
    {
     "data": {
      "text/html": [
       "<div>\n",
       "<style scoped>\n",
       "    .dataframe tbody tr th:only-of-type {\n",
       "        vertical-align: middle;\n",
       "    }\n",
       "\n",
       "    .dataframe tbody tr th {\n",
       "        vertical-align: top;\n",
       "    }\n",
       "\n",
       "    .dataframe thead th {\n",
       "        text-align: right;\n",
       "    }\n",
       "</style>\n",
       "<table border=\"1\" class=\"dataframe\">\n",
       "  <thead>\n",
       "    <tr style=\"text-align: right;\">\n",
       "      <th></th>\n",
       "      <th>r1</th>\n",
       "      <th>r2</th>\n",
       "      <th>r3</th>\n",
       "      <th>r4</th>\n",
       "      <th>r5</th>\n",
       "      <th>asset_id</th>\n",
       "    </tr>\n",
       "  </thead>\n",
       "  <tbody>\n",
       "    <tr>\n",
       "      <th>0</th>\n",
       "      <td>E</td>\n",
       "      <td>is</td>\n",
       "      <td>0</td>\n",
       "      <td>0</td>\n",
       "      <td>0</td>\n",
       "      <td>3</td>\n",
       "    </tr>\n",
       "    <tr>\n",
       "      <th>1</th>\n",
       "      <td>S</td>\n",
       "      <td>c</td>\n",
       "      <td>0</td>\n",
       "      <td>0</td>\n",
       "      <td>0</td>\n",
       "      <td>4</td>\n",
       "    </tr>\n",
       "    <tr>\n",
       "      <th>2</th>\n",
       "      <td>E</td>\n",
       "      <td>rs</td>\n",
       "      <td>0</td>\n",
       "      <td>0</td>\n",
       "      <td>0</td>\n",
       "      <td>5</td>\n",
       "    </tr>\n",
       "    <tr>\n",
       "      <th>3</th>\n",
       "      <td>E</td>\n",
       "      <td>rs</td>\n",
       "      <td>0</td>\n",
       "      <td>0</td>\n",
       "      <td>0</td>\n",
       "      <td>6</td>\n",
       "    </tr>\n",
       "    <tr>\n",
       "      <th>4</th>\n",
       "      <td>E</td>\n",
       "      <td>is</td>\n",
       "      <td>0</td>\n",
       "      <td>0</td>\n",
       "      <td>0</td>\n",
       "      <td>7</td>\n",
       "    </tr>\n",
       "  </tbody>\n",
       "</table>\n",
       "</div>"
      ],
      "text/plain": [
       "  r1  r2 r3 r4 r5  asset_id\n",
       "0  E  is  0  0  0         3\n",
       "1  S   c  0  0  0         4\n",
       "2  E  rs  0  0  0         5\n",
       "3  E  rs  0  0  0         6\n",
       "4  E  is  0  0  0         7"
      ]
     },
     "execution_count": 13,
     "metadata": {},
     "output_type": "execute_result"
    }
   ],
   "source": [
    "# creating a label diagram table\n",
    "label_diagram = pd.DataFrame(columns=['r1', 'r2', 'r3', 'r4', 'r5'])\n",
    "label_diagram['asset_id'] = model_01_catalogue['asset_id']\n",
    "label_diagram['r1'] = model_01_catalogue['class'].apply(choose_class1)\n",
    "label_diagram['r2'] = model_01_catalogue['class'].apply(choose_class2)\n",
    "label_diagram['r3'] = model_01_catalogue['class'].apply(choose_class3)\n",
    "label_diagram['r4'] = model_01_catalogue['class'].apply(choose_class4)\n",
    "label_diagram['r5'] = model_01_catalogue['class'].apply(choose_class5)\n",
    "label_diagram.head()"
   ]
  },
  {
   "cell_type": "code",
   "execution_count": 14,
   "metadata": {},
   "outputs": [
    {
     "data": {
      "text/html": [
       "<div>\n",
       "<style scoped>\n",
       "    .dataframe tbody tr th:only-of-type {\n",
       "        vertical-align: middle;\n",
       "    }\n",
       "\n",
       "    .dataframe tbody tr th {\n",
       "        vertical-align: top;\n",
       "    }\n",
       "\n",
       "    .dataframe thead th {\n",
       "        text-align: right;\n",
       "    }\n",
       "</style>\n",
       "<table border=\"1\" class=\"dataframe\">\n",
       "  <thead>\n",
       "    <tr style=\"text-align: right;\">\n",
       "      <th></th>\n",
       "      <th>r1</th>\n",
       "      <th>r2</th>\n",
       "      <th>r3</th>\n",
       "      <th>r4</th>\n",
       "      <th>r5</th>\n",
       "      <th>asset_id</th>\n",
       "    </tr>\n",
       "  </thead>\n",
       "  <tbody>\n",
       "    <tr>\n",
       "      <th>148289</th>\n",
       "      <td>S</td>\n",
       "      <td>b</td>\n",
       "      <td>?</td>\n",
       "      <td>ts</td>\n",
       "      <td>0</td>\n",
       "      <td>172444</td>\n",
       "    </tr>\n",
       "  </tbody>\n",
       "</table>\n",
       "</div>"
      ],
      "text/plain": [
       "       r1 r2 r3  r4 r5  asset_id\n",
       "148289  S  b  ?  ts  0    172444"
      ]
     },
     "execution_count": 14,
     "metadata": {},
     "output_type": "execute_result"
    }
   ],
   "source": [
    "label_diagram[label_diagram[\"asset_id\"]==172444]"
   ]
  },
  {
   "cell_type": "code",
   "execution_count": 15,
   "metadata": {},
   "outputs": [
    {
     "data": {
      "text/plain": [
       "r2\n",
       "c     58314\n",
       "is    50272\n",
       "b     48842\n",
       "rs    47458\n",
       "br    15241\n",
       "bn     8445\n",
       "d      6429\n",
       "cs     5785\n",
       "a      2149\n",
       "bb      318\n",
       "Name: count, dtype: int64"
      ]
     },
     "execution_count": 15,
     "metadata": {},
     "output_type": "execute_result"
    }
   ],
   "source": [
    "label_diagram['r2'].value_counts()"
   ]
  },
  {
   "cell_type": "code",
   "execution_count": 14,
   "metadata": {},
   "outputs": [],
   "source": [
    "label_diagram.to_csv(\"../input/label_diagram.csv\", index=False)"
   ]
  },
  {
   "cell_type": "code",
   "execution_count": 16,
   "metadata": {},
   "outputs": [],
   "source": [
    "imgs_path = '../input/images_gz2/images/'\n",
    "W, H, C = 224, 224, 4"
   ]
  },
  {
   "cell_type": "code",
   "execution_count": 17,
   "metadata": {},
   "outputs": [],
   "source": [
    "file_list = glob.glob(os.path.join(imgs_path, '*.jpg'))\n",
    "file_list = sorted(file_list)"
   ]
  },
  {
   "cell_type": "code",
   "execution_count": 18,
   "metadata": {},
   "outputs": [],
   "source": [
    "file_list = file_list[:5]"
   ]
  },
  {
   "cell_type": "code",
   "execution_count": 24,
   "metadata": {},
   "outputs": [
    {
     "name": "stdout",
     "output_type": "stream",
     "text": [
      "S\n",
      "E\n",
      "E\n",
      "Se\n",
      "E\n",
      "c\n",
      "rs\n",
      "is\n",
      "br\n",
      "is\n",
      "0\n",
      "0\n",
      "0\n",
      "0\n",
      "0\n",
      "0\n",
      "0\n",
      "0\n",
      "0\n",
      "0\n",
      "m\n",
      "0\n",
      "0\n",
      "0\n",
      "0\n",
      "{'../input/images_gz2/images/100.jpg': ('S', 'c', '0', '0', 'm'), '../input/images_gz2/images/1000.jpg': ('E', 'rs', '0', '0', '0'), '../input/images_gz2/images/10000.jpg': ('E', 'is', '0', '0', '0'), '../input/images_gz2/images/100000.jpg': ('Se', 'br', '0', '0', '0'), '../input/images_gz2/images/100001.jpg': ('E', 'is', '0', '0', '0')}\n"
     ]
    }
   ],
   "source": [
    "runs = {f: () for f in file_list}\n",
    "\n",
    "for i in label_diagram.columns:\n",
    "    if i == 'asset_id':\n",
    "        continue\n",
    "    # Create a mapping from asset_id to the current label value.\n",
    "    label_map = label_diagram.set_index('asset_id')[i].to_dict()\n",
    "    # For each file, append the label value to the tuple already stored (or create a new tuple)\n",
    "    for f in file_list:\n",
    "        asset_id = int(f.split('/')[-1].split('.')[0])\n",
    "        label_val = label_map.get(asset_id, None)\n",
    "        runs[f] = runs.get(f, ()) + (label_val,)\n",
    "        \n",
    "print(runs)"
   ]
  },
  {
   "cell_type": "markdown",
   "metadata": {},
   "source": [
    "---"
   ]
  },
  {
   "cell_type": "code",
   "execution_count": 26,
   "metadata": {},
   "outputs": [
    {
     "name": "stdout",
     "output_type": "stream",
     "text": [
      "[('../input/images_gz2/images/100.jpg', 'S'), ('../input/images_gz2/images/1000.jpg', 'E'), ('../input/images_gz2/images/10000.jpg', 'E'), ('../input/images_gz2/images/100000.jpg', 'Se'), ('../input/images_gz2/images/100001.jpg', 'E')]\n"
     ]
    }
   ],
   "source": [
    "run1 = [(f, runs[f][0]) for f in file_list]\n",
    "print(run1)"
   ]
  },
  {
   "cell_type": "code",
   "execution_count": null,
   "metadata": {},
   "outputs": [
    {
     "data": {
      "text/plain": [
       "r1\n",
       "E     103515\n",
       "S      94332\n",
       "Se     24004\n",
       "SB     21402\n",
       "Name: count, dtype: int64"
      ]
     },
     "execution_count": 14,
     "metadata": {},
     "output_type": "execute_result"
    }
   ],
   "source": [
    "label_diagram['r1'].value_counts()"
   ]
  },
  {
   "cell_type": "code",
   "execution_count": 15,
   "metadata": {},
   "outputs": [],
   "source": []
  },
  {
   "cell_type": "code",
   "execution_count": 31,
   "metadata": {},
   "outputs": [
    {
     "data": {
      "text/plain": [
       "243253"
      ]
     },
     "execution_count": 31,
     "metadata": {},
     "output_type": "execute_result"
    }
   ],
   "source": [
    "file_list = glob.glob(os.path.join(imgs_path, '*.jpg'))\n",
    "file_list = sorted(file_list)\n",
    "\n",
    "# select files whose asset_id is the same as the one in the label_diagram\n",
    "file_list = [f for f in file_list if int(f.split('/')[-1].split('.')[0]) in label_diagram['asset_id'].values]\n",
    "len(file_list)"
   ]
  },
  {
   "cell_type": "code",
   "execution_count": 36,
   "metadata": {},
   "outputs": [
    {
     "data": {
      "text/plain": [
       "243253"
      ]
     },
     "execution_count": 36,
     "metadata": {},
     "output_type": "execute_result"
    }
   ],
   "source": [
    "len(file_list)"
   ]
  },
  {
   "cell_type": "code",
   "execution_count": 38,
   "metadata": {},
   "outputs": [
    {
     "ename": "",
     "evalue": "",
     "output_type": "error",
     "traceback": [
      "\u001b[1;31mThe Kernel crashed while executing code in the current cell or a previous cell. \n",
      "\u001b[1;31mPlease review the code in the cell(s) to identify a possible cause of the failure. \n",
      "\u001b[1;31mClick <a href='https://aka.ms/vscodeJupyterKernelCrash'>here</a> for more info. \n",
      "\u001b[1;31mView Jupyter <a href='command:jupyter.viewOutput'>log</a> for further details."
     ]
    }
   ],
   "source": [
    "class_mapping = {x : i for i, x in enumerate(sorted(label_diagram['r1'].unique()))}\n",
    "n = 0.0411\n",
    "\n",
    "if __name__ == '__main__':\n",
    "    gmorph_d = galaxy_img_dataset(file_list, label_diagram, label_mapping='r1', class_mapping=class_mapping)\n",
    "    images = [x[0] for x in gmorph_d]\n",
    "    labels = [x[1] for x in gmorph_d]\n",
    "\n",
    "    img_sub, im, labels_sub, l = train_test_split(images, labels, train_size=n, random_state=42, stratify=labels, shuffle=True)\n",
    "    print(len(img_sub), len(labels_sub))\n",
    "\n",
    "    x = np.array(img_sub)\n",
    "    y = np.array(labels_sub)\n",
    "\n",
    "    bs = 32\n",
    "    # ---------\n",
    "    x_train, x_rem, y_train, y_rem = train_test_split(x,y, train_size=0.7, random_state=42, stratify=y, shuffle=True)\n",
    "\n",
    "    x_valid, x_test, y_valid, y_test = train_test_split(x_rem,y_rem, test_size=0.34, random_state=42, stratify=y_rem, shuffle=True)\n",
    "\n",
    "    x_train, y_train, x_valid, y_valid, x_test, y_test = map(torch.tensor, (x_train, y_train, x_valid, y_valid, x_test, y_test))\n",
    "\n",
    "    train_ds = TensorDataset(x_train, y_train)\n",
    "    train_dl = DataLoader(train_ds, batch_size=bs, shuffle=True, num_workers=16, pin_memory=True)\n",
    "\n",
    "    valid_ds = TensorDataset(x_valid, y_valid)\n",
    "    valid_dl = DataLoader(valid_ds, batch_size=bs, shuffle=True, num_workers=16,pin_memory=True)\n",
    "\n",
    "    test_ds = TensorDataset(x_test, y_test)\n",
    "    test_dl = DataLoader(test_ds, batch_size=bs, shuffle=True, num_workers=16,pin_memory=True)\n"
   ]
  },
  {
   "cell_type": "markdown",
   "metadata": {},
   "source": [
    "---"
   ]
  },
  {
   "cell_type": "code",
   "execution_count": 24,
   "metadata": {},
   "outputs": [],
   "source": [
    "import gc"
   ]
  },
  {
   "cell_type": "code",
   "execution_count": 25,
   "metadata": {},
   "outputs": [
    {
     "data": {
      "text/plain": [
       "674"
      ]
     },
     "execution_count": 25,
     "metadata": {},
     "output_type": "execute_result"
    }
   ],
   "source": [
    "gc.collect()"
   ]
  },
  {
   "cell_type": "code",
   "execution_count": 27,
   "metadata": {},
   "outputs": [],
   "source": [
    "epochs = 1\n",
    "lr = 0.001\n",
    "tmax = epochs\n",
    "gmavailable() else 'cpu'\n",
    "batch_size = 32\n",
    "embed_size = 64available() else 'cpu'\n",
    "batch_size = 32\n",
    "embed_size = 64"
   ]
  },
  {
   "cell_type": "markdown",
   "metadata": {},
   "source": [
    "---"
   ]
  },
  {
   "cell_type": "code",
   "execution_count": 29,
   "metadata": {},
   "outputs": [
    {
     "data": {
      "text/html": [
       "Tracking run with wandb version 0.19.8"
      ],
      "text/plain": [
       "<IPython.core.display.HTML object>"
      ]
     },
     "metadata": {},
     "output_type": "display_data"
    },
    {
     "data": {
      "text/html": [
       "Run data is saved locally in <code>/teamspace/studios/this_studio/galaxy_morph/nbs/wandb/run-20250330_082334-l9u4mr76</code>"
      ],
      "text/plain": [
       "<IPython.core.display.HTML object>"
      ]
     },
     "metadata": {},
     "output_type": "display_data"
    },
    {
     "data": {
      "text/html": [
       "Syncing run <strong><a href='https://wandb.ai/emadonev-xv-gimnazija/gmorph/runs/l9u4mr76' target=\"_blank\">test_shapes</a></strong> to <a href='https://wandb.ai/emadonev-xv-gimnazija/gmorph' target=\"_blank\">Weights & Biases</a> (<a href='https://wandb.me/developer-guide' target=\"_blank\">docs</a>)<br>"
      ],
      "text/plain": [
       "<IPython.core.display.HTML object>"
      ]
     },
     "metadata": {},
     "output_type": "display_data"
    },
    {
     "data": {
      "text/html": [
       " View project at <a href='https://wandb.ai/emadonev-xv-gimnazija/gmorph' target=\"_blank\">https://wandb.ai/emadonev-xv-gimnazija/gmorph</a>"
      ],
      "text/plain": [
       "<IPython.core.display.HTML object>"
      ]
     },
     "metadata": {},
     "output_type": "display_data"
    },
    {
     "data": {
      "text/html": [
       " View run at <a href='https://wandb.ai/emadonev-xv-gimnazija/gmorph/runs/l9u4mr76' target=\"_blank\">https://wandb.ai/emadonev-xv-gimnazija/gmorph/runs/l9u4mr76</a>"
      ],
      "text/plain": [
       "<IPython.core.display.HTML object>"
      ]
     },
     "metadata": {},
     "output_type": "display_data"
    },
    {
     "name": "stdout",
     "output_type": "stream",
     "text": [
      "Run name: test_shapes\n",
      "image shape torch.Size([32, 4, 224, 224])\n",
      "aux layer selected torch.Size([32, 3, 224, 224]) torch.Size([32, 1, 64])\n",
      "conv embedding shape torch.Size([32, 3136, 64])\n",
      "passed through attention torch.Size([32, 3136, 64])\n",
      "final out torch.Size([32, 64, 56, 56])\n",
      "image shape torch.Size([32, 64, 56, 56])\n",
      "conv embedding shape torch.Size([32, 784, 192])\n",
      "passed through attention torch.Size([32, 784, 192])\n",
      "final out torch.Size([32, 192, 28, 28])\n",
      "image shape torch.Size([32, 192, 28, 28])\n",
      "conv embedding shape torch.Size([32, 196, 384])\n",
      "cls_token provided torch.Size([32, 197, 384])\n",
      "passed through attention torch.Size([32, 197, 384])\n",
      "image shape torch.Size([32, 4, 224, 224])\n",
      "aux layer selected torch.Size([32, 3, 224, 224]) torch.Size([32, 1, 64])\n",
      "conv embedding shape torch.Size([32, 3136, 64])\n",
      "passed through attention torch.Size([32, 3136, 64])\n",
      "final out torch.Size([32, 64, 56, 56])\n",
      "image shape torch.Size([32, 64, 56, 56])\n",
      "conv embedding shape torch.Size([32, 784, 192])\n",
      "passed through attention torch.Size([32, 784, 192])\n",
      "final out torch.Size([32, 192, 28, 28])\n",
      "image shape torch.Size([32, 192, 28, 28])\n",
      "conv embedding shape torch.Size([32, 196, 384])\n",
      "cls_token provided torch.Size([32, 197, 384])\n",
      "passed through attention torch.Size([32, 197, 384])\n",
      "image shape torch.Size([6, 4, 224, 224])\n",
      "aux layer selected torch.Size([6, 3, 224, 224]) torch.Size([6, 1, 64])\n",
      "conv embedding shape torch.Size([6, 3136, 64])\n",
      "passed through attention torch.Size([6, 3136, 64])\n",
      "final out torch.Size([6, 64, 56, 56])\n",
      "image shape torch.Size([6, 64, 56, 56])\n",
      "conv embedding shape torch.Size([6, 784, 192])\n",
      "passed through attention torch.Size([6, 784, 192])\n",
      "final out torch.Size([6, 192, 28, 28])\n",
      "image shape torch.Size([6, 192, 28, 28])\n",
      "conv embedding shape torch.Size([6, 196, 384])\n",
      "cls_token provided torch.Size([6, 197, 384])\n",
      "passed through attention torch.Size([6, 197, 384])\n",
      "image shape torch.Size([19, 4, 224, 224])\n",
      "aux layer selected torch.Size([19, 3, 224, 224]) torch.Size([19, 1, 64])\n",
      "conv embedding shape torch.Size([19, 3136, 64])\n",
      "passed through attention torch.Size([19, 3136, 64])\n",
      "final out torch.Size([19, 64, 56, 56])\n",
      "image shape torch.Size([19, 64, 56, 56])\n",
      "conv embedding shape torch.Size([19, 784, 192])\n",
      "passed through attention torch.Size([19, 784, 192])\n",
      "final out torch.Size([19, 192, 28, 28])\n",
      "image shape torch.Size([19, 192, 28, 28])\n",
      "conv embedding shape torch.Size([19, 196, 384])\n",
      "cls_token provided torch.Size([19, 197, 384])\n",
      "passed through attention torch.Size([19, 197, 384])\n",
      "Epoch 1/1 - Train Loss: 3.2959 - Train Acc: 0.3000 - Valid Loss: 7.1258 - Valid Acc: 0.3684\n",
      "../output/model_test_shapes is saved!\n"
     ]
    },
    {
     "data": {
      "text/html": [],
      "text/plain": [
       "<IPython.core.display.HTML object>"
      ]
     },
     "metadata": {},
     "output_type": "display_data"
    },
    {
     "data": {
      "text/html": [
       "<br>    <style><br>        .wandb-row {<br>            display: flex;<br>            flex-direction: row;<br>            flex-wrap: wrap;<br>            justify-content: flex-start;<br>            width: 100%;<br>        }<br>        .wandb-col {<br>            display: flex;<br>            flex-direction: column;<br>            flex-basis: 100%;<br>            flex: 1;<br>            padding: 10px;<br>        }<br>    </style><br><div class=\"wandb-row\"><div class=\"wandb-col\"><h3>Run history:</h3><br/><table class=\"wandb\"><tr><td>train_F1</td><td>▁</td></tr><tr><td>train_acc</td><td>▁</td></tr><tr><td>train_loss</td><td>▁</td></tr><tr><td>train_precision</td><td>▁</td></tr><tr><td>train_recall</td><td>▁</td></tr><tr><td>valid_F1</td><td>▁</td></tr><tr><td>valid_acc</td><td>▁</td></tr><tr><td>valid_loss</td><td>▁</td></tr><tr><td>valid_precision</td><td>▁</td></tr><tr><td>valid_recall</td><td>▁</td></tr></table><br/></div><div class=\"wandb-col\"><h3>Run summary:</h3><br/><table class=\"wandb\"><tr><td>train_F1</td><td>0.2012</td></tr><tr><td>train_acc</td><td>0.3</td></tr><tr><td>train_loss</td><td>3.29589</td></tr><tr><td>train_precision</td><td>0.25413</td></tr><tr><td>train_recall</td><td>0.27375</td></tr><tr><td>valid_F1</td><td>0.13462</td></tr><tr><td>valid_acc</td><td>0.36842</td></tr><tr><td>valid_loss</td><td>7.12583</td></tr><tr><td>valid_precision</td><td>0.09211</td></tr><tr><td>valid_recall</td><td>0.25</td></tr></table><br/></div></div>"
      ],
      "text/plain": [
       "<IPython.core.display.HTML object>"
      ]
     },
     "metadata": {},
     "output_type": "display_data"
    },
    {
     "data": {
      "text/html": [
       " View run <strong style=\"color:#cdcd00\">test_shapes</strong> at: <a href='https://wandb.ai/emadonev-xv-gimnazija/gmorph/runs/l9u4mr76' target=\"_blank\">https://wandb.ai/emadonev-xv-gimnazija/gmorph/runs/l9u4mr76</a><br> View project at: <a href='https://wandb.ai/emadonev-xv-gimnazija/gmorph' target=\"_blank\">https://wandb.ai/emadonev-xv-gimnazija/gmorph</a><br>Synced 5 W&B file(s), 0 media file(s), 0 artifact file(s) and 0 other file(s)"
      ],
      "text/plain": [
       "<IPython.core.display.HTML object>"
      ]
     },
     "metadata": {},
     "output_type": "display_data"
    },
    {
     "data": {
      "text/html": [
       "Find logs at: <code>./wandb/run-20250330_082334-l9u4mr76/logs</code>"
      ],
      "text/plain": [
       "<IPython.core.display.HTML object>"
      ]
     },
     "metadata": {},
     "output_type": "display_data"
    },
    {
     "name": "stdout",
     "output_type": "stream",
     "text": [
      "Training time = 0.0283196489016215 minutes\n"
     ]
    }
   ],
   "source": [
    "gmorph_model = CvT(embed_size, len(class_mapping))\n",
    "optimizer = torch.optim.AdamW(gmorph_model.parameters(), lr=lr, weight_decay=0.05)\n",
    "scheduler = torch.optim.lr_scheduler.CosineAnnealingLR(optimizer, tmax, eta_min=1e-6)\n",
    "loss_func = nn.CrossEntropyLoss()\n",
    "\n",
    "results, results_class, train_pred, train_true, train_probs, valid_pred, valid_true, valid_probs = train_model(epochs, gmorph_model, train_dl, valid_dl, loss_func, optimizer, scheduler, device, save_name=f'test_shapes')"
   ]
  },
  {
   "cell_type": "code",
   "execution_count": null,
   "metadata": {},
   "outputs": [],
   "source": []
  }
 ],
 "metadata": {
  "language_info": {
   "name": "python"
  }
 },
 "nbformat": 4,
 "nbformat_minor": 2
}
