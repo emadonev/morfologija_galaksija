{
 "cells": [
  {
   "cell_type": "markdown",
   "metadata": {},
   "source": [
    "# Importing the data and creating the data loaders"
   ]
  },
  {
   "cell_type": "code",
   "execution_count": 1,
   "metadata": {},
   "outputs": [],
   "source": [
    "%load_ext autoreload\n",
    "%autoreload 2"
   ]
  },
  {
   "cell_type": "code",
   "execution_count": 2,
   "metadata": {},
   "outputs": [],
   "source": [
    "import os\n",
    "os.environ[\"PYTORCH_CUDA_ALLOC_CONF\"] = \"expandable_segments:True\""
   ]
  },
  {
   "cell_type": "code",
   "execution_count": 3,
   "metadata": {},
   "outputs": [
    {
     "name": "stderr",
     "output_type": "stream",
     "text": [
      "\u001b[34m\u001b[1mwandb\u001b[0m: Using wandb-core as the SDK backend.  Please refer to https://wandb.me/wandb-core for more information.\n",
      "\u001b[34m\u001b[1mwandb\u001b[0m: Currently logged in as: \u001b[33memadonev\u001b[0m (\u001b[33memadonev-xv-gimnazija\u001b[0m) to \u001b[32mhttps://api.wandb.ai\u001b[0m. Use \u001b[1m`wandb login --relogin`\u001b[0m to force relogin\n"
     ]
    },
    {
     "data": {
      "text/plain": [
       "True"
      ]
     },
     "execution_count": 3,
     "metadata": {},
     "output_type": "execute_result"
    }
   ],
   "source": [
    "# importing libraries\n",
    "\n",
    "import glob\n",
    "import sys\n",
    "from zipfile import ZipFile \n",
    "import concurrent.futures\n",
    "import gc\n",
    "from time import time\n",
    "import cv2\n",
    "\n",
    "sys.path.insert(0,'../src/')\n",
    "\n",
    "import PIL as pil\n",
    "\n",
    "import pandas as pd\n",
    "import numpy as np\n",
    "np.random.seed(42)\n",
    "import random\n",
    "\n",
    "import matplotlib.pyplot as plt\n",
    "\n",
    "import torch\n",
    "from sklearn.model_selection import train_test_split\n",
    "from sklearn.metrics import accuracy_score\n",
    "from torch.utils.data import DataLoader, TensorDataset\n",
    "import torch.nn as nn\n",
    "from tqdm import tqdm\n",
    "import urllib.request\n",
    "import wandb\n",
    "wandb.login()"
   ]
  },
  {
   "cell_type": "code",
   "execution_count": 4,
   "metadata": {},
   "outputs": [],
   "source": [
    "from data_processing import *\n",
    "from cvt import *\n",
    "from model_train import *"
   ]
  },
  {
   "cell_type": "markdown",
   "metadata": {},
   "source": [
    "---"
   ]
  },
  {
   "cell_type": "code",
   "execution_count": 5,
   "metadata": {},
   "outputs": [],
   "source": [
    "reference_images = pd.read_csv('../input/filename_mapping.csv')\n",
    "\n",
    "main_catalogue = pd.read_csv('../input/gz2_classes.csv')"
   ]
  },
  {
   "cell_type": "code",
   "execution_count": 6,
   "metadata": {},
   "outputs": [
    {
     "data": {
      "text/html": [
       "<div>\n",
       "<style scoped>\n",
       "    .dataframe tbody tr th:only-of-type {\n",
       "        vertical-align: middle;\n",
       "    }\n",
       "\n",
       "    .dataframe tbody tr th {\n",
       "        vertical-align: top;\n",
       "    }\n",
       "\n",
       "    .dataframe thead th {\n",
       "        text-align: right;\n",
       "    }\n",
       "</style>\n",
       "<table border=\"1\" class=\"dataframe\">\n",
       "  <thead>\n",
       "    <tr style=\"text-align: right;\">\n",
       "      <th></th>\n",
       "      <th>objid</th>\n",
       "      <th>sample</th>\n",
       "      <th>asset_id</th>\n",
       "    </tr>\n",
       "  </thead>\n",
       "  <tbody>\n",
       "    <tr>\n",
       "      <th>0</th>\n",
       "      <td>587722981736120347</td>\n",
       "      <td>original</td>\n",
       "      <td>1</td>\n",
       "    </tr>\n",
       "    <tr>\n",
       "      <th>1</th>\n",
       "      <td>587722981736579107</td>\n",
       "      <td>original</td>\n",
       "      <td>2</td>\n",
       "    </tr>\n",
       "    <tr>\n",
       "      <th>2</th>\n",
       "      <td>587722981741363294</td>\n",
       "      <td>original</td>\n",
       "      <td>3</td>\n",
       "    </tr>\n",
       "    <tr>\n",
       "      <th>3</th>\n",
       "      <td>587722981741363323</td>\n",
       "      <td>original</td>\n",
       "      <td>4</td>\n",
       "    </tr>\n",
       "    <tr>\n",
       "      <th>4</th>\n",
       "      <td>587722981741559888</td>\n",
       "      <td>original</td>\n",
       "      <td>5</td>\n",
       "    </tr>\n",
       "  </tbody>\n",
       "</table>\n",
       "</div>"
      ],
      "text/plain": [
       "                objid    sample  asset_id\n",
       "0  587722981736120347  original         1\n",
       "1  587722981736579107  original         2\n",
       "2  587722981741363294  original         3\n",
       "3  587722981741363323  original         4\n",
       "4  587722981741559888  original         5"
      ]
     },
     "execution_count": 6,
     "metadata": {},
     "output_type": "execute_result"
    }
   ],
   "source": [
    "reference_images.head()"
   ]
  },
  {
   "cell_type": "code",
   "execution_count": 7,
   "metadata": {},
   "outputs": [
    {
     "data": {
      "text/html": [
       "<div>\n",
       "<style scoped>\n",
       "    .dataframe tbody tr th:only-of-type {\n",
       "        vertical-align: middle;\n",
       "    }\n",
       "\n",
       "    .dataframe tbody tr th {\n",
       "        vertical-align: top;\n",
       "    }\n",
       "\n",
       "    .dataframe thead th {\n",
       "        text-align: right;\n",
       "    }\n",
       "</style>\n",
       "<table border=\"1\" class=\"dataframe\">\n",
       "  <thead>\n",
       "    <tr style=\"text-align: right;\">\n",
       "      <th></th>\n",
       "      <th>specobjid</th>\n",
       "      <th>dr8objid</th>\n",
       "      <th>dr7objid</th>\n",
       "      <th>ra</th>\n",
       "      <th>dec</th>\n",
       "      <th>rastring</th>\n",
       "      <th>decstring</th>\n",
       "      <th>sample</th>\n",
       "      <th>gz2class</th>\n",
       "      <th>total_classifications</th>\n",
       "      <th>...</th>\n",
       "      <th>t11_arms_number_a36_more_than_4_fraction</th>\n",
       "      <th>t11_arms_number_a36_more_than_4_weighted_fraction</th>\n",
       "      <th>t11_arms_number_a36_more_than_4_debiased</th>\n",
       "      <th>t11_arms_number_a36_more_than_4_flag</th>\n",
       "      <th>t11_arms_number_a37_cant_tell_count</th>\n",
       "      <th>t11_arms_number_a37_cant_tell_weight</th>\n",
       "      <th>t11_arms_number_a37_cant_tell_fraction</th>\n",
       "      <th>t11_arms_number_a37_cant_tell_weighted_fraction</th>\n",
       "      <th>t11_arms_number_a37_cant_tell_debiased</th>\n",
       "      <th>t11_arms_number_a37_cant_tell_flag</th>\n",
       "    </tr>\n",
       "  </thead>\n",
       "  <tbody>\n",
       "    <tr>\n",
       "      <th>0</th>\n",
       "      <td>1.802675e+18</td>\n",
       "      <td>NaN</td>\n",
       "      <td>588017703996096547</td>\n",
       "      <td>160.99040</td>\n",
       "      <td>11.703790</td>\n",
       "      <td>10:43:57.70</td>\n",
       "      <td>+11:42:13.6</td>\n",
       "      <td>original</td>\n",
       "      <td>SBb?t</td>\n",
       "      <td>44</td>\n",
       "      <td>...</td>\n",
       "      <td>0.225</td>\n",
       "      <td>0.225</td>\n",
       "      <td>0.225</td>\n",
       "      <td>0</td>\n",
       "      <td>10</td>\n",
       "      <td>10.0</td>\n",
       "      <td>0.250</td>\n",
       "      <td>0.250</td>\n",
       "      <td>0.250</td>\n",
       "      <td>0</td>\n",
       "    </tr>\n",
       "    <tr>\n",
       "      <th>1</th>\n",
       "      <td>1.992984e+18</td>\n",
       "      <td>NaN</td>\n",
       "      <td>587738569780428805</td>\n",
       "      <td>192.41083</td>\n",
       "      <td>15.164207</td>\n",
       "      <td>12:49:38.60</td>\n",
       "      <td>+15:09:51.1</td>\n",
       "      <td>original</td>\n",
       "      <td>Ser</td>\n",
       "      <td>45</td>\n",
       "      <td>...</td>\n",
       "      <td>0.000</td>\n",
       "      <td>0.000</td>\n",
       "      <td>0.000</td>\n",
       "      <td>0</td>\n",
       "      <td>0</td>\n",
       "      <td>0.0</td>\n",
       "      <td>0.000</td>\n",
       "      <td>0.000</td>\n",
       "      <td>0.000</td>\n",
       "      <td>0</td>\n",
       "    </tr>\n",
       "    <tr>\n",
       "      <th>2</th>\n",
       "      <td>1.489569e+18</td>\n",
       "      <td>NaN</td>\n",
       "      <td>587735695913320507</td>\n",
       "      <td>210.80220</td>\n",
       "      <td>54.348953</td>\n",
       "      <td>14:03:12.53</td>\n",
       "      <td>+54:20:56.2</td>\n",
       "      <td>original</td>\n",
       "      <td>Sc+t</td>\n",
       "      <td>46</td>\n",
       "      <td>...</td>\n",
       "      <td>0.651</td>\n",
       "      <td>0.651</td>\n",
       "      <td>0.651</td>\n",
       "      <td>0</td>\n",
       "      <td>3</td>\n",
       "      <td>3.0</td>\n",
       "      <td>0.070</td>\n",
       "      <td>0.070</td>\n",
       "      <td>0.070</td>\n",
       "      <td>0</td>\n",
       "    </tr>\n",
       "    <tr>\n",
       "      <th>3</th>\n",
       "      <td>2.924084e+18</td>\n",
       "      <td>1.237668e+18</td>\n",
       "      <td>587742775634624545</td>\n",
       "      <td>185.30342</td>\n",
       "      <td>18.382704</td>\n",
       "      <td>12:21:12.82</td>\n",
       "      <td>+18:22:57.7</td>\n",
       "      <td>original</td>\n",
       "      <td>SBc(r)</td>\n",
       "      <td>45</td>\n",
       "      <td>...</td>\n",
       "      <td>0.071</td>\n",
       "      <td>0.071</td>\n",
       "      <td>0.071</td>\n",
       "      <td>0</td>\n",
       "      <td>6</td>\n",
       "      <td>6.0</td>\n",
       "      <td>0.429</td>\n",
       "      <td>0.429</td>\n",
       "      <td>0.429</td>\n",
       "      <td>0</td>\n",
       "    </tr>\n",
       "    <tr>\n",
       "      <th>4</th>\n",
       "      <td>1.387165e+18</td>\n",
       "      <td>1.237658e+18</td>\n",
       "      <td>587732769983889439</td>\n",
       "      <td>187.36679</td>\n",
       "      <td>8.749928</td>\n",
       "      <td>12:29:28.03</td>\n",
       "      <td>+08:44:59.7</td>\n",
       "      <td>extra</td>\n",
       "      <td>Ser</td>\n",
       "      <td>49</td>\n",
       "      <td>...</td>\n",
       "      <td>0.000</td>\n",
       "      <td>0.000</td>\n",
       "      <td>0.000</td>\n",
       "      <td>0</td>\n",
       "      <td>1</td>\n",
       "      <td>1.0</td>\n",
       "      <td>1.000</td>\n",
       "      <td>1.000</td>\n",
       "      <td>1.000</td>\n",
       "      <td>0</td>\n",
       "    </tr>\n",
       "  </tbody>\n",
       "</table>\n",
       "<p>5 rows × 233 columns</p>\n",
       "</div>"
      ],
      "text/plain": [
       "      specobjid      dr8objid            dr7objid         ra        dec  \\\n",
       "0  1.802675e+18           NaN  588017703996096547  160.99040  11.703790   \n",
       "1  1.992984e+18           NaN  587738569780428805  192.41083  15.164207   \n",
       "2  1.489569e+18           NaN  587735695913320507  210.80220  54.348953   \n",
       "3  2.924084e+18  1.237668e+18  587742775634624545  185.30342  18.382704   \n",
       "4  1.387165e+18  1.237658e+18  587732769983889439  187.36679   8.749928   \n",
       "\n",
       "      rastring    decstring    sample gz2class  total_classifications  ...  \\\n",
       "0  10:43:57.70  +11:42:13.6  original    SBb?t                     44  ...   \n",
       "1  12:49:38.60  +15:09:51.1  original      Ser                     45  ...   \n",
       "2  14:03:12.53  +54:20:56.2  original     Sc+t                     46  ...   \n",
       "3  12:21:12.82  +18:22:57.7  original   SBc(r)                     45  ...   \n",
       "4  12:29:28.03  +08:44:59.7     extra      Ser                     49  ...   \n",
       "\n",
       "   t11_arms_number_a36_more_than_4_fraction  \\\n",
       "0                                     0.225   \n",
       "1                                     0.000   \n",
       "2                                     0.651   \n",
       "3                                     0.071   \n",
       "4                                     0.000   \n",
       "\n",
       "   t11_arms_number_a36_more_than_4_weighted_fraction  \\\n",
       "0                                              0.225   \n",
       "1                                              0.000   \n",
       "2                                              0.651   \n",
       "3                                              0.071   \n",
       "4                                              0.000   \n",
       "\n",
       "   t11_arms_number_a36_more_than_4_debiased  \\\n",
       "0                                     0.225   \n",
       "1                                     0.000   \n",
       "2                                     0.651   \n",
       "3                                     0.071   \n",
       "4                                     0.000   \n",
       "\n",
       "   t11_arms_number_a36_more_than_4_flag  t11_arms_number_a37_cant_tell_count  \\\n",
       "0                                     0                                   10   \n",
       "1                                     0                                    0   \n",
       "2                                     0                                    3   \n",
       "3                                     0                                    6   \n",
       "4                                     0                                    1   \n",
       "\n",
       "   t11_arms_number_a37_cant_tell_weight  \\\n",
       "0                                  10.0   \n",
       "1                                   0.0   \n",
       "2                                   3.0   \n",
       "3                                   6.0   \n",
       "4                                   1.0   \n",
       "\n",
       "   t11_arms_number_a37_cant_tell_fraction  \\\n",
       "0                                   0.250   \n",
       "1                                   0.000   \n",
       "2                                   0.070   \n",
       "3                                   0.429   \n",
       "4                                   1.000   \n",
       "\n",
       "   t11_arms_number_a37_cant_tell_weighted_fraction  \\\n",
       "0                                            0.250   \n",
       "1                                            0.000   \n",
       "2                                            0.070   \n",
       "3                                            0.429   \n",
       "4                                            1.000   \n",
       "\n",
       "   t11_arms_number_a37_cant_tell_debiased  t11_arms_number_a37_cant_tell_flag  \n",
       "0                                   0.250                                   0  \n",
       "1                                   0.000                                   0  \n",
       "2                                   0.070                                   0  \n",
       "3                                   0.429                                   0  \n",
       "4                                   1.000                                   0  \n",
       "\n",
       "[5 rows x 233 columns]"
      ]
     },
     "execution_count": 7,
     "metadata": {},
     "output_type": "execute_result"
    }
   ],
   "source": [
    "main_catalogue.head()"
   ]
  },
  {
   "cell_type": "code",
   "execution_count": 44,
   "metadata": {},
   "outputs": [
    {
     "name": "stdout",
     "output_type": "stream",
     "text": [
      "['specobjid', 'dr8objid', 'dr7objid', 'ra', 'dec', 'rastring', 'decstring', 'sample', 'gz2class', 'total_classifications', 'total_votes', 't01_smooth_or_features_a01_smooth_count', 't01_smooth_or_features_a01_smooth_weight', 't01_smooth_or_features_a01_smooth_fraction', 't01_smooth_or_features_a01_smooth_weighted_fraction', 't01_smooth_or_features_a01_smooth_debiased', 't01_smooth_or_features_a01_smooth_flag', 't01_smooth_or_features_a02_features_or_disk_count', 't01_smooth_or_features_a02_features_or_disk_weight', 't01_smooth_or_features_a02_features_or_disk_fraction', 't01_smooth_or_features_a02_features_or_disk_weighted_fraction', 't01_smooth_or_features_a02_features_or_disk_debiased', 't01_smooth_or_features_a02_features_or_disk_flag', 't01_smooth_or_features_a03_star_or_artifact_count', 't01_smooth_or_features_a03_star_or_artifact_weight', 't01_smooth_or_features_a03_star_or_artifact_fraction', 't01_smooth_or_features_a03_star_or_artifact_weighted_fraction', 't01_smooth_or_features_a03_star_or_artifact_debiased', 't01_smooth_or_features_a03_star_or_artifact_flag', 't02_edgeon_a04_yes_count', 't02_edgeon_a04_yes_weight', 't02_edgeon_a04_yes_fraction', 't02_edgeon_a04_yes_weighted_fraction', 't02_edgeon_a04_yes_debiased', 't02_edgeon_a04_yes_flag', 't02_edgeon_a05_no_count', 't02_edgeon_a05_no_weight', 't02_edgeon_a05_no_fraction', 't02_edgeon_a05_no_weighted_fraction', 't02_edgeon_a05_no_debiased', 't02_edgeon_a05_no_flag', 't03_bar_a06_bar_count', 't03_bar_a06_bar_weight', 't03_bar_a06_bar_fraction', 't03_bar_a06_bar_weighted_fraction', 't03_bar_a06_bar_debiased', 't03_bar_a06_bar_flag', 't03_bar_a07_no_bar_count', 't03_bar_a07_no_bar_weight', 't03_bar_a07_no_bar_fraction', 't03_bar_a07_no_bar_weighted_fraction', 't03_bar_a07_no_bar_debiased', 't03_bar_a07_no_bar_flag', 't04_spiral_a08_spiral_count', 't04_spiral_a08_spiral_weight', 't04_spiral_a08_spiral_fraction', 't04_spiral_a08_spiral_weighted_fraction', 't04_spiral_a08_spiral_debiased', 't04_spiral_a08_spiral_flag', 't04_spiral_a09_no_spiral_count', 't04_spiral_a09_no_spiral_weight', 't04_spiral_a09_no_spiral_fraction', 't04_spiral_a09_no_spiral_weighted_fraction', 't04_spiral_a09_no_spiral_debiased', 't04_spiral_a09_no_spiral_flag', 't05_bulge_prominence_a10_no_bulge_count', 't05_bulge_prominence_a10_no_bulge_weight', 't05_bulge_prominence_a10_no_bulge_fraction', 't05_bulge_prominence_a10_no_bulge_weighted_fraction', 't05_bulge_prominence_a10_no_bulge_debiased', 't05_bulge_prominence_a10_no_bulge_flag', 't05_bulge_prominence_a11_just_noticeable_count', 't05_bulge_prominence_a11_just_noticeable_weight', 't05_bulge_prominence_a11_just_noticeable_fraction', 't05_bulge_prominence_a11_just_noticeable_weighted_fraction', 't05_bulge_prominence_a11_just_noticeable_debiased', 't05_bulge_prominence_a11_just_noticeable_flag', 't05_bulge_prominence_a12_obvious_count', 't05_bulge_prominence_a12_obvious_weight', 't05_bulge_prominence_a12_obvious_fraction', 't05_bulge_prominence_a12_obvious_weighted_fraction', 't05_bulge_prominence_a12_obvious_debiased', 't05_bulge_prominence_a12_obvious_flag', 't05_bulge_prominence_a13_dominant_count', 't05_bulge_prominence_a13_dominant_weight', 't05_bulge_prominence_a13_dominant_fraction', 't05_bulge_prominence_a13_dominant_weighted_fraction', 't05_bulge_prominence_a13_dominant_debiased', 't05_bulge_prominence_a13_dominant_flag', 't06_odd_a14_yes_count', 't06_odd_a14_yes_weight', 't06_odd_a14_yes_fraction', 't06_odd_a14_yes_weighted_fraction', 't06_odd_a14_yes_debiased', 't06_odd_a14_yes_flag', 't06_odd_a15_no_count', 't06_odd_a15_no_weight', 't06_odd_a15_no_fraction', 't06_odd_a15_no_weighted_fraction', 't06_odd_a15_no_debiased', 't06_odd_a15_no_flag', 't07_rounded_a16_completely_round_count', 't07_rounded_a16_completely_round_weight', 't07_rounded_a16_completely_round_fraction', 't07_rounded_a16_completely_round_weighted_fraction', 't07_rounded_a16_completely_round_debiased', 't07_rounded_a16_completely_round_flag', 't07_rounded_a17_in_between_count', 't07_rounded_a17_in_between_weight', 't07_rounded_a17_in_between_fraction', 't07_rounded_a17_in_between_weighted_fraction', 't07_rounded_a17_in_between_debiased', 't07_rounded_a17_in_between_flag', 't07_rounded_a18_cigar_shaped_count', 't07_rounded_a18_cigar_shaped_weight', 't07_rounded_a18_cigar_shaped_fraction', 't07_rounded_a18_cigar_shaped_weighted_fraction', 't07_rounded_a18_cigar_shaped_debiased', 't07_rounded_a18_cigar_shaped_flag', 't08_odd_feature_a19_ring_count', 't08_odd_feature_a19_ring_weight', 't08_odd_feature_a19_ring_fraction', 't08_odd_feature_a19_ring_weighted_fraction', 't08_odd_feature_a19_ring_debiased', 't08_odd_feature_a19_ring_flag', 't08_odd_feature_a20_lens_or_arc_count', 't08_odd_feature_a20_lens_or_arc_weight', 't08_odd_feature_a20_lens_or_arc_fraction', 't08_odd_feature_a20_lens_or_arc_weighted_fraction', 't08_odd_feature_a20_lens_or_arc_debiased', 't08_odd_feature_a20_lens_or_arc_flag', 't08_odd_feature_a21_disturbed_count', 't08_odd_feature_a21_disturbed_weight', 't08_odd_feature_a21_disturbed_fraction', 't08_odd_feature_a21_disturbed_weighted_fraction', 't08_odd_feature_a21_disturbed_debiased', 't08_odd_feature_a21_disturbed_flag', 't08_odd_feature_a22_irregular_count', 't08_odd_feature_a22_irregular_weight', 't08_odd_feature_a22_irregular_fraction', 't08_odd_feature_a22_irregular_weighted_fraction', 't08_odd_feature_a22_irregular_debiased', 't08_odd_feature_a22_irregular_flag', 't08_odd_feature_a23_other_count', 't08_odd_feature_a23_other_weight', 't08_odd_feature_a23_other_fraction', 't08_odd_feature_a23_other_weighted_fraction', 't08_odd_feature_a23_other_debiased', 't08_odd_feature_a23_other_flag', 't08_odd_feature_a24_merger_count', 't08_odd_feature_a24_merger_weight', 't08_odd_feature_a24_merger_fraction', 't08_odd_feature_a24_merger_weighted_fraction', 't08_odd_feature_a24_merger_debiased', 't08_odd_feature_a24_merger_flag', 't08_odd_feature_a38_dust_lane_count', 't08_odd_feature_a38_dust_lane_weight', 't08_odd_feature_a38_dust_lane_fraction', 't08_odd_feature_a38_dust_lane_weighted_fraction', 't08_odd_feature_a38_dust_lane_debiased', 't08_odd_feature_a38_dust_lane_flag', 't09_bulge_shape_a25_rounded_count', 't09_bulge_shape_a25_rounded_weight', 't09_bulge_shape_a25_rounded_fraction', 't09_bulge_shape_a25_rounded_weighted_fraction', 't09_bulge_shape_a25_rounded_debiased', 't09_bulge_shape_a25_rounded_flag', 't09_bulge_shape_a26_boxy_count', 't09_bulge_shape_a26_boxy_weight', 't09_bulge_shape_a26_boxy_fraction', 't09_bulge_shape_a26_boxy_weighted_fraction', 't09_bulge_shape_a26_boxy_debiased', 't09_bulge_shape_a26_boxy_flag', 't09_bulge_shape_a27_no_bulge_count', 't09_bulge_shape_a27_no_bulge_weight', 't09_bulge_shape_a27_no_bulge_fraction', 't09_bulge_shape_a27_no_bulge_weighted_fraction', 't09_bulge_shape_a27_no_bulge_debiased', 't09_bulge_shape_a27_no_bulge_flag', 't10_arms_winding_a28_tight_count', 't10_arms_winding_a28_tight_weight', 't10_arms_winding_a28_tight_fraction', 't10_arms_winding_a28_tight_weighted_fraction', 't10_arms_winding_a28_tight_debiased', 't10_arms_winding_a28_tight_flag', 't10_arms_winding_a29_medium_count', 't10_arms_winding_a29_medium_weight', 't10_arms_winding_a29_medium_fraction', 't10_arms_winding_a29_medium_weighted_fraction', 't10_arms_winding_a29_medium_debiased', 't10_arms_winding_a29_medium_flag', 't10_arms_winding_a30_loose_count', 't10_arms_winding_a30_loose_weight', 't10_arms_winding_a30_loose_fraction', 't10_arms_winding_a30_loose_weighted_fraction', 't10_arms_winding_a30_loose_debiased', 't10_arms_winding_a30_loose_flag', 't11_arms_number_a31_1_count', 't11_arms_number_a31_1_weight', 't11_arms_number_a31_1_fraction', 't11_arms_number_a31_1_weighted_fraction', 't11_arms_number_a31_1_debiased', 't11_arms_number_a31_1_flag', 't11_arms_number_a32_2_count', 't11_arms_number_a32_2_weight', 't11_arms_number_a32_2_fraction', 't11_arms_number_a32_2_weighted_fraction', 't11_arms_number_a32_2_debiased', 't11_arms_number_a32_2_flag', 't11_arms_number_a33_3_count', 't11_arms_number_a33_3_weight', 't11_arms_number_a33_3_fraction', 't11_arms_number_a33_3_weighted_fraction', 't11_arms_number_a33_3_debiased', 't11_arms_number_a33_3_flag', 't11_arms_number_a34_4_count', 't11_arms_number_a34_4_weight', 't11_arms_number_a34_4_fraction', 't11_arms_number_a34_4_weighted_fraction', 't11_arms_number_a34_4_debiased', 't11_arms_number_a34_4_flag', 't11_arms_number_a36_more_than_4_count', 't11_arms_number_a36_more_than_4_weight', 't11_arms_number_a36_more_than_4_fraction', 't11_arms_number_a36_more_than_4_weighted_fraction', 't11_arms_number_a36_more_than_4_debiased', 't11_arms_number_a36_more_than_4_flag', 't11_arms_number_a37_cant_tell_count', 't11_arms_number_a37_cant_tell_weight', 't11_arms_number_a37_cant_tell_fraction', 't11_arms_number_a37_cant_tell_weighted_fraction', 't11_arms_number_a37_cant_tell_debiased', 't11_arms_number_a37_cant_tell_flag']\n"
     ]
    }
   ],
   "source": [
    "print(list(main_catalogue.columns))"
   ]
  },
  {
   "cell_type": "code",
   "execution_count": 8,
   "metadata": {},
   "outputs": [
    {
     "name": "stdout",
     "output_type": "stream",
     "text": [
      "(243500, 2)\n"
     ]
    },
    {
     "data": {
      "text/html": [
       "<div>\n",
       "<style scoped>\n",
       "    .dataframe tbody tr th:only-of-type {\n",
       "        vertical-align: middle;\n",
       "    }\n",
       "\n",
       "    .dataframe tbody tr th {\n",
       "        vertical-align: top;\n",
       "    }\n",
       "\n",
       "    .dataframe thead th {\n",
       "        text-align: right;\n",
       "    }\n",
       "</style>\n",
       "<table border=\"1\" class=\"dataframe\">\n",
       "  <thead>\n",
       "    <tr style=\"text-align: right;\">\n",
       "      <th></th>\n",
       "      <th>dr7ID</th>\n",
       "      <th>class</th>\n",
       "    </tr>\n",
       "  </thead>\n",
       "  <tbody>\n",
       "    <tr>\n",
       "      <th>0</th>\n",
       "      <td>588017703996096547</td>\n",
       "      <td>SBb?t</td>\n",
       "    </tr>\n",
       "    <tr>\n",
       "      <th>1</th>\n",
       "      <td>587738569780428805</td>\n",
       "      <td>Ser</td>\n",
       "    </tr>\n",
       "    <tr>\n",
       "      <th>2</th>\n",
       "      <td>587735695913320507</td>\n",
       "      <td>Sc+t</td>\n",
       "    </tr>\n",
       "    <tr>\n",
       "      <th>3</th>\n",
       "      <td>587742775634624545</td>\n",
       "      <td>SBc(r)</td>\n",
       "    </tr>\n",
       "    <tr>\n",
       "      <th>4</th>\n",
       "      <td>587732769983889439</td>\n",
       "      <td>Ser</td>\n",
       "    </tr>\n",
       "  </tbody>\n",
       "</table>\n",
       "</div>"
      ],
      "text/plain": [
       "                dr7ID   class\n",
       "0  588017703996096547   SBb?t\n",
       "1  587738569780428805     Ser\n",
       "2  587735695913320507    Sc+t\n",
       "3  587742775634624545  SBc(r)\n",
       "4  587732769983889439     Ser"
      ]
     },
     "execution_count": 8,
     "metadata": {},
     "output_type": "execute_result"
    }
   ],
   "source": [
    "# create modified main catalogue\n",
    "model_01_catalogue = pd.DataFrame()\n",
    "model_01_catalogue['dr7ID'] = main_catalogue['dr7objid']\n",
    "model_01_catalogue['class'] = main_catalogue['gz2class']\n",
    "print(model_01_catalogue.shape)\n",
    "model_01_catalogue.head()"
   ]
  },
  {
   "cell_type": "code",
   "execution_count": 9,
   "metadata": {},
   "outputs": [
    {
     "data": {
      "text/plain": [
       "(243253, 2)"
      ]
     },
     "execution_count": 9,
     "metadata": {},
     "output_type": "execute_result"
    }
   ],
   "source": [
    "model_01_catalogue.drop(model_01_catalogue[model_01_catalogue['class'] == 'A'].index, inplace=True)\n",
    "model_01_catalogue.shape"
   ]
  },
  {
   "cell_type": "code",
   "execution_count": 10,
   "metadata": {},
   "outputs": [
    {
     "data": {
      "text/html": [
       "<div>\n",
       "<style scoped>\n",
       "    .dataframe tbody tr th:only-of-type {\n",
       "        vertical-align: middle;\n",
       "    }\n",
       "\n",
       "    .dataframe tbody tr th {\n",
       "        vertical-align: top;\n",
       "    }\n",
       "\n",
       "    .dataframe thead th {\n",
       "        text-align: right;\n",
       "    }\n",
       "</style>\n",
       "<table border=\"1\" class=\"dataframe\">\n",
       "  <thead>\n",
       "    <tr style=\"text-align: right;\">\n",
       "      <th></th>\n",
       "      <th>dr7ID</th>\n",
       "      <th>class</th>\n",
       "      <th>asset_id</th>\n",
       "    </tr>\n",
       "  </thead>\n",
       "  <tbody>\n",
       "    <tr>\n",
       "      <th>0</th>\n",
       "      <td>587722981741363294</td>\n",
       "      <td>Ei0000</td>\n",
       "      <td>3</td>\n",
       "    </tr>\n",
       "    <tr>\n",
       "      <th>1</th>\n",
       "      <td>587722981741363323</td>\n",
       "      <td>Sc0000</td>\n",
       "      <td>4</td>\n",
       "    </tr>\n",
       "    <tr>\n",
       "      <th>2</th>\n",
       "      <td>587722981741559888</td>\n",
       "      <td>Er0000</td>\n",
       "      <td>5</td>\n",
       "    </tr>\n",
       "    <tr>\n",
       "      <th>3</th>\n",
       "      <td>587722981741625481</td>\n",
       "      <td>Er0000</td>\n",
       "      <td>6</td>\n",
       "    </tr>\n",
       "    <tr>\n",
       "      <th>4</th>\n",
       "      <td>587722981741625484</td>\n",
       "      <td>Ei0000</td>\n",
       "      <td>7</td>\n",
       "    </tr>\n",
       "  </tbody>\n",
       "</table>\n",
       "</div>"
      ],
      "text/plain": [
       "                dr7ID   class  asset_id\n",
       "0  587722981741363294  Ei0000         3\n",
       "1  587722981741363323  Sc0000         4\n",
       "2  587722981741559888  Er0000         5\n",
       "3  587722981741625481  Er0000         6\n",
       "4  587722981741625484  Ei0000         7"
      ]
     },
     "execution_count": 10,
     "metadata": {},
     "output_type": "execute_result"
    }
   ],
   "source": [
    "# connecting each class with the corresponding asset_id\n",
    "model_01_catalogue = model_01_catalogue.merge(\n",
    "    reference_images[['objid', 'asset_id']], \n",
    "    left_on='dr7ID', \n",
    "    right_on='objid', \n",
    "    how='left'\n",
    ").drop(columns=['objid'])  # Drop extra 'objid' column after merging\n",
    "model_01_catalogue = model_01_catalogue.sort_values(by=['asset_id']).reset_index(drop=True)\n",
    "\n",
    "model_01_catalogue['class'] = model_01_catalogue['class'].apply(lambda x: x.replace('(', '').replace(')', '').ljust(6, '0'))\n",
    "model_01_catalogue.head()"
   ]
  },
  {
   "cell_type": "code",
   "execution_count": 11,
   "metadata": {},
   "outputs": [
    {
     "data": {
      "text/html": [
       "<div>\n",
       "<style scoped>\n",
       "    .dataframe tbody tr th:only-of-type {\n",
       "        vertical-align: middle;\n",
       "    }\n",
       "\n",
       "    .dataframe tbody tr th {\n",
       "        vertical-align: top;\n",
       "    }\n",
       "\n",
       "    .dataframe thead th {\n",
       "        text-align: right;\n",
       "    }\n",
       "</style>\n",
       "<table border=\"1\" class=\"dataframe\">\n",
       "  <thead>\n",
       "    <tr style=\"text-align: right;\">\n",
       "      <th></th>\n",
       "      <th>r1</th>\n",
       "      <th>r2</th>\n",
       "      <th>r3</th>\n",
       "      <th>r4</th>\n",
       "      <th>r5</th>\n",
       "      <th>asset_id</th>\n",
       "    </tr>\n",
       "  </thead>\n",
       "  <tbody>\n",
       "    <tr>\n",
       "      <th>0</th>\n",
       "      <td>E</td>\n",
       "      <td>is</td>\n",
       "      <td>0</td>\n",
       "      <td>0</td>\n",
       "      <td>0</td>\n",
       "      <td>3</td>\n",
       "    </tr>\n",
       "    <tr>\n",
       "      <th>1</th>\n",
       "      <td>S</td>\n",
       "      <td>c</td>\n",
       "      <td>0</td>\n",
       "      <td>0</td>\n",
       "      <td>0</td>\n",
       "      <td>4</td>\n",
       "    </tr>\n",
       "    <tr>\n",
       "      <th>2</th>\n",
       "      <td>E</td>\n",
       "      <td>rs</td>\n",
       "      <td>0</td>\n",
       "      <td>0</td>\n",
       "      <td>0</td>\n",
       "      <td>5</td>\n",
       "    </tr>\n",
       "    <tr>\n",
       "      <th>3</th>\n",
       "      <td>E</td>\n",
       "      <td>rs</td>\n",
       "      <td>0</td>\n",
       "      <td>0</td>\n",
       "      <td>0</td>\n",
       "      <td>6</td>\n",
       "    </tr>\n",
       "    <tr>\n",
       "      <th>4</th>\n",
       "      <td>E</td>\n",
       "      <td>is</td>\n",
       "      <td>0</td>\n",
       "      <td>0</td>\n",
       "      <td>0</td>\n",
       "      <td>7</td>\n",
       "    </tr>\n",
       "    <tr>\n",
       "      <th>5</th>\n",
       "      <td>E</td>\n",
       "      <td>is</td>\n",
       "      <td>0</td>\n",
       "      <td>0</td>\n",
       "      <td>0</td>\n",
       "      <td>8</td>\n",
       "    </tr>\n",
       "    <tr>\n",
       "      <th>6</th>\n",
       "      <td>E</td>\n",
       "      <td>rs</td>\n",
       "      <td>0</td>\n",
       "      <td>0</td>\n",
       "      <td>0</td>\n",
       "      <td>9</td>\n",
       "    </tr>\n",
       "    <tr>\n",
       "      <th>7</th>\n",
       "      <td>E</td>\n",
       "      <td>rs</td>\n",
       "      <td>0</td>\n",
       "      <td>0</td>\n",
       "      <td>0</td>\n",
       "      <td>11</td>\n",
       "    </tr>\n",
       "    <tr>\n",
       "      <th>8</th>\n",
       "      <td>S</td>\n",
       "      <td>c</td>\n",
       "      <td>0</td>\n",
       "      <td>0</td>\n",
       "      <td>0</td>\n",
       "      <td>12</td>\n",
       "    </tr>\n",
       "    <tr>\n",
       "      <th>9</th>\n",
       "      <td>E</td>\n",
       "      <td>cs</td>\n",
       "      <td>0</td>\n",
       "      <td>0</td>\n",
       "      <td>0</td>\n",
       "      <td>13</td>\n",
       "    </tr>\n",
       "  </tbody>\n",
       "</table>\n",
       "</div>"
      ],
      "text/plain": [
       "  r1  r2 r3 r4 r5  asset_id\n",
       "0  E  is  0  0  0         3\n",
       "1  S   c  0  0  0         4\n",
       "2  E  rs  0  0  0         5\n",
       "3  E  rs  0  0  0         6\n",
       "4  E  is  0  0  0         7\n",
       "5  E  is  0  0  0         8\n",
       "6  E  rs  0  0  0         9\n",
       "7  E  rs  0  0  0        11\n",
       "8  S   c  0  0  0        12\n",
       "9  E  cs  0  0  0        13"
      ]
     },
     "execution_count": 11,
     "metadata": {},
     "output_type": "execute_result"
    }
   ],
   "source": [
    "# creating a label diagram table\n",
    "label_diagram = pd.DataFrame(columns=['r1', 'r2', 'r3', 'r4', 'r5'])\n",
    "label_diagram['asset_id'] = model_01_catalogue['asset_id']\n",
    "label_diagram['r1'] = model_01_catalogue['class'].apply(choose_class1)\n",
    "label_diagram['r2'] = model_01_catalogue['class'].apply(choose_class2)\n",
    "label_diagram['r3'] = model_01_catalogue['class'].apply(choose_class3)\n",
    "label_diagram['r4'] = model_01_catalogue['class'].apply(choose_class4)\n",
    "label_diagram['r5'] = model_01_catalogue['class'].apply(choose_class5)\n",
    "label_diagram.head(10)"
   ]
  },
  {
   "cell_type": "code",
   "execution_count": 12,
   "metadata": {},
   "outputs": [],
   "source": [
    "label_diagram.to_csv(\"../input/label_diagram.csv\", index=False)"
   ]
  },
  {
   "cell_type": "code",
   "execution_count": 13,
   "metadata": {},
   "outputs": [
    {
     "data": {
      "text/plain": [
       "['Eis', 'Sc', 'Ers', 'Ers', 'Eis', 'Eis', 'Ers', 'Ers', 'Sc', 'Ecs']"
      ]
     },
     "execution_count": 13,
     "metadata": {},
     "output_type": "execute_result"
    }
   ],
   "source": [
    "labels_bench = [label_diagram[\"r1\"][x]+label_diagram[\"r2\"][x] for x in range(label_diagram.shape[0])]\n",
    "labels_bench[:10]"
   ]
  },
  {
   "cell_type": "code",
   "execution_count": 14,
   "metadata": {},
   "outputs": [
    {
     "name": "stdout",
     "output_type": "stream",
     "text": [
      "14\n"
     ]
    }
   ],
   "source": [
    "unique_count = len(set(labels_bench))\n",
    "print(unique_count)"
   ]
  },
  {
   "cell_type": "code",
   "execution_count": 15,
   "metadata": {},
   "outputs": [],
   "source": [
    "label_mapping = {label_diagram['asset_id'][x]: labels_bench[x] for x in range(len(labels_bench))}"
   ]
  },
  {
   "cell_type": "markdown",
   "metadata": {},
   "source": [
    "---"
   ]
  },
  {
   "cell_type": "code",
   "execution_count": 16,
   "metadata": {},
   "outputs": [],
   "source": [
    "imgs_path = '../input/images_gz2/images/'\n",
    "W, H, C = 224, 224, 4"
   ]
  },
  {
   "cell_type": "code",
   "execution_count": 17,
   "metadata": {},
   "outputs": [
    {
     "name": "stdout",
     "output_type": "stream",
     "text": [
      "file list loaded\n"
     ]
    }
   ],
   "source": [
    "file_list = create_file_list(imgs_path, label_diagram)\n",
    "print('file list loaded')"
   ]
  },
  {
   "cell_type": "code",
   "execution_count": 23,
   "metadata": {},
   "outputs": [],
   "source": [
    "n = 10000"
   ]
  },
  {
   "cell_type": "code",
   "execution_count": 24,
   "metadata": {},
   "outputs": [
    {
     "name": "stdout",
     "output_type": "stream",
     "text": [
      "243253 243253\n",
      "['../input/images_gz2/images/100.jpg', '../input/images_gz2/images/1000.jpg']\n",
      "['S', 'E']\n"
     ]
    }
   ],
   "source": [
    "images_orig, labels_orig = data_setup(file_list, label_diagram, n)"
   ]
  },
  {
   "cell_type": "code",
   "execution_count": 25,
   "metadata": {},
   "outputs": [
    {
     "data": {
      "text/plain": [
       "[('../input/images_gz2/images/100.jpg', 'S'),\n",
       " ('../input/images_gz2/images/1000.jpg', 'E'),\n",
       " ('../input/images_gz2/images/10000.jpg', 'E'),\n",
       " ('../input/images_gz2/images/100000.jpg', 'Se'),\n",
       " ('../input/images_gz2/images/100001.jpg', 'E')]"
      ]
     },
     "execution_count": 25,
     "metadata": {},
     "output_type": "execute_result"
    }
   ],
   "source": [
    "pairs = [(images_orig[x],labels_orig[x]) for x in range(len(images_orig))]\n",
    "pairs[:5]"
   ]
  },
  {
   "cell_type": "code",
   "execution_count": 28,
   "metadata": {},
   "outputs": [
    {
     "name": "stdout",
     "output_type": "stream",
     "text": [
      "103515\n",
      "94332\n",
      "21402\n",
      "24004\n"
     ]
    }
   ],
   "source": [
    "label0 = [x for x in pairs if x[1]=='E']\n",
    "print(len(label0))\n",
    "label1 = [x for x in pairs if x[1]=='S']\n",
    "print(len(label1))\n",
    "label2 = [x for x in pairs if x[1]=='SB']\n",
    "print(len(label2))\n",
    "label3 = [x for x in pairs if x[1]=='Se']\n",
    "print(len(label3))"
   ]
  },
  {
   "cell_type": "code",
   "execution_count": 31,
   "metadata": {},
   "outputs": [
    {
     "name": "stdout",
     "output_type": "stream",
     "text": [
      "10000 [('../input/images_gz2/images/259734.jpg', 'E'), ('../input/images_gz2/images/19826.jpg', 'E'), ('../input/images_gz2/images/65764.jpg', 'E')]\n",
      "10000 [('../input/images_gz2/images/245872.jpg', 'S'), ('../input/images_gz2/images/53148.jpg', 'S'), ('../input/images_gz2/images/64301.jpg', 'S')]\n",
      "10000 [('../input/images_gz2/images/71807.jpg', 'SB'), ('../input/images_gz2/images/91754.jpg', 'SB'), ('../input/images_gz2/images/134536.jpg', 'SB')]\n",
      "10000 [('../input/images_gz2/images/198321.jpg', 'Se'), ('../input/images_gz2/images/255406.jpg', 'Se'), ('../input/images_gz2/images/1404.jpg', 'Se')]\n"
     ]
    }
   ],
   "source": [
    "label0_selection = random.sample(label0, n)\n",
    "print(len(label0_selection), label0_selection[:3])\n",
    "\n",
    "label1_selection = random.sample(label1, n)\n",
    "print(len(label1_selection), label1_selection[:3])\n",
    "\n",
    "label2_selection = random.sample(label2, n)\n",
    "print(len(label2_selection), label2_selection[:3])\n",
    "\n",
    "label3_selection = random.sample(label3, n)\n",
    "print(len(label3_selection), label3_selection[:3])"
   ]
  },
  {
   "cell_type": "code",
   "execution_count": 32,
   "metadata": {},
   "outputs": [
    {
     "name": "stdout",
     "output_type": "stream",
     "text": [
      "40000 [('../input/images_gz2/images/259734.jpg', 'E'), ('../input/images_gz2/images/19826.jpg', 'E'), ('../input/images_gz2/images/65764.jpg', 'E'), ('../input/images_gz2/images/21116.jpg', 'E'), ('../input/images_gz2/images/167749.jpg', 'E')]\n"
     ]
    }
   ],
   "source": [
    "pairs_rand = label0_selection + label1_selection + label2_selection + label3_selection\n",
    "print(len(pairs_rand), pairs_rand[:5])"
   ]
  },
  {
   "cell_type": "code",
   "execution_count": 33,
   "metadata": {},
   "outputs": [
    {
     "name": "stdout",
     "output_type": "stream",
     "text": [
      "['../input/images_gz2/images/259734.jpg', '../input/images_gz2/images/19826.jpg'] ['E', 'E']\n"
     ]
    }
   ],
   "source": [
    "images_orig = [x[0] for x in pairs_rand]\n",
    "labels_orig = [x[1] for x in pairs_rand]\n",
    "\n",
    "print(images_orig[:2], labels_orig[:2])"
   ]
  },
  {
   "cell_type": "code",
   "execution_count": 18,
   "metadata": {},
   "outputs": [],
   "source": []
  },
  {
   "cell_type": "code",
   "execution_count": 21,
   "metadata": {},
   "outputs": [
    {
     "data": {
      "text/plain": [
       "array([1., 1., 8., 4., 5., 9., 1., 3., 1., 5., 1., 4., 9., 3., 8., 1., 9.,\n",
       "       1., 4., 0., 8., 5., 4., 4., 9., 7., 8., 5., 4., 4., 5., 4., 3., 1.,\n",
       "       8., 4., 8., 5., 9., 1., 1., 9., 5., 5., 5., 8., 8., 1., 6., 8., 5.,\n",
       "       8., 4., 5., 4., 7., 1., 8., 5., 4., 5., 9., 5., 5., 8., 8., 4., 8.,\n",
       "       7., 5., 8., 3., 4., 5., 8., 9., 4., 8., 1., 4., 5., 1., 8., 4., 1.,\n",
       "       5., 5., 9., 9., 1., 5., 1., 6., 9., 1., 5., 9., 1., 2., 5., 4., 4.,\n",
       "       1., 1., 5., 1., 3., 1., 1., 1., 8., 1., 8., 5., 4., 1., 5., 1., 4.,\n",
       "       7., 5., 4., 1., 4., 4., 8., 9., 3., 8., 4., 1., 7., 3., 1., 4., 5.,\n",
       "       9., 5., 4., 4., 1., 4., 8., 9., 1., 1., 1., 8., 5., 8., 7., 6., 8.,\n",
       "       5., 5., 1., 4., 5., 1., 7., 4., 1., 7., 8., 4., 4., 4., 1., 0., 5.,\n",
       "       8., 5., 4., 1., 5., 5., 4., 1., 5., 3., 5., 9., 3., 1., 4., 4., 5.,\n",
       "       1., 4., 4., 8., 4., 9., 9., 1., 4., 5., 9., 1., 9., 4., 1., 1., 1.,\n",
       "       5., 3., 1., 5., 5., 8., 4., 1., 5., 5., 4., 8., 4., 4., 3., 5., 5.,\n",
       "       5., 1., 5., 4., 5., 1., 5., 3., 3., 1., 3., 7., 8., 4., 5., 7., 1.,\n",
       "       8., 4., 7., 8., 1., 1., 8., 1., 9., 1., 4., 4., 8., 9., 4., 9., 1.,\n",
       "       5., 1., 1., 4., 9., 8., 5., 1., 1., 3., 3., 1., 5., 9., 2., 5., 4.,\n",
       "       6., 1., 9., 5., 5., 1., 9., 4., 1., 1., 9., 5., 5., 9., 4., 1., 4.,\n",
       "       4., 4., 7., 9., 4., 3., 5., 5., 3., 9., 8., 1., 5., 1., 9., 4., 3.,\n",
       "       4., 9., 9., 4., 5., 9., 5., 8., 9., 1., 8., 9., 3., 5., 9., 1., 0.,\n",
       "       1., 1., 5., 5., 5., 8., 5., 8., 8., 8., 3., 4., 5., 1., 5., 4., 8.,\n",
       "       5., 1., 1., 1., 1., 1., 9., 1., 5., 8., 5., 4., 6., 1., 1., 3., 8.,\n",
       "       9., 4., 3., 5., 5., 8., 4., 1., 8., 9., 1., 1., 1., 5., 5., 8., 1.,\n",
       "       5., 9., 9., 1., 8., 4., 2., 5., 5., 7., 1., 5., 4., 4., 5., 1., 5.,\n",
       "       8., 4., 5., 1., 1., 8., 5., 1., 1., 1., 1., 5., 9., 3., 1., 5., 3.,\n",
       "       4.], dtype=float32)"
      ]
     },
     "execution_count": 21,
     "metadata": {},
     "output_type": "execute_result"
    }
   ],
   "source": [
    "labels[1]"
   ]
  },
  {
   "cell_type": "code",
   "execution_count": 17,
   "metadata": {},
   "outputs": [],
   "source": [
    "outputs = np.load('../output/outputs_test.npy', allow_pickle=True)"
   ]
  },
  {
   "cell_type": "code",
   "execution_count": 18,
   "metadata": {},
   "outputs": [
    {
     "data": {
      "text/plain": [
       "array([[2., 2., 2., 2., 2., 2., 2., 2., 2., 2., 2., 2., 2., 2., 2., 2.,\n",
       "        2., 2., 2., 2., 2., 2., 2., 2., 2., 2., 2., 2., 2., 2., 2., 2.,\n",
       "        2., 2., 2., 2., 2., 2., 2., 2., 2., 2., 2., 2., 2., 2., 2., 2.,\n",
       "        2., 2., 2., 2., 2., 2., 2., 2., 2., 2., 2., 2., 2., 2., 2., 2.,\n",
       "        2., 2., 2., 2., 2., 2., 2., 2., 2., 2., 2., 2., 2., 2., 2., 2.,\n",
       "        2., 2., 2., 2., 0., 2., 2., 2., 2., 2., 2., 2., 2., 2., 2., 2.,\n",
       "        2., 2., 2., 2., 2., 2., 2., 2., 2., 2., 2., 2., 2., 2., 2., 2.,\n",
       "        2., 2., 2., 2., 2., 2., 2., 2., 2., 2., 2., 2., 2., 2., 2., 2.,\n",
       "        2., 2., 2., 2., 2., 2., 2., 2., 2., 2., 2., 2., 2., 2., 2., 2.,\n",
       "        2., 2., 0., 2., 2., 2., 2., 2., 2., 0., 2., 2., 2., 2., 2., 2.,\n",
       "        2., 2., 2., 2., 2., 2., 2., 2., 0., 2., 2., 2., 2., 2., 2., 2.,\n",
       "        2., 2., 2., 2., 2., 2., 2., 2., 2., 2., 2., 2., 2., 2., 2., 2.,\n",
       "        2., 2., 0., 2., 2., 2., 2., 2., 2., 2., 2., 2., 2., 2., 2., 2.,\n",
       "        2., 2., 2., 2., 2., 2., 2., 2., 2., 2., 2., 2., 2., 2., 2., 2.,\n",
       "        2., 2., 2., 2., 2., 2., 2., 2., 2., 2., 2., 2., 2., 2., 2., 2.,\n",
       "        2., 2., 2., 2., 2., 2., 2., 2., 2., 2., 2., 2., 2., 2., 2., 2.,\n",
       "        2., 2., 2., 2., 2., 2., 2., 2., 2., 2., 2., 2., 2., 2., 2., 2.,\n",
       "        2., 2., 2., 2., 2., 2., 2., 2., 2., 2., 2., 2., 2., 2., 2., 2.,\n",
       "        2., 2., 2., 2., 2., 2., 2., 2., 2., 2., 2., 2., 2., 2., 2., 2.,\n",
       "        2., 2., 2., 2., 2., 2., 2., 2., 2., 2., 2., 2., 2., 2., 2., 2.,\n",
       "        2., 2., 2., 2., 2., 2., 2., 2., 2., 2., 2., 2., 2., 2., 2., 2.,\n",
       "        2., 2., 2., 2., 2., 2., 2., 2., 2., 2., 2., 2., 2., 2., 2., 2.,\n",
       "        2., 2., 2., 2., 2., 2., 2., 2., 2., 2., 2., 2., 2., 2., 2., 2.,\n",
       "        2., 2., 2., 2., 2., 2., 2., 2., 2., 2., 2., 2., 2., 2., 2., 2.,\n",
       "        2., 2., 2., 2., 2., 2., 2., 2., 2., 2., 2., 2., 2., 2., 2., 2.,\n",
       "        2., 2., 2., 2., 2., 2., 2., 2., 2.],\n",
       "       [1., 1., 1., 1., 1., 1., 1., 1., 1., 1., 1., 1., 1., 1., 1., 1.,\n",
       "        1., 1., 1., 1., 1., 1., 1., 1., 1., 1., 1., 1., 1., 1., 1., 1.,\n",
       "        1., 1., 1., 1., 1., 1., 8., 1., 1., 1., 1., 1., 1., 1., 1., 1.,\n",
       "        1., 1., 1., 1., 1., 1., 1., 1., 1., 1., 1., 1., 1., 1., 1., 1.,\n",
       "        1., 1., 1., 1., 1., 1., 1., 1., 1., 1., 1., 1., 1., 1., 1., 1.,\n",
       "        1., 1., 1., 1., 1., 1., 1., 1., 1., 1., 1., 1., 1., 1., 1., 1.,\n",
       "        1., 1., 1., 1., 1., 1., 1., 1., 1., 1., 1., 1., 1., 1., 1., 1.,\n",
       "        1., 1., 1., 1., 1., 1., 1., 1., 1., 1., 1., 1., 1., 1., 1., 1.,\n",
       "        1., 1., 1., 1., 1., 1., 1., 1., 1., 1., 1., 1., 1., 1., 1., 1.,\n",
       "        1., 1., 1., 1., 1., 1., 1., 1., 1., 1., 1., 1., 1., 1., 1., 1.,\n",
       "        1., 1., 1., 1., 1., 1., 8., 1., 1., 1., 1., 1., 1., 1., 1., 1.,\n",
       "        1., 1., 1., 1., 1., 1., 1., 1., 1., 1., 1., 1., 1., 1., 1., 1.,\n",
       "        1., 1., 1., 1., 1., 1., 1., 1., 1., 1., 1., 1., 1., 1., 1., 1.,\n",
       "        1., 1., 1., 1., 1., 1., 1., 1., 1., 1., 1., 1., 1., 1., 1., 1.,\n",
       "        1., 1., 1., 1., 1., 1., 1., 1., 1., 1., 1., 1., 1., 1., 1., 1.,\n",
       "        1., 1., 1., 1., 1., 1., 1., 1., 1., 1., 1., 1., 1., 1., 1., 1.,\n",
       "        1., 1., 1., 1., 1., 1., 1., 1., 1., 1., 1., 1., 1., 1., 1., 1.,\n",
       "        1., 1., 1., 1., 1., 1., 1., 1., 1., 1., 1., 1., 1., 1., 1., 1.,\n",
       "        8., 1., 1., 1., 1., 1., 1., 1., 1., 1., 1., 1., 1., 1., 1., 1.,\n",
       "        1., 1., 1., 1., 1., 1., 1., 1., 1., 1., 1., 1., 1., 1., 1., 1.,\n",
       "        1., 1., 1., 1., 1., 1., 1., 1., 1., 1., 1., 1., 1., 1., 1., 1.,\n",
       "        1., 1., 1., 1., 1., 1., 1., 1., 1., 1., 1., 1., 1., 1., 1., 1.,\n",
       "        1., 1., 1., 1., 1., 1., 1., 1., 1., 1., 1., 1., 1., 1., 1., 1.,\n",
       "        1., 1., 1., 1., 1., 1., 1., 1., 1., 1., 1., 1., 1., 1., 1., 1.,\n",
       "        1., 1., 1., 1., 1., 1., 1., 1., 1., 1., 1., 1., 1., 1., 1., 1.,\n",
       "        1., 8., 1., 8., 1., 1., 1., 1., 1.]], dtype=float32)"
      ]
     },
     "execution_count": 18,
     "metadata": {},
     "output_type": "execute_result"
    }
   ],
   "source": [
    "outputs"
   ]
  },
  {
   "cell_type": "code",
   "execution_count": 19,
   "metadata": {},
   "outputs": [],
   "source": [
    "class_mapping = {x : i for i, x in enumerate(sorted(set(labels_bench)))}"
   ]
  },
  {
   "cell_type": "code",
   "execution_count": 20,
   "metadata": {},
   "outputs": [
    {
     "data": {
      "text/plain": [
       "{'Ecs': 0,\n",
       " 'Eis': 1,\n",
       " 'Ers': 2,\n",
       " 'SBa': 3,\n",
       " 'SBb': 4,\n",
       " 'SBc': 5,\n",
       " 'SBd': 6,\n",
       " 'Sa': 7,\n",
       " 'Sb': 8,\n",
       " 'Sc': 9,\n",
       " 'Sd': 10,\n",
       " 'Sebb': 11,\n",
       " 'Sebn': 12,\n",
       " 'Sebr': 13}"
      ]
     },
     "execution_count": 20,
     "metadata": {},
     "output_type": "execute_result"
    }
   ],
   "source": [
    "class_mapping"
   ]
  },
  {
   "cell_type": "markdown",
   "metadata": {},
   "source": [
    "---"
   ]
  },
  {
   "cell_type": "code",
   "execution_count": 17,
   "metadata": {},
   "outputs": [],
   "source": [
    "results = np.load('../output/results_runs.npy', allow_pickle=True)\n",
    "resultsc = np.load('../output/results_runs_class.npy', allow_pickle=True)"
   ]
  },
  {
   "cell_type": "code",
   "execution_count": 23,
   "metadata": {},
   "outputs": [
    {
     "data": {
      "text/plain": [
       "array([['r1',\n",
       "        {0: [1.2096129215785436, 0.45357142857142857, 0.4528702786861055, 0.4535714285714285, 0.45307822399942477, 0.9027181520487928, 0.601591109988635, 0.6067478635072794, 0.6015492851710639, 0.5884802727218087], 1: [0.9198374888556344, 0.5974285714285714, 0.5844628393414333, 0.5974285714285714, 0.5892812974719454, 0.8568935593747027, 0.6354337668897588, 0.6459924447654894, 0.6354105098483573, 0.6339995070706523], 2: [0.8372845815931048, 0.6451428571428571, 0.634522651978528, 0.6451428571428571, 0.6381290901099541, 0.8352826158571972, 0.6526076524813739, 0.662107785179175, 0.652560470802007, 0.6268835229715335], 3: [0.807861145564488, 0.66425, 0.6545051160891007, 0.66425, 0.6574240681895572, 0.811914674515284, 0.6743275666119459, 0.6722425715292599, 0.674298441718856, 0.6566381904447682], 4: [0.7833852730478559, 0.6788928571428572, 0.6695820375518743, 0.6788928571428572, 0.6722899406505792, 0.8118685594501031, 0.6670034095214042, 0.6811149391475412, 0.6669762940164659, 0.6507295793924746], 5: [0.7493301869119917, 0.6957142857142857, 0.6868166668433039, 0.6957142857142857, 0.6892908074366861, 0.8169846339860428, 0.6795049880035358, 0.699365890982709, 0.6794967104087872, 0.6798790017861477], 6: [0.7312639806611198, 0.7036071428571429, 0.6958110557685866, 0.7036071428571429, 0.6981561317165261, 0.7312387335494637, 0.7033716378330598, 0.7052893110180525, 0.7033476503284488, 0.6932169218769431], 7: [0.7205540875707354, 0.7072857142857143, 0.6992831356613942, 0.7072857142857143, 0.7015157129790384, 0.6872589365635756, 0.7186513448667761, 0.7118482805782977, 0.7186524798260523, 0.7089729982603055], 8: [0.7164585298810686, 0.7108214285714286, 0.703475123797213, 0.7108214285714286, 0.7055984614707658, 0.7098056384749086, 0.7122111377699204, 0.7141630772720825, 0.712192797096789, 0.7062939388577707], 9: [0.6977624584606715, 0.7178928571428571, 0.711339857233761, 0.7178928571428571, 0.7131999421927784, 0.8052497152457831, 0.6701603737845687, 0.7402882341838615, 0.6701280107798552, 0.6757306879299506], 10: [0.6885930890355791, 0.7235, 0.7175222225284902, 0.7235, 0.719302733801084, 0.704254900706147, 0.7173885591615103, 0.7386618422003285, 0.717360504999464, 0.7153173203208797], 11: [0.6831749794142586, 0.7251785714285715, 0.7189128068980138, 0.7251785714285715, 0.7206857060725124, 0.7044054164265063, 0.7094330092183356, 0.7123356946815829, 0.7094120844626151, 0.7008675186025013], 12: [0.6697687112263271, 0.7362142857142857, 0.7303191072498187, 0.7362142857142857, 0.7318533286872764, 0.7219810399733374, 0.7165046091678242, 0.7310429258823439, 0.7165007834790553, 0.7068645103213979], 13: [0.6626896410669599, 0.73775, 0.7316606537912191, 0.73775, 0.7331908650601049, 0.6887967031717692, 0.7171360020204571, 0.7365648878860661, 0.7171148064781213, 0.7193095739310719], 14: [0.6490593300546919, 0.7429285714285714, 0.73749663773659, 0.7429285714285714, 0.7389665374822604, 0.6585420598464717, 0.7380982447278697, 0.7405589621391224, 0.7380925857871286, 0.7389421488458092], 15: [0.6437155369349888, 0.7456071428571428, 0.7402439069785822, 0.7456071428571428, 0.7416747823386824, 0.69075364625609, 0.7141053163278192, 0.7345193303394283, 0.7141069614793718, 0.7183714653688338], 16: [0.6332536979402814, 0.7465, 0.7413342677255865, 0.7465, 0.7427269748526253, 0.6831097709875182, 0.7237024876878394, 0.7367254348766031, 0.7236796336278398, 0.7221735431201406], 17: [0.6309276192528861, 0.7507142857142857, 0.7458783186541449, 0.7507142857142857, 0.7471465637831101, 0.7138653394173065, 0.7165046091678242, 0.7353511074032459, 0.7165004644729254, 0.709826881125226], 18: [0.6225985858099801, 0.75525, 0.7501088624526945, 0.7552500000000001, 0.7514068610705411, 0.6831610313658913, 0.7292587447910089, 0.7337899873735411, 0.7292502462727324, 0.7187883002392452], 19: [0.6200885335377284, 0.7548214285714285, 0.7501463922094374, 0.7548214285714286, 0.751292502256345, 0.6534499350950744, 0.7452961232478849, 0.7467675678311918, 0.7452922989368164, 0.745944683939126], 20: [0.6155928202356611, 0.7575357142857143, 0.7527689573163059, 0.7575357142857143, 0.7539012712094756, 0.6526914586742684, 0.7524940017678999, 0.7480532340845103, 0.7524915654779222, 0.7493703796893578], 21: [0.6060745398998261, 0.7625714285714286, 0.7581651604065963, 0.7625714285714286, 0.7592453900803765, 0.6191623631428703, 0.7580502588710696, 0.7561207487484802, 0.7580479504494159, 0.7567221553268734], 22: [0.6004660514763424, 0.7651428571428571, 0.7609416739593889, 0.7651428571428571, 0.7619188018007657, 0.6836418498117885, 0.7372142947341837, 0.7381132861760991, 0.7372194660092588, 0.7306840134988782], 23: [0.5942960968017578, 0.76525, 0.7608236288832836, 0.76525, 0.7617794382017822, 0.6243186470632497, 0.7541356231847456, 0.7526380465067395, 0.7541290239433242, 0.74818573825508], 24: [0.5856170709814345, 0.7715, 0.7672160843308737, 0.7715, 0.7682036836911211, 0.6594149078258827, 0.7430231089784064, 0.758877020823205, 0.7429981982533777, 0.7397134783394325], 25: [0.5851593889849527, 0.7690714285714285, 0.7650459354328645, 0.7690714285714285, 0.7659041289663223, 0.6247763001966964, 0.7527465589089531, 0.7547452260361531, 0.7527352223600329, 0.7516738610518108], 26: [0.5805702202660696, 0.7735714285714286, 0.7696351918175678, 0.7735714285714286, 0.7705799528486603, 0.6124202436322379, 0.7580502588710696, 0.7583102436495126, 0.7580479504494158, 0.7580691014236471], 27: [0.5727718710899353, 0.7765714285714286, 0.7725738284299242, 0.7765714285714287, 0.7735183622004349, 0.6389680295478878, 0.7454224018184115, 0.7534083670734222, 0.7453994849965037, 0.7397800276009157], 28: [0.5705896384034838, 0.7778571428571428, 0.7739996703668808, 0.7778571428571428, 0.7748905419975304, 0.6552195097479138, 0.7421391589847203, 0.7517238474032456, 0.7421314585981085, 0.7352741590270402], 29: [0.5593529877322061, 0.7810357142857143, 0.7772695799798996, 0.7810357142857143, 0.7780767960095679, 0.650681869251166, 0.7489582017931558, 0.7516386475468689, 0.7489556377315346, 0.7456392864459006], 30: [0.5535735711710794, 0.7834642857142857, 0.7797024437082198, 0.7834642857142857, 0.7804775789674567, 0.6575318303639908, 0.7446647303952519, 0.7487066399687285, 0.7446585613589151, 0.7366569329881053], 31: [0.550796676158905, 0.7853571428571429, 0.7816059992552382, 0.7853571428571429, 0.7823897981894321, 0.6431068108153773, 0.7504735446394747, 0.7558352492384077, 0.7504665145645439, 0.750519503726639], 32: [0.5403356360878263, 0.7884285714285715, 0.7848861233390433, 0.7884285714285714, 0.7855206174115809, 0.664477747774347, 0.745548680388938, 0.7506517968531776, 0.7455374870483511, 0.7363515765555904], 33: [0.5365569637162345, 0.7897857142857143, 0.7861641671994098, 0.7897857142857143, 0.7869041657329097, 0.6519655025596947, 0.7469377446647304, 0.7572231650594279, 0.7469223564600016, 0.7425873393927532], 34: [0.5339644696882793, 0.7930357142857143, 0.7895539854257724, 0.7930357142857143, 0.7903601467731626, 0.6569728246540836, 0.741002651849981, 0.7517733473083374, 0.7409902460685684, 0.7410267497601921], 35: [0.5266098779269627, 0.7925714285714286, 0.7893892016224445, 0.7925714285714285, 0.7900885956279344, 0.6511895085302383, 0.741002651849981, 0.7518468710072261, 0.7409963071850388, 0.7345308764911431], 36: [0.5202942222867694, 0.7986071428571428, 0.795409863695679, 0.7986071428571428, 0.7960686293342782, 0.6575600721571448, 0.7523677231973734, 0.7615618047582431, 0.7523648562430776, 0.7417770522621581], 37: [0.5143829698222024, 0.7993571428571429, 0.7961383321679286, 0.7993571428571429, 0.7968299430859852, 0.6109377353130259, 0.7652481373910848, 0.762809318521243, 0.7652444097365774, 0.7631185360044741], 38: [0.5074046925646918, 0.8028214285714286, 0.7996517863330229, 0.8028214285714286, 0.8003985300083329, 0.6288000628162114, 0.7572925874479101, 0.7606356703355712, 0.7572781886576733, 0.7557521878908053], 39: [0.5066510985067912, 0.8011428571428572, 0.7980978019626512, 0.8011428571428572, 0.7987598898711652, 0.6453069480836263, 0.7499684303573684, 0.7576052716157275, 0.7499602518361992, 0.7448109375080988], 40: [0.49800807695729393, 0.8043571428571429, 0.8013238839767908, 0.8043571428571428, 0.8020062493341318, 0.6441135390687883, 0.7574188660184367, 0.7590621488133168, 0.7574054083023259, 0.7521543275746113], 41: [0.4911644104208265, 0.8092857142857143, 0.8064739080392037, 0.8092857142857143, 0.8070978686210394, 0.6131703601610271, 0.7624700088394999, 0.762314307879955, 0.7624595500227132, 0.7608527699377303], 42: [0.48519125327042173, 0.8115, 0.8089447238322605, 0.8114999999999999, 0.8094914957619791, 0.6491169006682388, 0.7507261017805279, 0.7522981773633008, 0.7507161049606729, 0.7441982544857355], 43: [0.47928230612618583, 0.81, 0.8072830728947664, 0.8099999999999999, 0.8079202244717778, 0.6452394390530712, 0.7604495517110746, 0.7629614053673943, 0.7604452815165297, 0.754301889773635], 44: [0.47410504020963395, 0.8142857142857143, 0.8115430047261016, 0.8142857142857143, 0.8121779153019126, 0.6226093819126636, 0.7653744159616113, 0.7657356129735778, 0.7653685031211559, 0.7650184947694258], 45: [0.4709489346912929, 0.8158928571428572, 0.813284243701694, 0.8158928571428571, 0.8138562642664773, 0.6544256637698247, 0.7567874731658037, 0.7597486708718263, 0.7567791354678671, 0.7517589334953024], 46: [0.46594143331050875, 0.8185, 0.8159683437222778, 0.8185, 0.8164905774314376, 0.6437305285331802, 0.7636065159742391, 0.7619457563476747, 0.7635984657081171, 0.7599292133611282], 47: [0.4638715652397701, 0.8208214285714286, 0.8183729802144903, 0.8208214285714286, 0.8189540016340137, 0.6384282892423833, 0.7588079302942291, 0.7597693053133193, 0.7587992098856171, 0.7523356358563013], 48: [0.45869350465706415, 0.8209642857142857, 0.8184077409257311, 0.8209642857142858, 0.8190067854686065, 0.6250551869237283, 0.7667634802374037, 0.7650643982808883, 0.7667560521842988, 0.7649883241601689], 49: [0.45057703929288045, 0.8252857142857143, 0.8227877399720113, 0.8252857142857142, 0.823421494097274, 0.6321717461547341, 0.7620911731279202, 0.7629308370579992, 0.7620806345414735, 0.7602107082986435], 50: [0.4497692645106997, 0.8225357142857143, 0.8203138215644213, 0.8225357142857143, 0.8208510690346026, 0.6786238008157248, 0.750094708927895, 0.7535045410527585, 0.7500830053950316, 0.7452180774859058], 51: [0.44525571141924175, 0.8268571428571428, 0.8245266075858604, 0.826857142857143, 0.8250910364074611, 0.6291068240704749, 0.7641116302563455, 0.7613518121791603, 0.7641043456291057, 0.760330015342527], 52: [0.43879997605936866, 0.82725, 0.824942810143138, 0.8272499999999999, 0.8254785037120673, 0.6798334741459936, 0.754893294607905, 0.7568920413606959, 0.754888386135228, 0.7493579050719439], 53: [0.43341716078349524, 0.8309285714285715, 0.8288113516034541, 0.8309285714285715, 0.8293161266693924, 0.6535883756926723, 0.7586816517237025, 0.7608605125346649, 0.7586686087759862, 0.7552343712855181], 54: [0.43125147696903776, 0.8315, 0.8295023414101071, 0.8315, 0.8300069430006427, 0.6412989778310335, 0.7638590731152923, 0.7629334842982972, 0.7638465886760479, 0.7603058295472138], 55: [0.42874493311132705, 0.83275, 0.830702537929745, 0.83275, 0.8312595682277082, 0.6602576314718047, 0.7581765374415962, 0.7574636938257566, 0.7581712782192823, 0.7530808190437628], 56: [0.4269747572115489, 0.8326071428571429, 0.8305691074221517, 0.8326071428571429, 0.8311115112636358, 0.6679479996428555, 0.7575451445889633, 0.7604859555816147, 0.757538051051189, 0.7539224830299937], 57: [0.42634056188379016, 0.8325357142857143, 0.830374651727892, 0.8325357142857143, 0.8309635836499971, 0.6597902540200767, 0.7634802374037126, 0.7622560723335862, 0.7634736067088266, 0.7592788151789708], 58: [0.41907240682840347, 0.8365, 0.834566043795846, 0.8364999999999999, 0.8350661497217812, 0.6536951452015717, 0.7614597802752873, 0.7631641537003462, 0.7614493214101602, 0.758523016349075], 59: [0.4210084455694471, 0.8346071428571429, 0.8326320384250187, 0.8346071428571429, 0.8330600354707658, 0.6989004210640587, 0.754893294607905, 0.7588120766519051, 0.7548808575905595, 0.7484515393360373]}],\n",
       "       ['r2',\n",
       "        {0: [0.9604206314086914, 0.517, 0.3028228971846455, 0.3132882451315651, 0.3052972909050597, 0.8898814331854454, 0.5402197247127163, 0.298600540082671, 0.3492618465982754, 0.28505271186804676], 1: [0.7646254280635288, 0.64175, 0.4384603667798201, 0.39410743194764575, 0.38992062280131473, 0.740122501605357, 0.647430231089784, 0.40982263456480006, 0.39205918816279917, 0.357979937045361], 2: [0.7844317580631801, 0.6588928571428572, 0.43630920172171866, 0.4070865635594821, 0.4051236329548121, 0.779520914626552, 0.6359388811718651, 0.4253765586210963, 0.39595053319560525, 0.35438334792543935], 3: [0.7319528955732073, 0.6724285714285714, 0.43598384189586736, 0.4184012440111019, 0.41667469399127716, 0.7470735418764927, 0.6681399166561435, 0.42556437206158926, 0.3980337701529355, 0.36421024592893014], 4: [0.7136134605407715, 0.6800357142857143, 0.4374950524877789, 0.4203341556562978, 0.41629245738107795, 0.8890387295382028, 0.546659931809572, 0.4526898838560668, 0.39857734393009514, 0.33559103731806456], 5: [0.7046806592941284, 0.6849642857142857, 0.4487500181681554, 0.42596750535621036, 0.4238133526245743, 0.697569590718145, 0.6902386664982952, 0.49060819816846946, 0.4234721456680594, 0.4179434290012313], 6: [0.6928669098445347, 0.6930357142857143, 0.4527618999714494, 0.4311773180141064, 0.42894198057695404, 0.7096477113057302, 0.6774845308751105, 0.4818716416854484, 0.47118666098988526, 0.4586530221574411], 7: [0.6918728850228446, 0.6914642857142858, 0.48072812480039173, 0.4327516219638704, 0.43223108045489217, 0.7618188175728773, 0.6528602096224271, 0.5192919499772894, 0.43828407288504073, 0.4144739923998747], 8: [0.6844517399924142, 0.6944285714285714, 0.49870391910875667, 0.43438966329620393, 0.43512512016269034, 0.7115118443506778, 0.6813991665614345, 0.4544405950729158, 0.4073998232533945, 0.3989093806458142], 9: [0.67549280330113, 0.70075, 0.4798112589370918, 0.4398110692569513, 0.4398522101602363, 0.7955507234365504, 0.6190175527213032, 0.47423726547401496, 0.42159028974646723, 0.39062353311330944], 10: [0.6716411203656878, 0.6995, 0.5083825646374784, 0.4431435416362509, 0.44534092025871647, 0.6945652990784363, 0.6918802879151408, 0.5166984269103954, 0.4349409613167531, 0.4181715439677826], 11: [0.6654923479897635, 0.7042142857142857, 0.5194340987037958, 0.4498472665835596, 0.45479114917063396, 0.9290038545800966, 0.5352948604621796, 0.47916580994984254, 0.4432954205747093, 0.37519353465047767], 12: [0.6618457527160645, 0.7064285714285714, 0.5188686402403813, 0.45901634509312855, 0.46906536758952344, 0.8526678613783027, 0.5877004672307109, 0.4954100092796037, 0.42672036810576663, 0.38319924410301426], 13: [0.654745374407087, 0.714, 0.5254428573299813, 0.46813241080303686, 0.47837852758404403, 0.7758848100904413, 0.6379593383002904, 0.5516897029368797, 0.4079718612121984, 0.39761858728382427], 14: [0.6494026244027274, 0.7168571428571429, 0.5428445137033326, 0.4789824067879901, 0.4923625225938631, 0.9574784467822148, 0.5340320747569137, 0.5018272437536516, 0.4253107252116622, 0.335034642050551], 15: [0.6385199955531529, 0.7202142857142857, 0.5401890600248529, 0.4876478269148601, 0.5011650226657298, 0.8142537491492271, 0.6204066169970955, 0.4847518645668492, 0.46597138851903575, 0.4475290903544497], 16: [0.62579039982387, 0.7278571428571429, 0.5550534885057447, 0.505211438308083, 0.5194313662691841, 0.8416143494929489, 0.5941406743275666, 0.4942387222259561, 0.4882290444793632, 0.44559630891571855], 17: [0.6184504661560059, 0.7309642857142857, 0.5560853520901088, 0.5083092967047644, 0.5217634978028713, 0.8229864587355088, 0.6053794671044324, 0.5153058502847572, 0.47265559403094654, 0.4307226710698802], 18: [0.6065985156467982, 0.7423214285714286, 0.566640064372708, 0.5204631547846406, 0.5343495145531345, 0.84489296601568, 0.5976764743023109, 0.5081160337153505, 0.5267449633603858, 0.4629039432357411], 19: [0.6070434777396065, 0.7415357142857143, 0.5629548885009817, 0.5170508983080416, 0.5304402241199189, 0.6695595447433643, 0.7090541735067559, 0.562253836630328, 0.5378114243260035, 0.5397314114166509], 20: [0.5989256357465471, 0.7484642857142857, 0.5714636898077295, 0.5219742849590381, 0.5360017527770171, 0.7738645996149027, 0.6500820810708423, 0.5132064539123788, 0.5610354717402452, 0.505702463370287], 21: [0.5961918185097831, 0.7504285714285714, 0.5678576720496558, 0.5252228823691956, 0.5371631292610866, 0.9117409135223805, 0.5884581386538704, 0.5316664131997539, 0.46393302687542876, 0.4337785630345151], 22: [0.5874833243233817, 0.7513571428571428, 0.5740651794597772, 0.5331918404740538, 0.5456339530488737, 0.6763688569749933, 0.7127162520520268, 0.590662337644303, 0.5199889686592357, 0.5329215429362091], 23: [0.5852675541469029, 0.7540357142857143, 0.5768689976518464, 0.5348299373116447, 0.5473353655966771, 0.6947216270005768, 0.6931430736204066, 0.5569662374389156, 0.548813963500874, 0.536821563490147], 24: [0.5747323676518031, 0.7606071428571428, 0.5855410154438065, 0.5413999231456914, 0.5546053943513001, 0.7228525505401312, 0.6580376310140169, 0.5431280962108866, 0.5499410321570907, 0.5176185872947608], 25: [0.5620645736966814, 0.7664642857142857, 0.5945013181062232, 0.5514336313257335, 0.5652683846150302, 0.7763925853861238, 0.659552973860336, 0.5272129461001316, 0.5547309864113801, 0.5113575432380736], 26: [0.5620088111332485, 0.7636428571428572, 0.590480830333972, 0.5496362981877638, 0.5622599309673357, 0.7199944131286146, 0.6854400808182851, 0.5511559765717677, 0.5815585318739963, 0.5432184986422758], 27: [0.5551201942988805, 0.7681071428571429, 0.5969959624339152, 0.559097568768163, 0.5713299994251362, 0.7027154183475067, 0.6923854021972471, 0.5288817400969691, 0.5678260190668765, 0.5275323500868064], 28: [0.5509825457845415, 0.77225, 0.6025502511616241, 0.5631627913942319, 0.5762469209331077, 0.7281479805252561, 0.6729385023361536, 0.5500701903953279, 0.5715156638010345, 0.5288063620499039], 29: [0.5444207450321742, 0.77175, 0.596754496972421, 0.5627037659717526, 0.5737915448402771, 0.5790760470077928, 0.7528728374794798, 0.5821238845478565, 0.6011973128310631, 0.5848065644765028], 30: [0.541918438911438, 0.7753928571428571, 0.6063952864952269, 0.5689454719683238, 0.5812368051562691, 0.6117163117274534, 0.7402449804268215, 0.5945357573921158, 0.5557596681731358, 0.5595051626945058], 31: [0.536775436605726, 0.7741428571428571, 0.6546917728366004, 0.5686382641725845, 0.5810563910844884, 0.6337604216590556, 0.7189039020078293, 0.5936347524403357, 0.5653152315947987, 0.5627631110475657], 32: [0.5329276166643415, 0.7776428571428572, 0.6071832978295892, 0.568498718412177, 0.5810957004587014, 0.6062888805501042, 0.7407500947089279, 0.5941322931662151, 0.5972046192617506, 0.5794961936125501], 33: [0.5321364430359432, 0.7796785714285714, 0.6129630424429763, 0.5751493700158388, 0.5876035899087184, 0.6789624358852308, 0.711453466346761, 0.5769344745425631, 0.5997012362201095, 0.5697200331227401], 34: [0.5280658696719578, 0.7793214285714286, 0.6077165856882291, 0.573621148839156, 0.584854029656144, 0.6254053449733101, 0.7311529233489077, 0.5688329418717875, 0.5820752957750244, 0.56614167445376], 35: [0.5235009296280997, 0.7836785714285714, 0.6506604942040118, 0.5802297222275203, 0.5929534991521277, 0.6199919802399804, 0.7322894304836469, 0.5736741620817469, 0.5951577853982032, 0.5692671535445964], 36: [0.5201165892737253, 0.7861071428571429, 0.613717861931575, 0.5784315871848718, 0.5906523850785707, 0.6112502307764793, 0.7364566233110241, 0.5866521652918733, 0.5858150094920035, 0.5780263761227804], 37: [0.5184060438701085, 0.7852142857142858, 0.6629297029895762, 0.5803495810844993, 0.5924378031431768, 0.5922088285997248, 0.7418866018436672, 0.5885210323912613, 0.5960630207187929, 0.5843356518289703], 38: [0.5127929113933019, 0.7865714285714286, 0.6669557802586622, 0.5806736820694357, 0.5933942083547412, 0.6014089660371158, 0.7411289304205076, 0.6056541450586973, 0.5920095568420936, 0.5881643680041349], 39: [0.5093149067674364, 0.7896428571428571, 0.7165121356362449, 0.5878069220020838, 0.5988560859917572, 0.5987418957665226, 0.7451698446773583, 0.6184913794301397, 0.5910060552897752, 0.5905826423668198], 40: [0.5104031976291111, 0.7865, 0.6571149861413927, 0.5817219744284643, 0.5947892275226632, 0.6274324899551347, 0.7231973734057331, 0.5723650294650724, 0.6119207260702917, 0.5769333538416593], 41: [0.5035352517877306, 0.7909285714285714, 0.6445141842336949, 0.5884496337001235, 0.6002059842516468, 0.6347087629177998, 0.7244601591109988, 0.5876932295815512, 0.5706937359981451, 0.5616636131040471], 42: [0.5026236587251935, 0.7888928571428572, 0.6510053753368963, 0.5888991159534026, 0.5996131373934624, 0.6704496651048657, 0.7041293092562192, 0.5801546231904643, 0.5943618160371805, 0.5644189017738233], 43: [0.49766608326775685, 0.7935714285714286, 0.6741918544720924, 0.5929425744320931, 0.6044993000642493, 0.5622723978838395, 0.7605758302816013, 0.5933622827847024, 0.5878615367234714, 0.5836658338356638], 44: [0.4986553738117218, 0.79625, 0.6669110800097601, 0.5935369969712377, 0.605260117629182, 0.5880845757592942, 0.7485793660815759, 0.584489805772668, 0.6088653378361613, 0.5887612631672063], 45: [0.4941875570161002, 0.7966428571428571, 0.6734430783569645, 0.5999772421563533, 0.6126180485353734, 0.5898751871711393, 0.7503472660689481, 0.6243600853533792, 0.612373250878119, 0.6053763827111248], 46: [0.490019828081131, 0.7980357142857143, 0.6617326790157957, 0.5966195994977259, 0.6091136307642917, 0.575215910100955, 0.7536305089026393, 0.5904150538552005, 0.6138248027301387, 0.5946172537176042], 47: [0.4903504793303353, 0.7993214285714285, 0.6515589361125538, 0.5998307539112536, 0.6112580227157571, 0.5996782230877759, 0.7423917161257735, 0.5900605674215733, 0.6167035098798175, 0.5924545433793348], 48: [0.48628621564592633, 0.7998928571428572, 0.6967716757474178, 0.6049890718979734, 0.6183438363137259, 0.58282571286998, 0.7526202803384265, 0.5995703521513455, 0.6080209168493275, 0.5937400856437339], 49: [0.48450748777389524, 0.7998571428571428, 0.6895621402928397, 0.601838755608169, 0.6144123826533499, 0.5680135883139696, 0.759439323146862, 0.6304467482350742, 0.5960137348919539, 0.6004175265964061], 50: [0.4825579090118408, 0.8013214285714285, 0.6729126328383976, 0.6005233065193464, 0.6122969855389113, 0.5662885666804296, 0.7636065159742391, 0.6175674206534753, 0.6068614417893978, 0.6017866406817726], 51: [0.4796051495075226, 0.8001071428571429, 0.6770504927661457, 0.6024777834438851, 0.6149164981663543, 0.5823798097132854, 0.7528728374794798, 0.6154098668110638, 0.6044085805956747, 0.5982389275884339], 52: [0.47840445273263116, 0.8018928571428572, 0.6839636923540043, 0.6041117914083606, 0.6164355982076379, 0.6278676183585914, 0.7288799090794292, 0.6042074440883144, 0.5952431559361415, 0.5814282722899653], 53: [0.4795951384135655, 0.80125, 0.6830738661561135, 0.6046672976782281, 0.6172498980694162, 0.5960689604447968, 0.7461800732415709, 0.6179259980221218, 0.6185029342853974, 0.6030622012844165], 54: [0.4790270913328443, 0.8047857142857143, 0.6809897258649894, 0.6052814366751517, 0.6181812179573531, 0.6023483606191097, 0.7389821947215558, 0.6030817430772303, 0.5938966482773045, 0.5869884942668128], 55: [0.47609709436552866, 0.8052142857142857, 0.6811519648569633, 0.6086442192123783, 0.6209301729006135, 0.5888848139272072, 0.7454224018184115, 0.6014884204203462, 0.607008735061638, 0.5933882501697599], 56: [0.47313960497719904, 0.803, 0.6948665990518978, 0.6062507773605227, 0.6182511034226836, 0.6058665522648118, 0.7441596161131456, 0.6019186205460897, 0.6112145816368487, 0.5893678684828301], 57: [0.4722849278450012, 0.8059642857142857, 0.7159765215299465, 0.6087698915118281, 0.620723932481433, 0.6014900304615114, 0.741002651849981, 0.5911932064052711, 0.6181844237908614, 0.5934468891686402], 58: [0.47352826288768224, 0.8045357142857142, 0.6664208368972724, 0.6096909827814071, 0.6206912635195508, 0.5862950986421294, 0.7484530875110493, 0.6009037006068155, 0.6078200174328451, 0.595757561236167], 59: [0.4706812642301832, 0.8080357142857143, 0.6856154299550279, 0.6128770137041916, 0.6231320011125948, 0.5609118499634227, 0.7656269731026645, 0.6334674042143177, 0.629682321957727, 0.6211880797272826]}]],\n",
       "      dtype=object)"
      ]
     },
     "execution_count": 23,
     "metadata": {},
     "output_type": "execute_result"
    }
   ],
   "source": [
    "results"
   ]
  },
  {
   "cell_type": "code",
   "execution_count": 27,
   "metadata": {},
   "outputs": [],
   "source": [
    "valid_prob = resultsc[0][59][5]"
   ]
  },
  {
   "cell_type": "code",
   "execution_count": 36,
   "metadata": {},
   "outputs": [
    {
     "name": "stdout",
     "output_type": "stream",
     "text": [
      "[[0.0222625732421875, 0.791015625, 0.1864013671875, 0.00010305643081665039], [0.8310546875, 0.1142578125, 0.054595947265625, 0.0001266002655029297], [0.61572265625, 0.375, 0.00899505615234375, 0.00018703937530517578], [0.333984375, 0.180908203125, 0.4765625, 0.00847625732421875], [1.2576580047607422e-05, 0.0185394287109375, 0.9814453125, 6.556510925292969e-07]]\n",
      "[tensor(1), tensor(0), tensor(0), tensor(2), tensor(2)]\n"
     ]
    }
   ],
   "source": [
    "predictions = []\n",
    "for i in valid_prob:\n",
    "    i = torch.tensor(i)\n",
    "    #print(i)\n",
    "    pred = i.argmax(dim=0)\n",
    "    predictions.append(pred)\n",
    "print(predictions[:5])"
   ]
  },
  {
   "cell_type": "code",
   "execution_count": 37,
   "metadata": {},
   "outputs": [],
   "source": [
    "true = resultsc[0][59][6]"
   ]
  },
  {
   "cell_type": "code",
   "execution_count": null,
   "metadata": {},
   "outputs": [],
   "source": [
    "def accuracy(predictions, labels, treshold)->int:\n",
    "    preds_b = (predictions > treshold).float()\n",
    "    return (preds_b == labels).sum().item()"
   ]
  },
  {
   "cell_type": "code",
   "execution_count": 38,
   "metadata": {},
   "outputs": [],
   "source": [
    "precision = resultsc[0][59][7]"
   ]
  },
  {
   "cell_type": "code",
   "execution_count": 39,
   "metadata": {},
   "outputs": [
    {
     "data": {
      "text/plain": [
       "array([0.68552981, 0.69357915, 0.81390977, 0.84222957])"
      ]
     },
     "execution_count": 39,
     "metadata": {},
     "output_type": "execute_result"
    }
   ],
   "source": [
    "precision"
   ]
  },
  {
   "cell_type": "code",
   "execution_count": 40,
   "metadata": {},
   "outputs": [
    {
     "data": {
      "text/plain": [
       "array([0.91161616, 0.5510101 , 0.65639212, 0.90050505])"
      ]
     },
     "execution_count": 40,
     "metadata": {},
     "output_type": "execute_result"
    }
   ],
   "source": [
    "recall = resultsc[0][59][8]\n",
    "recall"
   ]
  },
  {
   "cell_type": "code",
   "execution_count": 41,
   "metadata": {},
   "outputs": [
    {
     "data": {
      "text/plain": [
       "array([0.782571  , 0.61412891, 0.72671329, 0.87039297])"
      ]
     },
     "execution_count": 41,
     "metadata": {},
     "output_type": "execute_result"
    }
   ],
   "source": [
    "f1 = resultsc[0][59][9]\n",
    "f1"
   ]
  },
  {
   "cell_type": "code",
   "execution_count": null,
   "metadata": {},
   "outputs": [],
   "source": []
  }
 ],
 "metadata": {
  "language_info": {
   "name": "python"
  }
 },
 "nbformat": 4,
 "nbformat_minor": 2
}
