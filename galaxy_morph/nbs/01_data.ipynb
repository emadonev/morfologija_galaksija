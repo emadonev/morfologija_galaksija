{
 "cells": [
  {
   "cell_type": "markdown",
   "metadata": {},
   "source": [
    "# Importing the data and creating the data loaders"
   ]
  },
  {
   "cell_type": "code",
   "execution_count": 2,
   "metadata": {},
   "outputs": [],
   "source": [
    "%load_ext autoreload\n",
    "%autoreload 2"
   ]
  },
  {
   "cell_type": "code",
   "execution_count": 3,
   "metadata": {},
   "outputs": [],
   "source": [
    "import os\n",
    "os.environ[\"PYTORCH_CUDA_ALLOC_CONF\"] = \"expandable_segments:True\""
   ]
  },
  {
   "cell_type": "code",
   "execution_count": 4,
   "metadata": {},
   "outputs": [
    {
     "name": "stderr",
     "output_type": "stream",
     "text": [
      "\u001b[34m\u001b[1mwandb\u001b[0m: Using wandb-core as the SDK backend.  Please refer to https://wandb.me/wandb-core for more information.\n",
      "\u001b[34m\u001b[1mwandb\u001b[0m: Currently logged in as: \u001b[33memadonev\u001b[0m (\u001b[33memadonev-xv-gimnazija\u001b[0m) to \u001b[32mhttps://api.wandb.ai\u001b[0m. Use \u001b[1m`wandb login --relogin`\u001b[0m to force relogin\n"
     ]
    },
    {
     "data": {
      "text/plain": [
       "True"
      ]
     },
     "execution_count": 4,
     "metadata": {},
     "output_type": "execute_result"
    }
   ],
   "source": [
    "# importing libraries\n",
    "\n",
    "import glob\n",
    "import sys\n",
    "from zipfile import ZipFile \n",
    "import concurrent.futures\n",
    "import gc\n",
    "from time import time\n",
    "import cv2\n",
    "\n",
    "sys.path.insert(0,'../src/')\n",
    "\n",
    "import PIL as pil\n",
    "\n",
    "import pandas as pd\n",
    "import numpy as np\n",
    "np.random.seed(42)\n",
    "import random\n",
    "\n",
    "import matplotlib.pyplot as plt\n",
    "\n",
    "import torch\n",
    "from sklearn.model_selection import train_test_split\n",
    "from sklearn.metrics import accuracy_score\n",
    "from torch.utils.data import DataLoader, TensorDataset\n",
    "import torch.nn as nn\n",
    "from tqdm import tqdm\n",
    "import urllib.request\n",
    "import wandb\n",
    "wandb.login()"
   ]
  },
  {
   "cell_type": "code",
   "execution_count": 5,
   "metadata": {},
   "outputs": [],
   "source": [
    "from data_processing import *\n",
    "from cvt import *\n",
    "from model_train import *"
   ]
  },
  {
   "cell_type": "markdown",
   "metadata": {},
   "source": [
    "---"
   ]
  },
  {
   "cell_type": "code",
   "execution_count": 6,
   "metadata": {},
   "outputs": [],
   "source": [
    "reference_images = pd.read_csv('../input/filename_mapping.csv')\n",
    "\n",
    "main_catalogue = pd.read_csv('../input/gz2_classes.csv')"
   ]
  },
  {
   "cell_type": "code",
   "execution_count": 7,
   "metadata": {},
   "outputs": [
    {
     "data": {
      "text/html": [
       "<div>\n",
       "<style scoped>\n",
       "    .dataframe tbody tr th:only-of-type {\n",
       "        vertical-align: middle;\n",
       "    }\n",
       "\n",
       "    .dataframe tbody tr th {\n",
       "        vertical-align: top;\n",
       "    }\n",
       "\n",
       "    .dataframe thead th {\n",
       "        text-align: right;\n",
       "    }\n",
       "</style>\n",
       "<table border=\"1\" class=\"dataframe\">\n",
       "  <thead>\n",
       "    <tr style=\"text-align: right;\">\n",
       "      <th></th>\n",
       "      <th>objid</th>\n",
       "      <th>sample</th>\n",
       "      <th>asset_id</th>\n",
       "    </tr>\n",
       "  </thead>\n",
       "  <tbody>\n",
       "    <tr>\n",
       "      <th>0</th>\n",
       "      <td>587722981736120347</td>\n",
       "      <td>original</td>\n",
       "      <td>1</td>\n",
       "    </tr>\n",
       "    <tr>\n",
       "      <th>1</th>\n",
       "      <td>587722981736579107</td>\n",
       "      <td>original</td>\n",
       "      <td>2</td>\n",
       "    </tr>\n",
       "    <tr>\n",
       "      <th>2</th>\n",
       "      <td>587722981741363294</td>\n",
       "      <td>original</td>\n",
       "      <td>3</td>\n",
       "    </tr>\n",
       "    <tr>\n",
       "      <th>3</th>\n",
       "      <td>587722981741363323</td>\n",
       "      <td>original</td>\n",
       "      <td>4</td>\n",
       "    </tr>\n",
       "    <tr>\n",
       "      <th>4</th>\n",
       "      <td>587722981741559888</td>\n",
       "      <td>original</td>\n",
       "      <td>5</td>\n",
       "    </tr>\n",
       "  </tbody>\n",
       "</table>\n",
       "</div>"
      ],
      "text/plain": [
       "                objid    sample  asset_id\n",
       "0  587722981736120347  original         1\n",
       "1  587722981736579107  original         2\n",
       "2  587722981741363294  original         3\n",
       "3  587722981741363323  original         4\n",
       "4  587722981741559888  original         5"
      ]
     },
     "execution_count": 7,
     "metadata": {},
     "output_type": "execute_result"
    }
   ],
   "source": [
    "reference_images.head()"
   ]
  },
  {
   "cell_type": "code",
   "execution_count": 8,
   "metadata": {},
   "outputs": [
    {
     "data": {
      "text/html": [
       "<div>\n",
       "<style scoped>\n",
       "    .dataframe tbody tr th:only-of-type {\n",
       "        vertical-align: middle;\n",
       "    }\n",
       "\n",
       "    .dataframe tbody tr th {\n",
       "        vertical-align: top;\n",
       "    }\n",
       "\n",
       "    .dataframe thead th {\n",
       "        text-align: right;\n",
       "    }\n",
       "</style>\n",
       "<table border=\"1\" class=\"dataframe\">\n",
       "  <thead>\n",
       "    <tr style=\"text-align: right;\">\n",
       "      <th></th>\n",
       "      <th>specobjid</th>\n",
       "      <th>dr8objid</th>\n",
       "      <th>dr7objid</th>\n",
       "      <th>ra</th>\n",
       "      <th>dec</th>\n",
       "      <th>rastring</th>\n",
       "      <th>decstring</th>\n",
       "      <th>sample</th>\n",
       "      <th>gz2class</th>\n",
       "      <th>total_classifications</th>\n",
       "      <th>...</th>\n",
       "      <th>t11_arms_number_a36_more_than_4_fraction</th>\n",
       "      <th>t11_arms_number_a36_more_than_4_weighted_fraction</th>\n",
       "      <th>t11_arms_number_a36_more_than_4_debiased</th>\n",
       "      <th>t11_arms_number_a36_more_than_4_flag</th>\n",
       "      <th>t11_arms_number_a37_cant_tell_count</th>\n",
       "      <th>t11_arms_number_a37_cant_tell_weight</th>\n",
       "      <th>t11_arms_number_a37_cant_tell_fraction</th>\n",
       "      <th>t11_arms_number_a37_cant_tell_weighted_fraction</th>\n",
       "      <th>t11_arms_number_a37_cant_tell_debiased</th>\n",
       "      <th>t11_arms_number_a37_cant_tell_flag</th>\n",
       "    </tr>\n",
       "  </thead>\n",
       "  <tbody>\n",
       "    <tr>\n",
       "      <th>0</th>\n",
       "      <td>1.802675e+18</td>\n",
       "      <td>NaN</td>\n",
       "      <td>588017703996096547</td>\n",
       "      <td>160.99040</td>\n",
       "      <td>11.703790</td>\n",
       "      <td>10:43:57.70</td>\n",
       "      <td>+11:42:13.6</td>\n",
       "      <td>original</td>\n",
       "      <td>SBb?t</td>\n",
       "      <td>44</td>\n",
       "      <td>...</td>\n",
       "      <td>0.225</td>\n",
       "      <td>0.225</td>\n",
       "      <td>0.225</td>\n",
       "      <td>0</td>\n",
       "      <td>10</td>\n",
       "      <td>10.0</td>\n",
       "      <td>0.250</td>\n",
       "      <td>0.250</td>\n",
       "      <td>0.250</td>\n",
       "      <td>0</td>\n",
       "    </tr>\n",
       "    <tr>\n",
       "      <th>1</th>\n",
       "      <td>1.992984e+18</td>\n",
       "      <td>NaN</td>\n",
       "      <td>587738569780428805</td>\n",
       "      <td>192.41083</td>\n",
       "      <td>15.164207</td>\n",
       "      <td>12:49:38.60</td>\n",
       "      <td>+15:09:51.1</td>\n",
       "      <td>original</td>\n",
       "      <td>Ser</td>\n",
       "      <td>45</td>\n",
       "      <td>...</td>\n",
       "      <td>0.000</td>\n",
       "      <td>0.000</td>\n",
       "      <td>0.000</td>\n",
       "      <td>0</td>\n",
       "      <td>0</td>\n",
       "      <td>0.0</td>\n",
       "      <td>0.000</td>\n",
       "      <td>0.000</td>\n",
       "      <td>0.000</td>\n",
       "      <td>0</td>\n",
       "    </tr>\n",
       "    <tr>\n",
       "      <th>2</th>\n",
       "      <td>1.489569e+18</td>\n",
       "      <td>NaN</td>\n",
       "      <td>587735695913320507</td>\n",
       "      <td>210.80220</td>\n",
       "      <td>54.348953</td>\n",
       "      <td>14:03:12.53</td>\n",
       "      <td>+54:20:56.2</td>\n",
       "      <td>original</td>\n",
       "      <td>Sc+t</td>\n",
       "      <td>46</td>\n",
       "      <td>...</td>\n",
       "      <td>0.651</td>\n",
       "      <td>0.651</td>\n",
       "      <td>0.651</td>\n",
       "      <td>0</td>\n",
       "      <td>3</td>\n",
       "      <td>3.0</td>\n",
       "      <td>0.070</td>\n",
       "      <td>0.070</td>\n",
       "      <td>0.070</td>\n",
       "      <td>0</td>\n",
       "    </tr>\n",
       "    <tr>\n",
       "      <th>3</th>\n",
       "      <td>2.924084e+18</td>\n",
       "      <td>1.237668e+18</td>\n",
       "      <td>587742775634624545</td>\n",
       "      <td>185.30342</td>\n",
       "      <td>18.382704</td>\n",
       "      <td>12:21:12.82</td>\n",
       "      <td>+18:22:57.7</td>\n",
       "      <td>original</td>\n",
       "      <td>SBc(r)</td>\n",
       "      <td>45</td>\n",
       "      <td>...</td>\n",
       "      <td>0.071</td>\n",
       "      <td>0.071</td>\n",
       "      <td>0.071</td>\n",
       "      <td>0</td>\n",
       "      <td>6</td>\n",
       "      <td>6.0</td>\n",
       "      <td>0.429</td>\n",
       "      <td>0.429</td>\n",
       "      <td>0.429</td>\n",
       "      <td>0</td>\n",
       "    </tr>\n",
       "    <tr>\n",
       "      <th>4</th>\n",
       "      <td>1.387165e+18</td>\n",
       "      <td>1.237658e+18</td>\n",
       "      <td>587732769983889439</td>\n",
       "      <td>187.36679</td>\n",
       "      <td>8.749928</td>\n",
       "      <td>12:29:28.03</td>\n",
       "      <td>+08:44:59.7</td>\n",
       "      <td>extra</td>\n",
       "      <td>Ser</td>\n",
       "      <td>49</td>\n",
       "      <td>...</td>\n",
       "      <td>0.000</td>\n",
       "      <td>0.000</td>\n",
       "      <td>0.000</td>\n",
       "      <td>0</td>\n",
       "      <td>1</td>\n",
       "      <td>1.0</td>\n",
       "      <td>1.000</td>\n",
       "      <td>1.000</td>\n",
       "      <td>1.000</td>\n",
       "      <td>0</td>\n",
       "    </tr>\n",
       "  </tbody>\n",
       "</table>\n",
       "<p>5 rows × 233 columns</p>\n",
       "</div>"
      ],
      "text/plain": [
       "      specobjid      dr8objid            dr7objid         ra        dec  \\\n",
       "0  1.802675e+18           NaN  588017703996096547  160.99040  11.703790   \n",
       "1  1.992984e+18           NaN  587738569780428805  192.41083  15.164207   \n",
       "2  1.489569e+18           NaN  587735695913320507  210.80220  54.348953   \n",
       "3  2.924084e+18  1.237668e+18  587742775634624545  185.30342  18.382704   \n",
       "4  1.387165e+18  1.237658e+18  587732769983889439  187.36679   8.749928   \n",
       "\n",
       "      rastring    decstring    sample gz2class  total_classifications  ...  \\\n",
       "0  10:43:57.70  +11:42:13.6  original    SBb?t                     44  ...   \n",
       "1  12:49:38.60  +15:09:51.1  original      Ser                     45  ...   \n",
       "2  14:03:12.53  +54:20:56.2  original     Sc+t                     46  ...   \n",
       "3  12:21:12.82  +18:22:57.7  original   SBc(r)                     45  ...   \n",
       "4  12:29:28.03  +08:44:59.7     extra      Ser                     49  ...   \n",
       "\n",
       "   t11_arms_number_a36_more_than_4_fraction  \\\n",
       "0                                     0.225   \n",
       "1                                     0.000   \n",
       "2                                     0.651   \n",
       "3                                     0.071   \n",
       "4                                     0.000   \n",
       "\n",
       "   t11_arms_number_a36_more_than_4_weighted_fraction  \\\n",
       "0                                              0.225   \n",
       "1                                              0.000   \n",
       "2                                              0.651   \n",
       "3                                              0.071   \n",
       "4                                              0.000   \n",
       "\n",
       "   t11_arms_number_a36_more_than_4_debiased  \\\n",
       "0                                     0.225   \n",
       "1                                     0.000   \n",
       "2                                     0.651   \n",
       "3                                     0.071   \n",
       "4                                     0.000   \n",
       "\n",
       "   t11_arms_number_a36_more_than_4_flag  t11_arms_number_a37_cant_tell_count  \\\n",
       "0                                     0                                   10   \n",
       "1                                     0                                    0   \n",
       "2                                     0                                    3   \n",
       "3                                     0                                    6   \n",
       "4                                     0                                    1   \n",
       "\n",
       "   t11_arms_number_a37_cant_tell_weight  \\\n",
       "0                                  10.0   \n",
       "1                                   0.0   \n",
       "2                                   3.0   \n",
       "3                                   6.0   \n",
       "4                                   1.0   \n",
       "\n",
       "   t11_arms_number_a37_cant_tell_fraction  \\\n",
       "0                                   0.250   \n",
       "1                                   0.000   \n",
       "2                                   0.070   \n",
       "3                                   0.429   \n",
       "4                                   1.000   \n",
       "\n",
       "   t11_arms_number_a37_cant_tell_weighted_fraction  \\\n",
       "0                                            0.250   \n",
       "1                                            0.000   \n",
       "2                                            0.070   \n",
       "3                                            0.429   \n",
       "4                                            1.000   \n",
       "\n",
       "   t11_arms_number_a37_cant_tell_debiased  t11_arms_number_a37_cant_tell_flag  \n",
       "0                                   0.250                                   0  \n",
       "1                                   0.000                                   0  \n",
       "2                                   0.070                                   0  \n",
       "3                                   0.429                                   0  \n",
       "4                                   1.000                                   0  \n",
       "\n",
       "[5 rows x 233 columns]"
      ]
     },
     "execution_count": 8,
     "metadata": {},
     "output_type": "execute_result"
    }
   ],
   "source": [
    "main_catalogue.head()"
   ]
  },
  {
   "cell_type": "code",
   "execution_count": 9,
   "metadata": {},
   "outputs": [
    {
     "name": "stdout",
     "output_type": "stream",
     "text": [
      "(243500, 2)\n"
     ]
    },
    {
     "data": {
      "text/html": [
       "<div>\n",
       "<style scoped>\n",
       "    .dataframe tbody tr th:only-of-type {\n",
       "        vertical-align: middle;\n",
       "    }\n",
       "\n",
       "    .dataframe tbody tr th {\n",
       "        vertical-align: top;\n",
       "    }\n",
       "\n",
       "    .dataframe thead th {\n",
       "        text-align: right;\n",
       "    }\n",
       "</style>\n",
       "<table border=\"1\" class=\"dataframe\">\n",
       "  <thead>\n",
       "    <tr style=\"text-align: right;\">\n",
       "      <th></th>\n",
       "      <th>dr7ID</th>\n",
       "      <th>class</th>\n",
       "    </tr>\n",
       "  </thead>\n",
       "  <tbody>\n",
       "    <tr>\n",
       "      <th>0</th>\n",
       "      <td>588017703996096547</td>\n",
       "      <td>SBb?t</td>\n",
       "    </tr>\n",
       "    <tr>\n",
       "      <th>1</th>\n",
       "      <td>587738569780428805</td>\n",
       "      <td>Ser</td>\n",
       "    </tr>\n",
       "    <tr>\n",
       "      <th>2</th>\n",
       "      <td>587735695913320507</td>\n",
       "      <td>Sc+t</td>\n",
       "    </tr>\n",
       "    <tr>\n",
       "      <th>3</th>\n",
       "      <td>587742775634624545</td>\n",
       "      <td>SBc(r)</td>\n",
       "    </tr>\n",
       "    <tr>\n",
       "      <th>4</th>\n",
       "      <td>587732769983889439</td>\n",
       "      <td>Ser</td>\n",
       "    </tr>\n",
       "  </tbody>\n",
       "</table>\n",
       "</div>"
      ],
      "text/plain": [
       "                dr7ID   class\n",
       "0  588017703996096547   SBb?t\n",
       "1  587738569780428805     Ser\n",
       "2  587735695913320507    Sc+t\n",
       "3  587742775634624545  SBc(r)\n",
       "4  587732769983889439     Ser"
      ]
     },
     "execution_count": 9,
     "metadata": {},
     "output_type": "execute_result"
    }
   ],
   "source": [
    "# create modified main catalogue\n",
    "model_01_catalogue = pd.DataFrame()\n",
    "model_01_catalogue['dr7ID'] = main_catalogue['dr7objid']\n",
    "model_01_catalogue['class'] = main_catalogue['gz2class']\n",
    "print(model_01_catalogue.shape)\n",
    "model_01_catalogue.head()"
   ]
  },
  {
   "cell_type": "code",
   "execution_count": 10,
   "metadata": {},
   "outputs": [
    {
     "data": {
      "text/plain": [
       "(243253, 2)"
      ]
     },
     "execution_count": 10,
     "metadata": {},
     "output_type": "execute_result"
    }
   ],
   "source": [
    "model_01_catalogue.drop(model_01_catalogue[model_01_catalogue['class'] == 'A'].index, inplace=True)\n",
    "model_01_catalogue.shape"
   ]
  },
  {
   "cell_type": "code",
   "execution_count": 11,
   "metadata": {},
   "outputs": [
    {
     "data": {
      "text/html": [
       "<div>\n",
       "<style scoped>\n",
       "    .dataframe tbody tr th:only-of-type {\n",
       "        vertical-align: middle;\n",
       "    }\n",
       "\n",
       "    .dataframe tbody tr th {\n",
       "        vertical-align: top;\n",
       "    }\n",
       "\n",
       "    .dataframe thead th {\n",
       "        text-align: right;\n",
       "    }\n",
       "</style>\n",
       "<table border=\"1\" class=\"dataframe\">\n",
       "  <thead>\n",
       "    <tr style=\"text-align: right;\">\n",
       "      <th></th>\n",
       "      <th>dr7ID</th>\n",
       "      <th>class</th>\n",
       "      <th>asset_id</th>\n",
       "    </tr>\n",
       "  </thead>\n",
       "  <tbody>\n",
       "    <tr>\n",
       "      <th>0</th>\n",
       "      <td>587722981741363294</td>\n",
       "      <td>Ei0000</td>\n",
       "      <td>3</td>\n",
       "    </tr>\n",
       "    <tr>\n",
       "      <th>1</th>\n",
       "      <td>587722981741363323</td>\n",
       "      <td>Sc0000</td>\n",
       "      <td>4</td>\n",
       "    </tr>\n",
       "    <tr>\n",
       "      <th>2</th>\n",
       "      <td>587722981741559888</td>\n",
       "      <td>Er0000</td>\n",
       "      <td>5</td>\n",
       "    </tr>\n",
       "    <tr>\n",
       "      <th>3</th>\n",
       "      <td>587722981741625481</td>\n",
       "      <td>Er0000</td>\n",
       "      <td>6</td>\n",
       "    </tr>\n",
       "    <tr>\n",
       "      <th>4</th>\n",
       "      <td>587722981741625484</td>\n",
       "      <td>Ei0000</td>\n",
       "      <td>7</td>\n",
       "    </tr>\n",
       "  </tbody>\n",
       "</table>\n",
       "</div>"
      ],
      "text/plain": [
       "                dr7ID   class  asset_id\n",
       "0  587722981741363294  Ei0000         3\n",
       "1  587722981741363323  Sc0000         4\n",
       "2  587722981741559888  Er0000         5\n",
       "3  587722981741625481  Er0000         6\n",
       "4  587722981741625484  Ei0000         7"
      ]
     },
     "execution_count": 11,
     "metadata": {},
     "output_type": "execute_result"
    }
   ],
   "source": [
    "# connecting each class with the corresponding asset_id\n",
    "model_01_catalogue = model_01_catalogue.merge(\n",
    "    reference_images[['objid', 'asset_id']], \n",
    "    left_on='dr7ID', \n",
    "    right_on='objid', \n",
    "    how='left'\n",
    ").drop(columns=['objid'])  # Drop extra 'objid' column after merging\n",
    "model_01_catalogue = model_01_catalogue.sort_values(by=['asset_id']).reset_index(drop=True)\n",
    "\n",
    "model_01_catalogue['class'] = model_01_catalogue['class'].apply(lambda x: x.replace('(', '').replace(')', '').ljust(6, '0'))\n",
    "model_01_catalogue.head()"
   ]
  },
  {
   "cell_type": "code",
   "execution_count": 12,
   "metadata": {},
   "outputs": [
    {
     "data": {
      "text/html": [
       "<div>\n",
       "<style scoped>\n",
       "    .dataframe tbody tr th:only-of-type {\n",
       "        vertical-align: middle;\n",
       "    }\n",
       "\n",
       "    .dataframe tbody tr th {\n",
       "        vertical-align: top;\n",
       "    }\n",
       "\n",
       "    .dataframe thead th {\n",
       "        text-align: right;\n",
       "    }\n",
       "</style>\n",
       "<table border=\"1\" class=\"dataframe\">\n",
       "  <thead>\n",
       "    <tr style=\"text-align: right;\">\n",
       "      <th></th>\n",
       "      <th>r1</th>\n",
       "      <th>r2</th>\n",
       "      <th>r3</th>\n",
       "      <th>r4</th>\n",
       "      <th>r5</th>\n",
       "      <th>asset_id</th>\n",
       "    </tr>\n",
       "  </thead>\n",
       "  <tbody>\n",
       "    <tr>\n",
       "      <th>0</th>\n",
       "      <td>E</td>\n",
       "      <td>is</td>\n",
       "      <td>0</td>\n",
       "      <td>0</td>\n",
       "      <td>0</td>\n",
       "      <td>3</td>\n",
       "    </tr>\n",
       "    <tr>\n",
       "      <th>1</th>\n",
       "      <td>S</td>\n",
       "      <td>c</td>\n",
       "      <td>0</td>\n",
       "      <td>0</td>\n",
       "      <td>0</td>\n",
       "      <td>4</td>\n",
       "    </tr>\n",
       "    <tr>\n",
       "      <th>2</th>\n",
       "      <td>E</td>\n",
       "      <td>rs</td>\n",
       "      <td>0</td>\n",
       "      <td>0</td>\n",
       "      <td>0</td>\n",
       "      <td>5</td>\n",
       "    </tr>\n",
       "    <tr>\n",
       "      <th>3</th>\n",
       "      <td>E</td>\n",
       "      <td>rs</td>\n",
       "      <td>0</td>\n",
       "      <td>0</td>\n",
       "      <td>0</td>\n",
       "      <td>6</td>\n",
       "    </tr>\n",
       "    <tr>\n",
       "      <th>4</th>\n",
       "      <td>E</td>\n",
       "      <td>is</td>\n",
       "      <td>0</td>\n",
       "      <td>0</td>\n",
       "      <td>0</td>\n",
       "      <td>7</td>\n",
       "    </tr>\n",
       "    <tr>\n",
       "      <th>5</th>\n",
       "      <td>E</td>\n",
       "      <td>is</td>\n",
       "      <td>0</td>\n",
       "      <td>0</td>\n",
       "      <td>0</td>\n",
       "      <td>8</td>\n",
       "    </tr>\n",
       "    <tr>\n",
       "      <th>6</th>\n",
       "      <td>E</td>\n",
       "      <td>rs</td>\n",
       "      <td>0</td>\n",
       "      <td>0</td>\n",
       "      <td>0</td>\n",
       "      <td>9</td>\n",
       "    </tr>\n",
       "    <tr>\n",
       "      <th>7</th>\n",
       "      <td>E</td>\n",
       "      <td>rs</td>\n",
       "      <td>0</td>\n",
       "      <td>0</td>\n",
       "      <td>0</td>\n",
       "      <td>11</td>\n",
       "    </tr>\n",
       "    <tr>\n",
       "      <th>8</th>\n",
       "      <td>S</td>\n",
       "      <td>c</td>\n",
       "      <td>0</td>\n",
       "      <td>0</td>\n",
       "      <td>0</td>\n",
       "      <td>12</td>\n",
       "    </tr>\n",
       "    <tr>\n",
       "      <th>9</th>\n",
       "      <td>E</td>\n",
       "      <td>cs</td>\n",
       "      <td>0</td>\n",
       "      <td>0</td>\n",
       "      <td>0</td>\n",
       "      <td>13</td>\n",
       "    </tr>\n",
       "  </tbody>\n",
       "</table>\n",
       "</div>"
      ],
      "text/plain": [
       "  r1  r2 r3 r4 r5  asset_id\n",
       "0  E  is  0  0  0         3\n",
       "1  S   c  0  0  0         4\n",
       "2  E  rs  0  0  0         5\n",
       "3  E  rs  0  0  0         6\n",
       "4  E  is  0  0  0         7\n",
       "5  E  is  0  0  0         8\n",
       "6  E  rs  0  0  0         9\n",
       "7  E  rs  0  0  0        11\n",
       "8  S   c  0  0  0        12\n",
       "9  E  cs  0  0  0        13"
      ]
     },
     "execution_count": 12,
     "metadata": {},
     "output_type": "execute_result"
    }
   ],
   "source": [
    "# creating a label diagram table\n",
    "label_diagram = pd.DataFrame(columns=['r1', 'r2', 'r3', 'r4', 'r5'])\n",
    "label_diagram['asset_id'] = model_01_catalogue['asset_id']\n",
    "label_diagram['r1'] = model_01_catalogue['class'].apply(choose_class1)\n",
    "label_diagram['r2'] = model_01_catalogue['class'].apply(choose_class2)\n",
    "label_diagram['r3'] = model_01_catalogue['class'].apply(choose_class3)\n",
    "label_diagram['r4'] = model_01_catalogue['class'].apply(choose_class4)\n",
    "label_diagram['r5'] = model_01_catalogue['class'].apply(choose_class5)\n",
    "label_diagram.head(10)"
   ]
  },
  {
   "cell_type": "code",
   "execution_count": 13,
   "metadata": {},
   "outputs": [],
   "source": [
    "label_diagram.to_csv(\"../input/label_diagram.csv\", index=False)"
   ]
  },
  {
   "cell_type": "code",
   "execution_count": 14,
   "metadata": {},
   "outputs": [
    {
     "data": {
      "text/plain": [
       "['Eis', 'Sc', 'Ers', 'Ers', 'Eis', 'Eis', 'Ers', 'Ers', 'Sc', 'Ecs']"
      ]
     },
     "execution_count": 14,
     "metadata": {},
     "output_type": "execute_result"
    }
   ],
   "source": [
    "labels_bench = [label_diagram[\"r1\"][x]+label_diagram[\"r2\"][x] for x in range(label_diagram.shape[0])]\n",
    "labels_bench[:10]"
   ]
  },
  {
   "cell_type": "code",
   "execution_count": 15,
   "metadata": {},
   "outputs": [
    {
     "name": "stdout",
     "output_type": "stream",
     "text": [
      "14\n"
     ]
    }
   ],
   "source": [
    "unique_count = len(set(labels_bench))\n",
    "print(unique_count)"
   ]
  },
  {
   "cell_type": "code",
   "execution_count": 16,
   "metadata": {},
   "outputs": [],
   "source": [
    "label_mapping = {label_diagram['asset_id'][x]: labels_bench[x] for x in range(len(labels_bench))}"
   ]
  },
  {
   "cell_type": "markdown",
   "metadata": {},
   "source": [
    "---"
   ]
  },
  {
   "cell_type": "code",
   "execution_count": 16,
   "metadata": {},
   "outputs": [],
   "source": [
    "imgs_path = '../input/images_gz2/images/'\n",
    "W, H, C = 224, 224, 4"
   ]
  },
  {
   "cell_type": "code",
   "execution_count": 17,
   "metadata": {},
   "outputs": [
    {
     "name": "stdout",
     "output_type": "stream",
     "text": [
      "file list loaded\n"
     ]
    }
   ],
   "source": [
    "file_list = create_file_list(imgs_path, label_diagram)\n",
    "print('file list loaded')"
   ]
  },
  {
   "cell_type": "code",
   "execution_count": 23,
   "metadata": {},
   "outputs": [],
   "source": [
    "n = 10000"
   ]
  },
  {
   "cell_type": "code",
   "execution_count": 24,
   "metadata": {},
   "outputs": [
    {
     "name": "stdout",
     "output_type": "stream",
     "text": [
      "243253 243253\n",
      "['../input/images_gz2/images/100.jpg', '../input/images_gz2/images/1000.jpg']\n",
      "['S', 'E']\n"
     ]
    }
   ],
   "source": [
    "images_orig, labels_orig = data_setup(file_list, label_diagram, n)"
   ]
  },
  {
   "cell_type": "code",
   "execution_count": 25,
   "metadata": {},
   "outputs": [
    {
     "data": {
      "text/plain": [
       "[('../input/images_gz2/images/100.jpg', 'S'),\n",
       " ('../input/images_gz2/images/1000.jpg', 'E'),\n",
       " ('../input/images_gz2/images/10000.jpg', 'E'),\n",
       " ('../input/images_gz2/images/100000.jpg', 'Se'),\n",
       " ('../input/images_gz2/images/100001.jpg', 'E')]"
      ]
     },
     "execution_count": 25,
     "metadata": {},
     "output_type": "execute_result"
    }
   ],
   "source": [
    "pairs = [(images_orig[x],labels_orig[x]) for x in range(len(images_orig))]\n",
    "pairs[:5]"
   ]
  },
  {
   "cell_type": "code",
   "execution_count": 28,
   "metadata": {},
   "outputs": [
    {
     "name": "stdout",
     "output_type": "stream",
     "text": [
      "103515\n",
      "94332\n",
      "21402\n",
      "24004\n"
     ]
    }
   ],
   "source": [
    "label0 = [x for x in pairs if x[1]=='E']\n",
    "print(len(label0))\n",
    "label1 = [x for x in pairs if x[1]=='S']\n",
    "print(len(label1))\n",
    "label2 = [x for x in pairs if x[1]=='SB']\n",
    "print(len(label2))\n",
    "label3 = [x for x in pairs if x[1]=='Se']\n",
    "print(len(label3))"
   ]
  },
  {
   "cell_type": "code",
   "execution_count": 31,
   "metadata": {},
   "outputs": [
    {
     "name": "stdout",
     "output_type": "stream",
     "text": [
      "10000 [('../input/images_gz2/images/259734.jpg', 'E'), ('../input/images_gz2/images/19826.jpg', 'E'), ('../input/images_gz2/images/65764.jpg', 'E')]\n",
      "10000 [('../input/images_gz2/images/245872.jpg', 'S'), ('../input/images_gz2/images/53148.jpg', 'S'), ('../input/images_gz2/images/64301.jpg', 'S')]\n",
      "10000 [('../input/images_gz2/images/71807.jpg', 'SB'), ('../input/images_gz2/images/91754.jpg', 'SB'), ('../input/images_gz2/images/134536.jpg', 'SB')]\n",
      "10000 [('../input/images_gz2/images/198321.jpg', 'Se'), ('../input/images_gz2/images/255406.jpg', 'Se'), ('../input/images_gz2/images/1404.jpg', 'Se')]\n"
     ]
    }
   ],
   "source": [
    "label0_selection = random.sample(label0, n)\n",
    "print(len(label0_selection), label0_selection[:3])\n",
    "\n",
    "label1_selection = random.sample(label1, n)\n",
    "print(len(label1_selection), label1_selection[:3])\n",
    "\n",
    "label2_selection = random.sample(label2, n)\n",
    "print(len(label2_selection), label2_selection[:3])\n",
    "\n",
    "label3_selection = random.sample(label3, n)\n",
    "print(len(label3_selection), label3_selection[:3])"
   ]
  },
  {
   "cell_type": "code",
   "execution_count": 32,
   "metadata": {},
   "outputs": [
    {
     "name": "stdout",
     "output_type": "stream",
     "text": [
      "40000 [('../input/images_gz2/images/259734.jpg', 'E'), ('../input/images_gz2/images/19826.jpg', 'E'), ('../input/images_gz2/images/65764.jpg', 'E'), ('../input/images_gz2/images/21116.jpg', 'E'), ('../input/images_gz2/images/167749.jpg', 'E')]\n"
     ]
    }
   ],
   "source": [
    "pairs_rand = label0_selection + label1_selection + label2_selection + label3_selection\n",
    "print(len(pairs_rand), pairs_rand[:5])"
   ]
  },
  {
   "cell_type": "code",
   "execution_count": 33,
   "metadata": {},
   "outputs": [
    {
     "name": "stdout",
     "output_type": "stream",
     "text": [
      "['../input/images_gz2/images/259734.jpg', '../input/images_gz2/images/19826.jpg'] ['E', 'E']\n"
     ]
    }
   ],
   "source": [
    "images_orig = [x[0] for x in pairs_rand]\n",
    "labels_orig = [x[1] for x in pairs_rand]\n",
    "\n",
    "print(images_orig[:2], labels_orig[:2])"
   ]
  },
  {
   "cell_type": "code",
   "execution_count": 18,
   "metadata": {},
   "outputs": [],
   "source": []
  },
  {
   "cell_type": "code",
   "execution_count": 21,
   "metadata": {},
   "outputs": [
    {
     "data": {
      "text/plain": [
       "array([1., 1., 8., 4., 5., 9., 1., 3., 1., 5., 1., 4., 9., 3., 8., 1., 9.,\n",
       "       1., 4., 0., 8., 5., 4., 4., 9., 7., 8., 5., 4., 4., 5., 4., 3., 1.,\n",
       "       8., 4., 8., 5., 9., 1., 1., 9., 5., 5., 5., 8., 8., 1., 6., 8., 5.,\n",
       "       8., 4., 5., 4., 7., 1., 8., 5., 4., 5., 9., 5., 5., 8., 8., 4., 8.,\n",
       "       7., 5., 8., 3., 4., 5., 8., 9., 4., 8., 1., 4., 5., 1., 8., 4., 1.,\n",
       "       5., 5., 9., 9., 1., 5., 1., 6., 9., 1., 5., 9., 1., 2., 5., 4., 4.,\n",
       "       1., 1., 5., 1., 3., 1., 1., 1., 8., 1., 8., 5., 4., 1., 5., 1., 4.,\n",
       "       7., 5., 4., 1., 4., 4., 8., 9., 3., 8., 4., 1., 7., 3., 1., 4., 5.,\n",
       "       9., 5., 4., 4., 1., 4., 8., 9., 1., 1., 1., 8., 5., 8., 7., 6., 8.,\n",
       "       5., 5., 1., 4., 5., 1., 7., 4., 1., 7., 8., 4., 4., 4., 1., 0., 5.,\n",
       "       8., 5., 4., 1., 5., 5., 4., 1., 5., 3., 5., 9., 3., 1., 4., 4., 5.,\n",
       "       1., 4., 4., 8., 4., 9., 9., 1., 4., 5., 9., 1., 9., 4., 1., 1., 1.,\n",
       "       5., 3., 1., 5., 5., 8., 4., 1., 5., 5., 4., 8., 4., 4., 3., 5., 5.,\n",
       "       5., 1., 5., 4., 5., 1., 5., 3., 3., 1., 3., 7., 8., 4., 5., 7., 1.,\n",
       "       8., 4., 7., 8., 1., 1., 8., 1., 9., 1., 4., 4., 8., 9., 4., 9., 1.,\n",
       "       5., 1., 1., 4., 9., 8., 5., 1., 1., 3., 3., 1., 5., 9., 2., 5., 4.,\n",
       "       6., 1., 9., 5., 5., 1., 9., 4., 1., 1., 9., 5., 5., 9., 4., 1., 4.,\n",
       "       4., 4., 7., 9., 4., 3., 5., 5., 3., 9., 8., 1., 5., 1., 9., 4., 3.,\n",
       "       4., 9., 9., 4., 5., 9., 5., 8., 9., 1., 8., 9., 3., 5., 9., 1., 0.,\n",
       "       1., 1., 5., 5., 5., 8., 5., 8., 8., 8., 3., 4., 5., 1., 5., 4., 8.,\n",
       "       5., 1., 1., 1., 1., 1., 9., 1., 5., 8., 5., 4., 6., 1., 1., 3., 8.,\n",
       "       9., 4., 3., 5., 5., 8., 4., 1., 8., 9., 1., 1., 1., 5., 5., 8., 1.,\n",
       "       5., 9., 9., 1., 8., 4., 2., 5., 5., 7., 1., 5., 4., 4., 5., 1., 5.,\n",
       "       8., 4., 5., 1., 1., 8., 5., 1., 1., 1., 1., 5., 9., 3., 1., 5., 3.,\n",
       "       4.], dtype=float32)"
      ]
     },
     "execution_count": 21,
     "metadata": {},
     "output_type": "execute_result"
    }
   ],
   "source": [
    "labels[1]"
   ]
  },
  {
   "cell_type": "code",
   "execution_count": 17,
   "metadata": {},
   "outputs": [],
   "source": [
    "outputs = np.load('../output/outputs_test.npy', allow_pickle=True)"
   ]
  },
  {
   "cell_type": "code",
   "execution_count": 18,
   "metadata": {},
   "outputs": [
    {
     "data": {
      "text/plain": [
       "array([[2., 2., 2., 2., 2., 2., 2., 2., 2., 2., 2., 2., 2., 2., 2., 2.,\n",
       "        2., 2., 2., 2., 2., 2., 2., 2., 2., 2., 2., 2., 2., 2., 2., 2.,\n",
       "        2., 2., 2., 2., 2., 2., 2., 2., 2., 2., 2., 2., 2., 2., 2., 2.,\n",
       "        2., 2., 2., 2., 2., 2., 2., 2., 2., 2., 2., 2., 2., 2., 2., 2.,\n",
       "        2., 2., 2., 2., 2., 2., 2., 2., 2., 2., 2., 2., 2., 2., 2., 2.,\n",
       "        2., 2., 2., 2., 0., 2., 2., 2., 2., 2., 2., 2., 2., 2., 2., 2.,\n",
       "        2., 2., 2., 2., 2., 2., 2., 2., 2., 2., 2., 2., 2., 2., 2., 2.,\n",
       "        2., 2., 2., 2., 2., 2., 2., 2., 2., 2., 2., 2., 2., 2., 2., 2.,\n",
       "        2., 2., 2., 2., 2., 2., 2., 2., 2., 2., 2., 2., 2., 2., 2., 2.,\n",
       "        2., 2., 0., 2., 2., 2., 2., 2., 2., 0., 2., 2., 2., 2., 2., 2.,\n",
       "        2., 2., 2., 2., 2., 2., 2., 2., 0., 2., 2., 2., 2., 2., 2., 2.,\n",
       "        2., 2., 2., 2., 2., 2., 2., 2., 2., 2., 2., 2., 2., 2., 2., 2.,\n",
       "        2., 2., 0., 2., 2., 2., 2., 2., 2., 2., 2., 2., 2., 2., 2., 2.,\n",
       "        2., 2., 2., 2., 2., 2., 2., 2., 2., 2., 2., 2., 2., 2., 2., 2.,\n",
       "        2., 2., 2., 2., 2., 2., 2., 2., 2., 2., 2., 2., 2., 2., 2., 2.,\n",
       "        2., 2., 2., 2., 2., 2., 2., 2., 2., 2., 2., 2., 2., 2., 2., 2.,\n",
       "        2., 2., 2., 2., 2., 2., 2., 2., 2., 2., 2., 2., 2., 2., 2., 2.,\n",
       "        2., 2., 2., 2., 2., 2., 2., 2., 2., 2., 2., 2., 2., 2., 2., 2.,\n",
       "        2., 2., 2., 2., 2., 2., 2., 2., 2., 2., 2., 2., 2., 2., 2., 2.,\n",
       "        2., 2., 2., 2., 2., 2., 2., 2., 2., 2., 2., 2., 2., 2., 2., 2.,\n",
       "        2., 2., 2., 2., 2., 2., 2., 2., 2., 2., 2., 2., 2., 2., 2., 2.,\n",
       "        2., 2., 2., 2., 2., 2., 2., 2., 2., 2., 2., 2., 2., 2., 2., 2.,\n",
       "        2., 2., 2., 2., 2., 2., 2., 2., 2., 2., 2., 2., 2., 2., 2., 2.,\n",
       "        2., 2., 2., 2., 2., 2., 2., 2., 2., 2., 2., 2., 2., 2., 2., 2.,\n",
       "        2., 2., 2., 2., 2., 2., 2., 2., 2., 2., 2., 2., 2., 2., 2., 2.,\n",
       "        2., 2., 2., 2., 2., 2., 2., 2., 2.],\n",
       "       [1., 1., 1., 1., 1., 1., 1., 1., 1., 1., 1., 1., 1., 1., 1., 1.,\n",
       "        1., 1., 1., 1., 1., 1., 1., 1., 1., 1., 1., 1., 1., 1., 1., 1.,\n",
       "        1., 1., 1., 1., 1., 1., 8., 1., 1., 1., 1., 1., 1., 1., 1., 1.,\n",
       "        1., 1., 1., 1., 1., 1., 1., 1., 1., 1., 1., 1., 1., 1., 1., 1.,\n",
       "        1., 1., 1., 1., 1., 1., 1., 1., 1., 1., 1., 1., 1., 1., 1., 1.,\n",
       "        1., 1., 1., 1., 1., 1., 1., 1., 1., 1., 1., 1., 1., 1., 1., 1.,\n",
       "        1., 1., 1., 1., 1., 1., 1., 1., 1., 1., 1., 1., 1., 1., 1., 1.,\n",
       "        1., 1., 1., 1., 1., 1., 1., 1., 1., 1., 1., 1., 1., 1., 1., 1.,\n",
       "        1., 1., 1., 1., 1., 1., 1., 1., 1., 1., 1., 1., 1., 1., 1., 1.,\n",
       "        1., 1., 1., 1., 1., 1., 1., 1., 1., 1., 1., 1., 1., 1., 1., 1.,\n",
       "        1., 1., 1., 1., 1., 1., 8., 1., 1., 1., 1., 1., 1., 1., 1., 1.,\n",
       "        1., 1., 1., 1., 1., 1., 1., 1., 1., 1., 1., 1., 1., 1., 1., 1.,\n",
       "        1., 1., 1., 1., 1., 1., 1., 1., 1., 1., 1., 1., 1., 1., 1., 1.,\n",
       "        1., 1., 1., 1., 1., 1., 1., 1., 1., 1., 1., 1., 1., 1., 1., 1.,\n",
       "        1., 1., 1., 1., 1., 1., 1., 1., 1., 1., 1., 1., 1., 1., 1., 1.,\n",
       "        1., 1., 1., 1., 1., 1., 1., 1., 1., 1., 1., 1., 1., 1., 1., 1.,\n",
       "        1., 1., 1., 1., 1., 1., 1., 1., 1., 1., 1., 1., 1., 1., 1., 1.,\n",
       "        1., 1., 1., 1., 1., 1., 1., 1., 1., 1., 1., 1., 1., 1., 1., 1.,\n",
       "        8., 1., 1., 1., 1., 1., 1., 1., 1., 1., 1., 1., 1., 1., 1., 1.,\n",
       "        1., 1., 1., 1., 1., 1., 1., 1., 1., 1., 1., 1., 1., 1., 1., 1.,\n",
       "        1., 1., 1., 1., 1., 1., 1., 1., 1., 1., 1., 1., 1., 1., 1., 1.,\n",
       "        1., 1., 1., 1., 1., 1., 1., 1., 1., 1., 1., 1., 1., 1., 1., 1.,\n",
       "        1., 1., 1., 1., 1., 1., 1., 1., 1., 1., 1., 1., 1., 1., 1., 1.,\n",
       "        1., 1., 1., 1., 1., 1., 1., 1., 1., 1., 1., 1., 1., 1., 1., 1.,\n",
       "        1., 1., 1., 1., 1., 1., 1., 1., 1., 1., 1., 1., 1., 1., 1., 1.,\n",
       "        1., 8., 1., 8., 1., 1., 1., 1., 1.]], dtype=float32)"
      ]
     },
     "execution_count": 18,
     "metadata": {},
     "output_type": "execute_result"
    }
   ],
   "source": [
    "outputs"
   ]
  },
  {
   "cell_type": "code",
   "execution_count": 19,
   "metadata": {},
   "outputs": [],
   "source": [
    "class_mapping = {x : i for i, x in enumerate(sorted(set(labels_bench)))}"
   ]
  },
  {
   "cell_type": "code",
   "execution_count": 20,
   "metadata": {},
   "outputs": [
    {
     "data": {
      "text/plain": [
       "{'Ecs': 0,\n",
       " 'Eis': 1,\n",
       " 'Ers': 2,\n",
       " 'SBa': 3,\n",
       " 'SBb': 4,\n",
       " 'SBc': 5,\n",
       " 'SBd': 6,\n",
       " 'Sa': 7,\n",
       " 'Sb': 8,\n",
       " 'Sc': 9,\n",
       " 'Sd': 10,\n",
       " 'Sebb': 11,\n",
       " 'Sebn': 12,\n",
       " 'Sebr': 13}"
      ]
     },
     "execution_count": 20,
     "metadata": {},
     "output_type": "execute_result"
    }
   ],
   "source": [
    "class_mapping"
   ]
  },
  {
   "cell_type": "code",
   "execution_count": null,
   "metadata": {},
   "outputs": [],
   "source": []
  }
 ],
 "metadata": {
  "language_info": {
   "name": "python"
  }
 },
 "nbformat": 4,
 "nbformat_minor": 2
}
