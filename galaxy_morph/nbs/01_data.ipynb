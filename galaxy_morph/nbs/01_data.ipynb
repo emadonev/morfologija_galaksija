{
 "cells": [
  {
   "cell_type": "markdown",
   "metadata": {},
   "source": [
    "# Importing the data and creating the data loaders"
   ]
  },
  {
   "cell_type": "code",
   "execution_count": 1,
   "metadata": {},
   "outputs": [],
   "source": [
    "%load_ext autoreload\n",
    "%autoreload 2"
   ]
  },
  {
   "cell_type": "code",
   "execution_count": 2,
   "metadata": {},
   "outputs": [],
   "source": [
    "import os\n",
    "os.environ[\"PYTORCH_CUDA_ALLOC_CONF\"] = \"expandable_segments:True\""
   ]
  },
  {
   "cell_type": "code",
   "execution_count": 3,
   "metadata": {},
   "outputs": [
    {
     "name": "stderr",
     "output_type": "stream",
     "text": [
      "\u001b[34m\u001b[1mwandb\u001b[0m: Using wandb-core as the SDK backend.  Please refer to https://wandb.me/wandb-core for more information.\n",
      "\u001b[34m\u001b[1mwandb\u001b[0m: Currently logged in as: \u001b[33memadonev\u001b[0m (\u001b[33memadonev-xv-gimnazija\u001b[0m) to \u001b[32mhttps://api.wandb.ai\u001b[0m. Use \u001b[1m`wandb login --relogin`\u001b[0m to force relogin\n"
     ]
    },
    {
     "data": {
      "text/plain": [
       "True"
      ]
     },
     "execution_count": 3,
     "metadata": {},
     "output_type": "execute_result"
    }
   ],
   "source": [
    "# importing libraries\n",
    "\n",
    "import glob\n",
    "import sys\n",
    "from zipfile import ZipFile \n",
    "import concurrent.futures\n",
    "import gc\n",
    "from time import time\n",
    "import cv2\n",
    "\n",
    "sys.path.insert(0,'../src/')\n",
    "\n",
    "import PIL as pil\n",
    "\n",
    "import pandas as pd\n",
    "import numpy as np\n",
    "np.random.seed(42)\n",
    "\n",
    "import matplotlib.pyplot as plt\n",
    "\n",
    "import torch\n",
    "from sklearn.model_selection import train_test_split\n",
    "from sklearn.metrics import accuracy_score\n",
    "from torch.utils.data import Dataset, DataLoader, random_split\n",
    "import torch.nn as nn\n",
    "from tqdm import tqdm\n",
    "import urllib.request\n",
    "import wandb\n",
    "wandb.login()"
   ]
  },
  {
   "cell_type": "code",
   "execution_count": 4,
   "metadata": {},
   "outputs": [],
   "source": [
    "def clear_gpu_memory(debug:bool=True):\n",
    "    \"\"\"\n",
    "    Clear GPU memory on all devices.\n",
    "    Optinonally print the memory before and after clearing.\n",
    "\n",
    "    Args:\n",
    "        debug (bool, optional): Print memory before and after clearing. Defaults to False.\n",
    "    \"\"\"\n",
    "    if debug:\n",
    "        print(\"GPU memory before clearing.\")\n",
    "        print(f\"Allocated: {torch.cuda.memory_allocated() :_}\")\n",
    "        print(f\"Reserved: {torch.cuda.memory_reserved() :_}\")\n",
    "    \n",
    "    # Free up memory\n",
    "    gc.collect()\n",
    "\n",
    "    # Clear CUDA memory cache\n",
    "    torch.cuda.empty_cache()\n",
    "    torch.cuda.reset_peak_memory_stats()\n",
    "    print(\"GPU memory has been cleared.\")\n",
    "\n",
    "    if debug:\n",
    "        print(\"GPU memory after clearing.\")\n",
    "        print(f\"Allocated: {torch.cuda.memory_allocated() :_}\")\n",
    "        print(f\"Reserved: {torch.cuda.memory_reserved() :_}\")"
   ]
  },
  {
   "cell_type": "code",
   "execution_count": 5,
   "metadata": {},
   "outputs": [
    {
     "name": "stdout",
     "output_type": "stream",
     "text": [
      "GPU memory before clearing.\n",
      "Allocated: 0\n",
      "Reserved: 0\n",
      "GPU memory has been cleared.\n",
      "GPU memory after clearing.\n",
      "Allocated: 0\n",
      "Reserved: 0\n"
     ]
    }
   ],
   "source": [
    "clear_gpu_memory()"
   ]
  },
  {
   "cell_type": "code",
   "execution_count": 21,
   "metadata": {},
   "outputs": [],
   "source": [
    "from data_process import *\n",
    "from cvt import *\n",
    "from model_train import *"
   ]
  },
  {
   "cell_type": "markdown",
   "metadata": {},
   "source": [
    "---"
   ]
  },
  {
   "cell_type": "code",
   "execution_count": null,
   "metadata": {},
   "outputs": [],
   "source": [
    "url = \"https://zenodo.org/records/3565489/files/images_gz2.zip?download=1\"\n",
    "urllib.request.urlretrieve(url, \"../input/images_gz2.zip\")"
   ]
  },
  {
   "cell_type": "code",
   "execution_count": 7,
   "metadata": {},
   "outputs": [],
   "source": [
    "with ZipFile('../input/images_gz2.zip', 'r') as zip_ref:\n",
    "    zip_ref.extractall(path='../input/images_gz2/')"
   ]
  },
  {
   "cell_type": "markdown",
   "metadata": {},
   "source": [
    "---"
   ]
  },
  {
   "cell_type": "code",
   "execution_count": 7,
   "metadata": {},
   "outputs": [],
   "source": [
    "reference_images = pd.read_csv('../input/filename_mapping.csv')\n",
    "\n",
    "main_catalogue = pd.read_csv('../input/gz2_classes.csv')"
   ]
  },
  {
   "cell_type": "code",
   "execution_count": 8,
   "metadata": {},
   "outputs": [
    {
     "data": {
      "text/html": [
       "<div>\n",
       "<style scoped>\n",
       "    .dataframe tbody tr th:only-of-type {\n",
       "        vertical-align: middle;\n",
       "    }\n",
       "\n",
       "    .dataframe tbody tr th {\n",
       "        vertical-align: top;\n",
       "    }\n",
       "\n",
       "    .dataframe thead th {\n",
       "        text-align: right;\n",
       "    }\n",
       "</style>\n",
       "<table border=\"1\" class=\"dataframe\">\n",
       "  <thead>\n",
       "    <tr style=\"text-align: right;\">\n",
       "      <th></th>\n",
       "      <th>objid</th>\n",
       "      <th>sample</th>\n",
       "      <th>asset_id</th>\n",
       "    </tr>\n",
       "  </thead>\n",
       "  <tbody>\n",
       "    <tr>\n",
       "      <th>0</th>\n",
       "      <td>587722981736120347</td>\n",
       "      <td>original</td>\n",
       "      <td>1</td>\n",
       "    </tr>\n",
       "    <tr>\n",
       "      <th>1</th>\n",
       "      <td>587722981736579107</td>\n",
       "      <td>original</td>\n",
       "      <td>2</td>\n",
       "    </tr>\n",
       "    <tr>\n",
       "      <th>2</th>\n",
       "      <td>587722981741363294</td>\n",
       "      <td>original</td>\n",
       "      <td>3</td>\n",
       "    </tr>\n",
       "    <tr>\n",
       "      <th>3</th>\n",
       "      <td>587722981741363323</td>\n",
       "      <td>original</td>\n",
       "      <td>4</td>\n",
       "    </tr>\n",
       "    <tr>\n",
       "      <th>4</th>\n",
       "      <td>587722981741559888</td>\n",
       "      <td>original</td>\n",
       "      <td>5</td>\n",
       "    </tr>\n",
       "  </tbody>\n",
       "</table>\n",
       "</div>"
      ],
      "text/plain": [
       "                objid    sample  asset_id\n",
       "0  587722981736120347  original         1\n",
       "1  587722981736579107  original         2\n",
       "2  587722981741363294  original         3\n",
       "3  587722981741363323  original         4\n",
       "4  587722981741559888  original         5"
      ]
     },
     "execution_count": 8,
     "metadata": {},
     "output_type": "execute_result"
    }
   ],
   "source": [
    "reference_images.head()"
   ]
  },
  {
   "cell_type": "code",
   "execution_count": 9,
   "metadata": {},
   "outputs": [
    {
     "data": {
      "text/html": [
       "<div>\n",
       "<style scoped>\n",
       "    .dataframe tbody tr th:only-of-type {\n",
       "        vertical-align: middle;\n",
       "    }\n",
       "\n",
       "    .dataframe tbody tr th {\n",
       "        vertical-align: top;\n",
       "    }\n",
       "\n",
       "    .dataframe thead th {\n",
       "        text-align: right;\n",
       "    }\n",
       "</style>\n",
       "<table border=\"1\" class=\"dataframe\">\n",
       "  <thead>\n",
       "    <tr style=\"text-align: right;\">\n",
       "      <th></th>\n",
       "      <th>specobjid</th>\n",
       "      <th>dr8objid</th>\n",
       "      <th>dr7objid</th>\n",
       "      <th>ra</th>\n",
       "      <th>dec</th>\n",
       "      <th>rastring</th>\n",
       "      <th>decstring</th>\n",
       "      <th>sample</th>\n",
       "      <th>gz2class</th>\n",
       "      <th>total_classifications</th>\n",
       "      <th>...</th>\n",
       "      <th>t11_arms_number_a36_more_than_4_fraction</th>\n",
       "      <th>t11_arms_number_a36_more_than_4_weighted_fraction</th>\n",
       "      <th>t11_arms_number_a36_more_than_4_debiased</th>\n",
       "      <th>t11_arms_number_a36_more_than_4_flag</th>\n",
       "      <th>t11_arms_number_a37_cant_tell_count</th>\n",
       "      <th>t11_arms_number_a37_cant_tell_weight</th>\n",
       "      <th>t11_arms_number_a37_cant_tell_fraction</th>\n",
       "      <th>t11_arms_number_a37_cant_tell_weighted_fraction</th>\n",
       "      <th>t11_arms_number_a37_cant_tell_debiased</th>\n",
       "      <th>t11_arms_number_a37_cant_tell_flag</th>\n",
       "    </tr>\n",
       "  </thead>\n",
       "  <tbody>\n",
       "    <tr>\n",
       "      <th>0</th>\n",
       "      <td>1.802675e+18</td>\n",
       "      <td>NaN</td>\n",
       "      <td>588017703996096547</td>\n",
       "      <td>160.99040</td>\n",
       "      <td>11.703790</td>\n",
       "      <td>10:43:57.70</td>\n",
       "      <td>+11:42:13.6</td>\n",
       "      <td>original</td>\n",
       "      <td>SBb?t</td>\n",
       "      <td>44</td>\n",
       "      <td>...</td>\n",
       "      <td>0.225</td>\n",
       "      <td>0.225</td>\n",
       "      <td>0.225</td>\n",
       "      <td>0</td>\n",
       "      <td>10</td>\n",
       "      <td>10.0</td>\n",
       "      <td>0.250</td>\n",
       "      <td>0.250</td>\n",
       "      <td>0.250</td>\n",
       "      <td>0</td>\n",
       "    </tr>\n",
       "    <tr>\n",
       "      <th>1</th>\n",
       "      <td>1.992984e+18</td>\n",
       "      <td>NaN</td>\n",
       "      <td>587738569780428805</td>\n",
       "      <td>192.41083</td>\n",
       "      <td>15.164207</td>\n",
       "      <td>12:49:38.60</td>\n",
       "      <td>+15:09:51.1</td>\n",
       "      <td>original</td>\n",
       "      <td>Ser</td>\n",
       "      <td>45</td>\n",
       "      <td>...</td>\n",
       "      <td>0.000</td>\n",
       "      <td>0.000</td>\n",
       "      <td>0.000</td>\n",
       "      <td>0</td>\n",
       "      <td>0</td>\n",
       "      <td>0.0</td>\n",
       "      <td>0.000</td>\n",
       "      <td>0.000</td>\n",
       "      <td>0.000</td>\n",
       "      <td>0</td>\n",
       "    </tr>\n",
       "    <tr>\n",
       "      <th>2</th>\n",
       "      <td>1.489569e+18</td>\n",
       "      <td>NaN</td>\n",
       "      <td>587735695913320507</td>\n",
       "      <td>210.80220</td>\n",
       "      <td>54.348953</td>\n",
       "      <td>14:03:12.53</td>\n",
       "      <td>+54:20:56.2</td>\n",
       "      <td>original</td>\n",
       "      <td>Sc+t</td>\n",
       "      <td>46</td>\n",
       "      <td>...</td>\n",
       "      <td>0.651</td>\n",
       "      <td>0.651</td>\n",
       "      <td>0.651</td>\n",
       "      <td>0</td>\n",
       "      <td>3</td>\n",
       "      <td>3.0</td>\n",
       "      <td>0.070</td>\n",
       "      <td>0.070</td>\n",
       "      <td>0.070</td>\n",
       "      <td>0</td>\n",
       "    </tr>\n",
       "    <tr>\n",
       "      <th>3</th>\n",
       "      <td>2.924084e+18</td>\n",
       "      <td>1.237668e+18</td>\n",
       "      <td>587742775634624545</td>\n",
       "      <td>185.30342</td>\n",
       "      <td>18.382704</td>\n",
       "      <td>12:21:12.82</td>\n",
       "      <td>+18:22:57.7</td>\n",
       "      <td>original</td>\n",
       "      <td>SBc(r)</td>\n",
       "      <td>45</td>\n",
       "      <td>...</td>\n",
       "      <td>0.071</td>\n",
       "      <td>0.071</td>\n",
       "      <td>0.071</td>\n",
       "      <td>0</td>\n",
       "      <td>6</td>\n",
       "      <td>6.0</td>\n",
       "      <td>0.429</td>\n",
       "      <td>0.429</td>\n",
       "      <td>0.429</td>\n",
       "      <td>0</td>\n",
       "    </tr>\n",
       "    <tr>\n",
       "      <th>4</th>\n",
       "      <td>1.387165e+18</td>\n",
       "      <td>1.237658e+18</td>\n",
       "      <td>587732769983889439</td>\n",
       "      <td>187.36679</td>\n",
       "      <td>8.749928</td>\n",
       "      <td>12:29:28.03</td>\n",
       "      <td>+08:44:59.7</td>\n",
       "      <td>extra</td>\n",
       "      <td>Ser</td>\n",
       "      <td>49</td>\n",
       "      <td>...</td>\n",
       "      <td>0.000</td>\n",
       "      <td>0.000</td>\n",
       "      <td>0.000</td>\n",
       "      <td>0</td>\n",
       "      <td>1</td>\n",
       "      <td>1.0</td>\n",
       "      <td>1.000</td>\n",
       "      <td>1.000</td>\n",
       "      <td>1.000</td>\n",
       "      <td>0</td>\n",
       "    </tr>\n",
       "  </tbody>\n",
       "</table>\n",
       "<p>5 rows × 233 columns</p>\n",
       "</div>"
      ],
      "text/plain": [
       "      specobjid      dr8objid            dr7objid         ra        dec  \\\n",
       "0  1.802675e+18           NaN  588017703996096547  160.99040  11.703790   \n",
       "1  1.992984e+18           NaN  587738569780428805  192.41083  15.164207   \n",
       "2  1.489569e+18           NaN  587735695913320507  210.80220  54.348953   \n",
       "3  2.924084e+18  1.237668e+18  587742775634624545  185.30342  18.382704   \n",
       "4  1.387165e+18  1.237658e+18  587732769983889439  187.36679   8.749928   \n",
       "\n",
       "      rastring    decstring    sample gz2class  total_classifications  ...  \\\n",
       "0  10:43:57.70  +11:42:13.6  original    SBb?t                     44  ...   \n",
       "1  12:49:38.60  +15:09:51.1  original      Ser                     45  ...   \n",
       "2  14:03:12.53  +54:20:56.2  original     Sc+t                     46  ...   \n",
       "3  12:21:12.82  +18:22:57.7  original   SBc(r)                     45  ...   \n",
       "4  12:29:28.03  +08:44:59.7     extra      Ser                     49  ...   \n",
       "\n",
       "   t11_arms_number_a36_more_than_4_fraction  \\\n",
       "0                                     0.225   \n",
       "1                                     0.000   \n",
       "2                                     0.651   \n",
       "3                                     0.071   \n",
       "4                                     0.000   \n",
       "\n",
       "   t11_arms_number_a36_more_than_4_weighted_fraction  \\\n",
       "0                                              0.225   \n",
       "1                                              0.000   \n",
       "2                                              0.651   \n",
       "3                                              0.071   \n",
       "4                                              0.000   \n",
       "\n",
       "   t11_arms_number_a36_more_than_4_debiased  \\\n",
       "0                                     0.225   \n",
       "1                                     0.000   \n",
       "2                                     0.651   \n",
       "3                                     0.071   \n",
       "4                                     0.000   \n",
       "\n",
       "   t11_arms_number_a36_more_than_4_flag  t11_arms_number_a37_cant_tell_count  \\\n",
       "0                                     0                                   10   \n",
       "1                                     0                                    0   \n",
       "2                                     0                                    3   \n",
       "3                                     0                                    6   \n",
       "4                                     0                                    1   \n",
       "\n",
       "   t11_arms_number_a37_cant_tell_weight  \\\n",
       "0                                  10.0   \n",
       "1                                   0.0   \n",
       "2                                   3.0   \n",
       "3                                   6.0   \n",
       "4                                   1.0   \n",
       "\n",
       "   t11_arms_number_a37_cant_tell_fraction  \\\n",
       "0                                   0.250   \n",
       "1                                   0.000   \n",
       "2                                   0.070   \n",
       "3                                   0.429   \n",
       "4                                   1.000   \n",
       "\n",
       "   t11_arms_number_a37_cant_tell_weighted_fraction  \\\n",
       "0                                            0.250   \n",
       "1                                            0.000   \n",
       "2                                            0.070   \n",
       "3                                            0.429   \n",
       "4                                            1.000   \n",
       "\n",
       "   t11_arms_number_a37_cant_tell_debiased  t11_arms_number_a37_cant_tell_flag  \n",
       "0                                   0.250                                   0  \n",
       "1                                   0.000                                   0  \n",
       "2                                   0.070                                   0  \n",
       "3                                   0.429                                   0  \n",
       "4                                   1.000                                   0  \n",
       "\n",
       "[5 rows x 233 columns]"
      ]
     },
     "execution_count": 9,
     "metadata": {},
     "output_type": "execute_result"
    }
   ],
   "source": [
    "main_catalogue.head()"
   ]
  },
  {
   "cell_type": "code",
   "execution_count": 10,
   "metadata": {},
   "outputs": [
    {
     "name": "stdout",
     "output_type": "stream",
     "text": [
      "(243500, 2)\n"
     ]
    },
    {
     "data": {
      "text/html": [
       "<div>\n",
       "<style scoped>\n",
       "    .dataframe tbody tr th:only-of-type {\n",
       "        vertical-align: middle;\n",
       "    }\n",
       "\n",
       "    .dataframe tbody tr th {\n",
       "        vertical-align: top;\n",
       "    }\n",
       "\n",
       "    .dataframe thead th {\n",
       "        text-align: right;\n",
       "    }\n",
       "</style>\n",
       "<table border=\"1\" class=\"dataframe\">\n",
       "  <thead>\n",
       "    <tr style=\"text-align: right;\">\n",
       "      <th></th>\n",
       "      <th>dr7ID</th>\n",
       "      <th>class</th>\n",
       "    </tr>\n",
       "  </thead>\n",
       "  <tbody>\n",
       "    <tr>\n",
       "      <th>0</th>\n",
       "      <td>588017703996096547</td>\n",
       "      <td>SBb?t</td>\n",
       "    </tr>\n",
       "    <tr>\n",
       "      <th>1</th>\n",
       "      <td>587738569780428805</td>\n",
       "      <td>Ser</td>\n",
       "    </tr>\n",
       "    <tr>\n",
       "      <th>2</th>\n",
       "      <td>587735695913320507</td>\n",
       "      <td>Sc+t</td>\n",
       "    </tr>\n",
       "    <tr>\n",
       "      <th>3</th>\n",
       "      <td>587742775634624545</td>\n",
       "      <td>SBc(r)</td>\n",
       "    </tr>\n",
       "    <tr>\n",
       "      <th>4</th>\n",
       "      <td>587732769983889439</td>\n",
       "      <td>Ser</td>\n",
       "    </tr>\n",
       "  </tbody>\n",
       "</table>\n",
       "</div>"
      ],
      "text/plain": [
       "                dr7ID   class\n",
       "0  588017703996096547   SBb?t\n",
       "1  587738569780428805     Ser\n",
       "2  587735695913320507    Sc+t\n",
       "3  587742775634624545  SBc(r)\n",
       "4  587732769983889439     Ser"
      ]
     },
     "execution_count": 10,
     "metadata": {},
     "output_type": "execute_result"
    }
   ],
   "source": [
    "# create modified main catalogue\n",
    "model_01_catalogue = pd.DataFrame()\n",
    "model_01_catalogue['dr7ID'] = main_catalogue['dr7objid']\n",
    "model_01_catalogue['class'] = main_catalogue['gz2class']\n",
    "print(model_01_catalogue.shape)\n",
    "model_01_catalogue.head()"
   ]
  },
  {
   "cell_type": "code",
   "execution_count": 11,
   "metadata": {},
   "outputs": [
    {
     "data": {
      "text/plain": [
       "(243253, 2)"
      ]
     },
     "execution_count": 11,
     "metadata": {},
     "output_type": "execute_result"
    }
   ],
   "source": [
    "model_01_catalogue.drop(model_01_catalogue[model_01_catalogue['class'] == 'A'].index, inplace=True)\n",
    "model_01_catalogue.shape"
   ]
  },
  {
   "cell_type": "code",
   "execution_count": 12,
   "metadata": {},
   "outputs": [
    {
     "data": {
      "text/html": [
       "<div>\n",
       "<style scoped>\n",
       "    .dataframe tbody tr th:only-of-type {\n",
       "        vertical-align: middle;\n",
       "    }\n",
       "\n",
       "    .dataframe tbody tr th {\n",
       "        vertical-align: top;\n",
       "    }\n",
       "\n",
       "    .dataframe thead th {\n",
       "        text-align: right;\n",
       "    }\n",
       "</style>\n",
       "<table border=\"1\" class=\"dataframe\">\n",
       "  <thead>\n",
       "    <tr style=\"text-align: right;\">\n",
       "      <th></th>\n",
       "      <th>dr7ID</th>\n",
       "      <th>class</th>\n",
       "      <th>asset_id</th>\n",
       "    </tr>\n",
       "  </thead>\n",
       "  <tbody>\n",
       "    <tr>\n",
       "      <th>0</th>\n",
       "      <td>587722981741363294</td>\n",
       "      <td>Ei0000</td>\n",
       "      <td>3</td>\n",
       "    </tr>\n",
       "    <tr>\n",
       "      <th>1</th>\n",
       "      <td>587722981741363323</td>\n",
       "      <td>Sc0000</td>\n",
       "      <td>4</td>\n",
       "    </tr>\n",
       "    <tr>\n",
       "      <th>2</th>\n",
       "      <td>587722981741559888</td>\n",
       "      <td>Er0000</td>\n",
       "      <td>5</td>\n",
       "    </tr>\n",
       "    <tr>\n",
       "      <th>3</th>\n",
       "      <td>587722981741625481</td>\n",
       "      <td>Er0000</td>\n",
       "      <td>6</td>\n",
       "    </tr>\n",
       "    <tr>\n",
       "      <th>4</th>\n",
       "      <td>587722981741625484</td>\n",
       "      <td>Ei0000</td>\n",
       "      <td>7</td>\n",
       "    </tr>\n",
       "  </tbody>\n",
       "</table>\n",
       "</div>"
      ],
      "text/plain": [
       "                dr7ID   class  asset_id\n",
       "0  587722981741363294  Ei0000         3\n",
       "1  587722981741363323  Sc0000         4\n",
       "2  587722981741559888  Er0000         5\n",
       "3  587722981741625481  Er0000         6\n",
       "4  587722981741625484  Ei0000         7"
      ]
     },
     "execution_count": 12,
     "metadata": {},
     "output_type": "execute_result"
    }
   ],
   "source": [
    "# connecting each class with the corresponding asset_id\n",
    "model_01_catalogue = model_01_catalogue.merge(\n",
    "    reference_images[['objid', 'asset_id']], \n",
    "    left_on='dr7ID', \n",
    "    right_on='objid', \n",
    "    how='left'\n",
    ").drop(columns=['objid'])  # Drop extra 'objid' column after merging\n",
    "model_01_catalogue = model_01_catalogue.sort_values(by=['asset_id']).reset_index(drop=True)\n",
    "\n",
    "model_01_catalogue['class'] = model_01_catalogue['class'].apply(lambda x: x.replace('(', '').replace(')', '').ljust(6, '0'))\n",
    "model_01_catalogue.head()"
   ]
  },
  {
   "cell_type": "code",
   "execution_count": 13,
   "metadata": {},
   "outputs": [
    {
     "data": {
      "text/html": [
       "<div>\n",
       "<style scoped>\n",
       "    .dataframe tbody tr th:only-of-type {\n",
       "        vertical-align: middle;\n",
       "    }\n",
       "\n",
       "    .dataframe tbody tr th {\n",
       "        vertical-align: top;\n",
       "    }\n",
       "\n",
       "    .dataframe thead th {\n",
       "        text-align: right;\n",
       "    }\n",
       "</style>\n",
       "<table border=\"1\" class=\"dataframe\">\n",
       "  <thead>\n",
       "    <tr style=\"text-align: right;\">\n",
       "      <th></th>\n",
       "      <th>r1</th>\n",
       "      <th>r2</th>\n",
       "      <th>r3</th>\n",
       "      <th>r4</th>\n",
       "      <th>r5</th>\n",
       "      <th>asset_id</th>\n",
       "    </tr>\n",
       "  </thead>\n",
       "  <tbody>\n",
       "    <tr>\n",
       "      <th>0</th>\n",
       "      <td>E</td>\n",
       "      <td>is</td>\n",
       "      <td>0</td>\n",
       "      <td>0</td>\n",
       "      <td>0</td>\n",
       "      <td>3</td>\n",
       "    </tr>\n",
       "    <tr>\n",
       "      <th>1</th>\n",
       "      <td>S</td>\n",
       "      <td>c</td>\n",
       "      <td>0</td>\n",
       "      <td>0</td>\n",
       "      <td>0</td>\n",
       "      <td>4</td>\n",
       "    </tr>\n",
       "    <tr>\n",
       "      <th>2</th>\n",
       "      <td>E</td>\n",
       "      <td>rs</td>\n",
       "      <td>0</td>\n",
       "      <td>0</td>\n",
       "      <td>0</td>\n",
       "      <td>5</td>\n",
       "    </tr>\n",
       "    <tr>\n",
       "      <th>3</th>\n",
       "      <td>E</td>\n",
       "      <td>rs</td>\n",
       "      <td>0</td>\n",
       "      <td>0</td>\n",
       "      <td>0</td>\n",
       "      <td>6</td>\n",
       "    </tr>\n",
       "    <tr>\n",
       "      <th>4</th>\n",
       "      <td>E</td>\n",
       "      <td>is</td>\n",
       "      <td>0</td>\n",
       "      <td>0</td>\n",
       "      <td>0</td>\n",
       "      <td>7</td>\n",
       "    </tr>\n",
       "  </tbody>\n",
       "</table>\n",
       "</div>"
      ],
      "text/plain": [
       "  r1  r2 r3 r4 r5  asset_id\n",
       "0  E  is  0  0  0         3\n",
       "1  S   c  0  0  0         4\n",
       "2  E  rs  0  0  0         5\n",
       "3  E  rs  0  0  0         6\n",
       "4  E  is  0  0  0         7"
      ]
     },
     "execution_count": 13,
     "metadata": {},
     "output_type": "execute_result"
    }
   ],
   "source": [
    "# creating a label diagram table\n",
    "label_diagram = pd.DataFrame(columns=['r1', 'r2', 'r3', 'r4', 'r5'])\n",
    "label_diagram['asset_id'] = model_01_catalogue['asset_id']\n",
    "label_diagram['r1'] = model_01_catalogue['class'].apply(choose_class1)\n",
    "label_diagram['r2'] = model_01_catalogue['class'].apply(choose_class2)\n",
    "label_diagram['r3'] = model_01_catalogue['class'].apply(choose_class3)\n",
    "label_diagram['r4'] = model_01_catalogue['class'].apply(choose_class4)\n",
    "label_diagram['r5'] = model_01_catalogue['class'].apply(choose_class5)\n",
    "label_diagram.head()"
   ]
  },
  {
   "cell_type": "markdown",
   "metadata": {},
   "source": [
    "---"
   ]
  },
  {
   "cell_type": "code",
   "execution_count": 14,
   "metadata": {},
   "outputs": [
    {
     "data": {
      "text/plain": [
       "r1\n",
       "E     103515\n",
       "S      94332\n",
       "Se     24004\n",
       "SB     21402\n",
       "Name: count, dtype: int64"
      ]
     },
     "execution_count": 14,
     "metadata": {},
     "output_type": "execute_result"
    }
   ],
   "source": [
    "label_diagram['r1'].value_counts()"
   ]
  },
  {
   "cell_type": "code",
   "execution_count": 15,
   "metadata": {},
   "outputs": [],
   "source": [
    "imgs_path = '../input/images_gz2/images/'\n",
    "W, H, C = 224, 224, 4"
   ]
  },
  {
   "cell_type": "code",
   "execution_count": 16,
   "metadata": {},
   "outputs": [
    {
     "data": {
      "text/plain": [
       "243253"
      ]
     },
     "execution_count": 16,
     "metadata": {},
     "output_type": "execute_result"
    }
   ],
   "source": [
    "file_list = glob.glob(os.path.join(imgs_path, '*.jpg'))\n",
    "file_list = sorted(file_list)\n",
    "\n",
    "# select files whose asset_id is the same as the one in the label_diagram\n",
    "file_list = [f for f in file_list if int(f.split('/')[-1].split('.')[0]) in label_diagram['asset_id'].values]\n",
    "len(file_list)"
   ]
  },
  {
   "cell_type": "code",
   "execution_count": 17,
   "metadata": {},
   "outputs": [],
   "source": [
    "file_list = file_list[:30000]"
   ]
  },
  {
   "cell_type": "code",
   "execution_count": 24,
   "metadata": {},
   "outputs": [],
   "source": [
    "gmorph_d = galaxy_img_dataset(file_list, label_diagram, label_mapping='r1', class_mapping=class_mapping)"
   ]
  },
  {
   "cell_type": "code",
   "execution_count": 18,
   "metadata": {},
   "outputs": [],
   "source": [
    "class_mapping = {x : i for i, x in enumerate(sorted(label_diagram['r1'].unique()))}\n",
    "\n",
    "if __name__ == '__main__':\n",
    "    gmorph_d = galaxy_img_dataset(file_list, label_diagram, label_mapping='r1', class_mapping=class_mapping)\n",
    "\n",
    "    total_size = len(gmorph_d)\n",
    "    train_size = int(0.7 * total_size)\n",
    "    val_size = int(0.2 * total_size)\n",
    "    test_size = total_size - train_size - val_size\n",
    "\n",
    "    generator = torch.Generator().manual_seed(42)\n",
    "    train_dataset, val_dataset, test_dataset = random_split(\n",
    "        gmorph_d, [train_size, val_size, test_size], generator=generator\n",
    "    )\n"
   ]
  },
  {
   "cell_type": "markdown",
   "metadata": {},
   "source": [
    "---"
   ]
  },
  {
   "cell_type": "markdown",
   "metadata": {},
   "source": [
    "# Architecture testing"
   ]
  },
  {
   "cell_type": "code",
   "execution_count": 19,
   "metadata": {},
   "outputs": [],
   "source": [
    "import gc"
   ]
  },
  {
   "cell_type": "code",
   "execution_count": 20,
   "metadata": {},
   "outputs": [
    {
     "data": {
      "text/plain": [
       "0"
      ]
     },
     "execution_count": 20,
     "metadata": {},
     "output_type": "execute_result"
    }
   ],
   "source": [
    "gc.collect()"
   ]
  },
  {
   "cell_type": "code",
   "execution_count": 19,
   "metadata": {},
   "outputs": [],
   "source": [
    "epochs = 10\n",
    "lr = 0.0001\n",
    "tmax = epochs // 3\n",
    "device= 'cuda' if torch.cuda.is_available() else 'cpu'\n",
    "batch_size = 32\n",
    "embed_size = 32\n",
    "\n",
    "train_loader = DataLoader(train_dataset, batch_size=batch_size, shuffle=True,\n",
    "                            num_workers=16, pin_memory=True\n",
    "                            )\n",
    "val_loader = DataLoader(val_dataset, batch_size=batch_size, shuffle=False,\n",
    "                        num_workers=16, pin_memory=True\n",
    "                        )\n",
    "test_loader = DataLoader(test_dataset, batch_size=batch_size, shuffle=False,\n",
    "                        num_workers=16, pin_memory=True\n",
    "                            )"
   ]
  },
  {
   "cell_type": "code",
   "execution_count": null,
   "metadata": {},
   "outputs": [],
   "source": [
    "gmorph_model = CvT(embed_size, len(class_mapping))\n",
    "optimizer = torch.optim.AdamW(gmorph_model.parameters(), lr=lr, weight_decay=0.05)\n",
    "scheduler = torch.optim.lr_scheduler.CosineAnnealingLR(optimizer, tmax, eta_min=0.0001)\n",
    "loss_func = nn.CrossEntropyLoss()\n",
    "\n",
    "results, train_pred, valid_pred = train_model(epochs, gmorph_model, train_loader, val_loader, loss_func, optimizer, scheduler, device, save_name=f'test')"
   ]
  },
  {
   "cell_type": "code",
   "execution_count": null,
   "metadata": {},
   "outputs": [],
   "source": [
    "gmorph_model = CvT_patch(embed_size, len(class_mapping))\n",
    "optimizer = torch.optim.AdamW(gmorph_model.parameters(), lr=lr, weight_decay=0.05)\n",
    "scheduler = torch.optim.lr_scheduler.CosineAnnealingLR(optimizer, tmax, eta_min=0.0001)\n",
    "loss_func = nn.CrossEntropyLoss()\n",
    "\n",
    "results, results_class, train_pred, train_true, train_probs, valid_pred, valid_true, valid_probs = train_model(epochs, gmorph_model, train_loader, val_loader, loss_func, optimizer, scheduler, device, save_name=f'CvT_patch')"
   ]
  },
  {
   "cell_type": "code",
   "execution_count": 20,
   "metadata": {},
   "outputs": [
    {
     "name": "stdout",
     "output_type": "stream",
     "text": [
      "GPU memory before clearing.\n",
      "Allocated: 0\n",
      "Reserved: 0\n",
      "GPU memory has been cleared.\n",
      "GPU memory after clearing.\n",
      "Allocated: 0\n",
      "Reserved: 0\n"
     ]
    }
   ],
   "source": [
    "clear_gpu_memory()"
   ]
  },
  {
   "cell_type": "code",
   "execution_count": 23,
   "metadata": {},
   "outputs": [
    {
     "data": {
      "text/html": [
       "Tracking run with wandb version 0.19.8"
      ],
      "text/plain": [
       "<IPython.core.display.HTML object>"
      ]
     },
     "metadata": {},
     "output_type": "display_data"
    },
    {
     "data": {
      "text/html": [
       "Run data is saved locally in <code>/teamspace/studios/this_studio/galaxy_morph/nbs/wandb/run-20250328_195359-hodgu9do</code>"
      ],
      "text/plain": [
       "<IPython.core.display.HTML object>"
      ]
     },
     "metadata": {},
     "output_type": "display_data"
    },
    {
     "data": {
      "text/html": [
       "Syncing run <strong><a href='https://wandb.ai/emadonev-xv-gimnazija/gmorph/runs/hodgu9do' target=\"_blank\">CvT_depth</a></strong> to <a href='https://wandb.ai/emadonev-xv-gimnazija/gmorph' target=\"_blank\">Weights & Biases</a> (<a href='https://wandb.me/developer-guide' target=\"_blank\">docs</a>)<br>"
      ],
      "text/plain": [
       "<IPython.core.display.HTML object>"
      ]
     },
     "metadata": {},
     "output_type": "display_data"
    },
    {
     "data": {
      "text/html": [
       " View project at <a href='https://wandb.ai/emadonev-xv-gimnazija/gmorph' target=\"_blank\">https://wandb.ai/emadonev-xv-gimnazija/gmorph</a>"
      ],
      "text/plain": [
       "<IPython.core.display.HTML object>"
      ]
     },
     "metadata": {},
     "output_type": "display_data"
    },
    {
     "data": {
      "text/html": [
       " View run at <a href='https://wandb.ai/emadonev-xv-gimnazija/gmorph/runs/hodgu9do' target=\"_blank\">https://wandb.ai/emadonev-xv-gimnazija/gmorph/runs/hodgu9do</a>"
      ],
      "text/plain": [
       "<IPython.core.display.HTML object>"
      ]
     },
     "metadata": {},
     "output_type": "display_data"
    },
    {
     "name": "stdout",
     "output_type": "stream",
     "text": [
      "Run name: CvT_depth\n",
      "Epoch 1/10 - Train Loss: 0.9716 - Train Acc: 0.6274 - Valid Loss: 0.8988 - Valid Acc: 0.6688\n",
      "../output/model_CvT_depth is saved!\n",
      "Epoch 2/10 - Train Loss: 0.8410 - Train Acc: 0.6835 - Valid Loss: 0.7597 - Valid Acc: 0.7150\n",
      "../output/model_CvT_depth is saved!\n",
      "Epoch 3/10 - Train Loss: 0.7947 - Train Acc: 0.6987 - Valid Loss: 0.7464 - Valid Acc: 0.7210\n",
      "../output/model_CvT_depth is saved!\n",
      "Epoch 4/10 - Train Loss: 0.7594 - Train Acc: 0.7074 - Valid Loss: 0.7276 - Valid Acc: 0.7200\n",
      "../output/model_CvT_depth is saved!\n",
      "Epoch 5/10 - Train Loss: 0.7547 - Train Acc: 0.7109 - Valid Loss: 0.7364 - Valid Acc: 0.7258\n",
      "../output/model_CvT_depth is saved!\n",
      "Epoch 6/10 - Train Loss: 0.7279 - Train Acc: 0.7188 - Valid Loss: 0.7116 - Valid Acc: 0.7227\n",
      "../output/model_CvT_depth is saved!\n",
      "Epoch 7/10 - Train Loss: 0.7073 - Train Acc: 0.7222 - Valid Loss: 0.8214 - Valid Acc: 0.6865\n",
      "../output/model_CvT_depth is saved!\n",
      "Epoch 8/10 - Train Loss: 0.7067 - Train Acc: 0.7223 - Valid Loss: 0.6817 - Valid Acc: 0.7372\n",
      "../output/model_CvT_depth is saved!\n",
      "Epoch 9/10 - Train Loss: 0.6882 - Train Acc: 0.7303 - Valid Loss: 0.6606 - Valid Acc: 0.7485\n",
      "../output/model_CvT_depth is saved!\n",
      "Epoch 10/10 - Train Loss: 0.6762 - Train Acc: 0.7350 - Valid Loss: 0.6569 - Valid Acc: 0.7390\n",
      "../output/model_CvT_depth is saved!\n"
     ]
    },
    {
     "data": {
      "text/html": [],
      "text/plain": [
       "<IPython.core.display.HTML object>"
      ]
     },
     "metadata": {},
     "output_type": "display_data"
    },
    {
     "data": {
      "text/html": [
       "<br>    <style><br>        .wandb-row {<br>            display: flex;<br>            flex-direction: row;<br>            flex-wrap: wrap;<br>            justify-content: flex-start;<br>            width: 100%;<br>        }<br>        .wandb-col {<br>            display: flex;<br>            flex-direction: column;<br>            flex-basis: 100%;<br>            flex: 1;<br>            padding: 10px;<br>        }<br>    </style><br><div class=\"wandb-row\"><div class=\"wandb-col\"><h3>Run history:</h3><br/><table class=\"wandb\"><tr><td>train_F1</td><td>▁▄▅▅▅▆▆▇▇█</td></tr><tr><td>train_acc</td><td>▁▅▆▆▆▇▇▇██</td></tr><tr><td>train_loss</td><td>█▅▄▃▃▂▂▂▁▁</td></tr><tr><td>train_precision</td><td>▁▂▂▂▂▇▇▇██</td></tr><tr><td>train_recall</td><td>▁▄▅▆▆▇▇▇██</td></tr><tr><td>valid_F1</td><td>▁▃▄▄▄▄▄▆▇█</td></tr><tr><td>valid_acc</td><td>▁▅▆▅▆▆▃▇█▇</td></tr><tr><td>valid_loss</td><td>█▄▄▃▃▃▆▂▁▁</td></tr><tr><td>valid_precision</td><td>▁▂▁▂▁▁▇██▇</td></tr><tr><td>valid_recall</td><td>▁▃▅▄▅▅▄▆▇█</td></tr></table><br/></div><div class=\"wandb-col\"><h3>Run summary:</h3><br/><table class=\"wandb\"><tr><td>train_F1</td><td>0.61169</td></tr><tr><td>train_acc</td><td>0.73505</td></tr><tr><td>train_loss</td><td>0.67623</td></tr><tr><td>train_precision</td><td>0.67809</td></tr><tr><td>train_recall</td><td>0.60962</td></tr><tr><td>valid_F1</td><td>0.65691</td></tr><tr><td>valid_acc</td><td>0.739</td></tr><tr><td>valid_loss</td><td>0.65691</td></tr><tr><td>valid_precision</td><td>0.67278</td></tr><tr><td>valid_recall</td><td>0.65589</td></tr></table><br/></div></div>"
      ],
      "text/plain": [
       "<IPython.core.display.HTML object>"
      ]
     },
     "metadata": {},
     "output_type": "display_data"
    },
    {
     "data": {
      "text/html": [
       " View run <strong style=\"color:#cdcd00\">CvT_depth</strong> at: <a href='https://wandb.ai/emadonev-xv-gimnazija/gmorph/runs/hodgu9do' target=\"_blank\">https://wandb.ai/emadonev-xv-gimnazija/gmorph/runs/hodgu9do</a><br> View project at: <a href='https://wandb.ai/emadonev-xv-gimnazija/gmorph' target=\"_blank\">https://wandb.ai/emadonev-xv-gimnazija/gmorph</a><br>Synced 5 W&B file(s), 0 media file(s), 0 artifact file(s) and 0 other file(s)"
      ],
      "text/plain": [
       "<IPython.core.display.HTML object>"
      ]
     },
     "metadata": {},
     "output_type": "display_data"
    },
    {
     "data": {
      "text/html": [
       "Find logs at: <code>./wandb/run-20250328_195359-hodgu9do/logs</code>"
      ],
      "text/plain": [
       "<IPython.core.display.HTML object>"
      ]
     },
     "metadata": {},
     "output_type": "display_data"
    },
    {
     "name": "stdout",
     "output_type": "stream",
     "text": [
      "Training time = 54.77901005744934 minutes\n"
     ]
    }
   ],
   "source": [
    "gmorph_model = CvT_depth(embed_size, len(class_mapping))\n",
    "optimizer = torch.optim.AdamW(gmorph_model.parameters(), lr=lr, weight_decay=0.05)\n",
    "scheduler = torch.optim.lr_scheduler.CosineAnnealingLR(optimizer, tmax, eta_min=0.0001)\n",
    "loss_func = nn.CrossEntropyLoss()\n",
    "\n",
    "results, results_class, train_pred, train_true, train_probs, valid_pred, valid_true, valid_probs = train_model(epochs, gmorph_model, train_loader, val_loader, loss_func, optimizer, scheduler, device, save_name=f'CvT_depth')"
   ]
  },
  {
   "cell_type": "code",
   "execution_count": 26,
   "metadata": {},
   "outputs": [],
   "source": [
    "del gmorph_model\n",
    "del optimizer\n",
    "gc.collect()\n",
    "torch.cuda.empty_cache()"
   ]
  },
  {
   "cell_type": "code",
   "execution_count": 27,
   "metadata": {},
   "outputs": [
    {
     "name": "stdout",
     "output_type": "stream",
     "text": [
      "GPU memory before clearing.\n",
      "Allocated: 32_911_360\n",
      "Reserved: 195_035_136\n",
      "GPU memory has been cleared.\n",
      "GPU memory after clearing.\n",
      "Allocated: 32_911_360\n",
      "Reserved: 195_035_136\n"
     ]
    }
   ],
   "source": [
    "clear_gpu_memory()"
   ]
  },
  {
   "cell_type": "code",
   "execution_count": 21,
   "metadata": {},
   "outputs": [
    {
     "data": {
      "text/html": [
       "Tracking run with wandb version 0.19.8"
      ],
      "text/plain": [
       "<IPython.core.display.HTML object>"
      ]
     },
     "metadata": {},
     "output_type": "display_data"
    },
    {
     "data": {
      "text/html": [
       "Run data is saved locally in <code>/teamspace/studios/this_studio/galaxy_morph/nbs/wandb/run-20250328_205739-p85bd2bq</code>"
      ],
      "text/plain": [
       "<IPython.core.display.HTML object>"
      ]
     },
     "metadata": {},
     "output_type": "display_data"
    },
    {
     "data": {
      "text/html": [
       "Syncing run <strong><a href='https://wandb.ai/emadonev-xv-gimnazija/gmorph/runs/p85bd2bq' target=\"_blank\">CvT_heads</a></strong> to <a href='https://wandb.ai/emadonev-xv-gimnazija/gmorph' target=\"_blank\">Weights & Biases</a> (<a href='https://wandb.me/developer-guide' target=\"_blank\">docs</a>)<br>"
      ],
      "text/plain": [
       "<IPython.core.display.HTML object>"
      ]
     },
     "metadata": {},
     "output_type": "display_data"
    },
    {
     "data": {
      "text/html": [
       " View project at <a href='https://wandb.ai/emadonev-xv-gimnazija/gmorph' target=\"_blank\">https://wandb.ai/emadonev-xv-gimnazija/gmorph</a>"
      ],
      "text/plain": [
       "<IPython.core.display.HTML object>"
      ]
     },
     "metadata": {},
     "output_type": "display_data"
    },
    {
     "data": {
      "text/html": [
       " View run at <a href='https://wandb.ai/emadonev-xv-gimnazija/gmorph/runs/p85bd2bq' target=\"_blank\">https://wandb.ai/emadonev-xv-gimnazija/gmorph/runs/p85bd2bq</a>"
      ],
      "text/plain": [
       "<IPython.core.display.HTML object>"
      ]
     },
     "metadata": {},
     "output_type": "display_data"
    },
    {
     "name": "stdout",
     "output_type": "stream",
     "text": [
      "Run name: CvT_heads\n",
      "Epoch 1/10 - Train Loss: 1.0008 - Train Acc: 0.6218 - Valid Loss: 0.9449 - Valid Acc: 0.6395\n",
      "../output/model_CvT_heads is saved!\n",
      "Epoch 2/10 - Train Loss: 0.8177 - Train Acc: 0.6890 - Valid Loss: 0.7056 - Valid Acc: 0.7298\n",
      "../output/model_CvT_heads is saved!\n",
      "Epoch 3/10 - Train Loss: 0.7674 - Train Acc: 0.7087 - Valid Loss: 0.7082 - Valid Acc: 0.7262\n",
      "../output/model_CvT_heads is saved!\n",
      "Epoch 4/10 - Train Loss: 0.7317 - Train Acc: 0.7202 - Valid Loss: 0.7100 - Valid Acc: 0.7185\n",
      "../output/model_CvT_heads is saved!\n",
      "Epoch 5/10 - Train Loss: 0.7113 - Train Acc: 0.7247 - Valid Loss: 0.6593 - Valid Acc: 0.7378\n",
      "../output/model_CvT_heads is saved!\n",
      "Epoch 6/10 - Train Loss: 0.6963 - Train Acc: 0.7257 - Valid Loss: 0.6476 - Valid Acc: 0.7357\n",
      "../output/model_CvT_heads is saved!\n",
      "Epoch 7/10 - Train Loss: 0.6841 - Train Acc: 0.7294 - Valid Loss: 0.6650 - Valid Acc: 0.7463\n",
      "../output/model_CvT_heads is saved!\n",
      "Epoch 8/10 - Train Loss: 0.6700 - Train Acc: 0.7348 - Valid Loss: 0.8028 - Valid Acc: 0.7082\n",
      "../output/model_CvT_heads is saved!\n",
      "Epoch 9/10 - Train Loss: 0.6643 - Train Acc: 0.7371 - Valid Loss: 0.6501 - Valid Acc: 0.7530\n",
      "../output/model_CvT_heads is saved!\n",
      "Epoch 10/10 - Train Loss: 0.6467 - Train Acc: 0.7427 - Valid Loss: 0.6843 - Valid Acc: 0.7452\n",
      "../output/model_CvT_heads is saved!\n"
     ]
    },
    {
     "data": {
      "text/html": [],
      "text/plain": [
       "<IPython.core.display.HTML object>"
      ]
     },
     "metadata": {},
     "output_type": "display_data"
    },
    {
     "data": {
      "text/html": [
       "<br>    <style><br>        .wandb-row {<br>            display: flex;<br>            flex-direction: row;<br>            flex-wrap: wrap;<br>            justify-content: flex-start;<br>            width: 100%;<br>        }<br>        .wandb-col {<br>            display: flex;<br>            flex-direction: column;<br>            flex-basis: 100%;<br>            flex: 1;<br>            padding: 10px;<br>        }<br>    </style><br><div class=\"wandb-row\"><div class=\"wandb-col\"><h3>Run history:</h3><br/><table class=\"wandb\"><tr><td>train_F1</td><td>▁▄▅▆▆▆▇▇▇█</td></tr><tr><td>train_acc</td><td>▁▅▆▇▇▇▇███</td></tr><tr><td>train_loss</td><td>█▄▃▃▂▂▂▁▁▁</td></tr><tr><td>train_precision</td><td>▁▂▃▇▆▇▇▇██</td></tr><tr><td>train_recall</td><td>▁▅▆▆▆▆▇▇▇█</td></tr><tr><td>valid_F1</td><td>▁▃▃▃▄▆▇▃▆█</td></tr><tr><td>valid_acc</td><td>▁▇▆▆▇▇█▅██</td></tr><tr><td>valid_loss</td><td>█▂▂▂▁▁▁▅▁▂</td></tr><tr><td>valid_precision</td><td>▁▃▂▃▃▆▇██▇</td></tr><tr><td>valid_recall</td><td>▁▃▂▂▃▆▇▃▆█</td></tr></table><br/></div><div class=\"wandb-col\"><h3>Run summary:</h3><br/><table class=\"wandb\"><tr><td>train_F1</td><td>0.64281</td></tr><tr><td>train_acc</td><td>0.74267</td></tr><tr><td>train_loss</td><td>0.64667</td></tr><tr><td>train_precision</td><td>0.69012</td></tr><tr><td>train_recall</td><td>0.63498</td></tr><tr><td>valid_F1</td><td>0.67413</td></tr><tr><td>valid_acc</td><td>0.74517</td></tr><tr><td>valid_loss</td><td>0.68429</td></tr><tr><td>valid_precision</td><td>0.70434</td></tr><tr><td>valid_recall</td><td>0.6691</td></tr></table><br/></div></div>"
      ],
      "text/plain": [
       "<IPython.core.display.HTML object>"
      ]
     },
     "metadata": {},
     "output_type": "display_data"
    },
    {
     "data": {
      "text/html": [
       " View run <strong style=\"color:#cdcd00\">CvT_heads</strong> at: <a href='https://wandb.ai/emadonev-xv-gimnazija/gmorph/runs/p85bd2bq' target=\"_blank\">https://wandb.ai/emadonev-xv-gimnazija/gmorph/runs/p85bd2bq</a><br> View project at: <a href='https://wandb.ai/emadonev-xv-gimnazija/gmorph' target=\"_blank\">https://wandb.ai/emadonev-xv-gimnazija/gmorph</a><br>Synced 5 W&B file(s), 0 media file(s), 0 artifact file(s) and 0 other file(s)"
      ],
      "text/plain": [
       "<IPython.core.display.HTML object>"
      ]
     },
     "metadata": {},
     "output_type": "display_data"
    },
    {
     "data": {
      "text/html": [
       "Find logs at: <code>./wandb/run-20250328_205739-p85bd2bq/logs</code>"
      ],
      "text/plain": [
       "<IPython.core.display.HTML object>"
      ]
     },
     "metadata": {},
     "output_type": "display_data"
    },
    {
     "name": "stdout",
     "output_type": "stream",
     "text": [
      "Training time = 46.505906037489574 minutes\n"
     ]
    }
   ],
   "source": [
    "gmorph_model = CvT_heads(embed_size, len(class_mapping))\n",
    "optimizer = torch.optim.AdamW(gmorph_model.parameters(), lr=lr, weight_decay=0.05)\n",
    "scheduler = torch.optim.lr_scheduler.CosineAnnealingLR(optimizer, tmax, eta_min=0.0001)\n",
    "loss_func = nn.CrossEntropyLoss()\n",
    "\n",
    "results, results_class, train_pred, train_true, train_probs, valid_pred, valid_true, valid_probs = train_model(epochs, gmorph_model, train_loader, val_loader, loss_func, optimizer, scheduler, device, save_name=f'CvT_heads')"
   ]
  },
  {
   "cell_type": "code",
   "execution_count": 20,
   "metadata": {},
   "outputs": [
    {
     "data": {
      "text/html": [
       "Tracking run with wandb version 0.19.8"
      ],
      "text/plain": [
       "<IPython.core.display.HTML object>"
      ]
     },
     "metadata": {},
     "output_type": "display_data"
    },
    {
     "data": {
      "text/html": [
       "Run data is saved locally in <code>/teamspace/studios/this_studio/galaxy_morph/nbs/wandb/run-20250328_214630-jyr7jsis</code>"
      ],
      "text/plain": [
       "<IPython.core.display.HTML object>"
      ]
     },
     "metadata": {},
     "output_type": "display_data"
    },
    {
     "data": {
      "text/html": [
       "Syncing run <strong><a href='https://wandb.ai/emadonev-xv-gimnazija/gmorph/runs/jyr7jsis' target=\"_blank\">CvT_stage</a></strong> to <a href='https://wandb.ai/emadonev-xv-gimnazija/gmorph' target=\"_blank\">Weights & Biases</a> (<a href='https://wandb.me/developer-guide' target=\"_blank\">docs</a>)<br>"
      ],
      "text/plain": [
       "<IPython.core.display.HTML object>"
      ]
     },
     "metadata": {},
     "output_type": "display_data"
    },
    {
     "data": {
      "text/html": [
       " View project at <a href='https://wandb.ai/emadonev-xv-gimnazija/gmorph' target=\"_blank\">https://wandb.ai/emadonev-xv-gimnazija/gmorph</a>"
      ],
      "text/plain": [
       "<IPython.core.display.HTML object>"
      ]
     },
     "metadata": {},
     "output_type": "display_data"
    },
    {
     "data": {
      "text/html": [
       " View run at <a href='https://wandb.ai/emadonev-xv-gimnazija/gmorph/runs/jyr7jsis' target=\"_blank\">https://wandb.ai/emadonev-xv-gimnazija/gmorph/runs/jyr7jsis</a>"
      ],
      "text/plain": [
       "<IPython.core.display.HTML object>"
      ]
     },
     "metadata": {},
     "output_type": "display_data"
    },
    {
     "name": "stdout",
     "output_type": "stream",
     "text": [
      "Run name: CvT_stage\n",
      "Epoch 1/10 - Train Loss: 1.0269 - Train Acc: 0.6002 - Valid Loss: 0.8943 - Valid Acc: 0.6572\n",
      "../output/model_CvT_stage is saved!\n",
      "Epoch 2/10 - Train Loss: 0.8506 - Train Acc: 0.6792 - Valid Loss: 0.8212 - Valid Acc: 0.6893\n",
      "../output/model_CvT_stage is saved!\n",
      "Epoch 3/10 - Train Loss: 0.7837 - Train Acc: 0.7026 - Valid Loss: 0.7138 - Valid Acc: 0.7233\n",
      "../output/model_CvT_stage is saved!\n",
      "Epoch 4/10 - Train Loss: 0.7679 - Train Acc: 0.7091 - Valid Loss: 0.8063 - Valid Acc: 0.6735\n",
      "../output/model_CvT_stage is saved!\n",
      "Epoch 5/10 - Train Loss: 0.7391 - Train Acc: 0.7194 - Valid Loss: 0.6930 - Valid Acc: 0.7353\n",
      "../output/model_CvT_stage is saved!\n",
      "Epoch 6/10 - Train Loss: 0.7258 - Train Acc: 0.7192 - Valid Loss: 0.7046 - Valid Acc: 0.7257\n",
      "../output/model_CvT_stage is saved!\n",
      "Epoch 7/10 - Train Loss: 0.7116 - Train Acc: 0.7272 - Valid Loss: 0.6686 - Valid Acc: 0.7453\n",
      "../output/model_CvT_stage is saved!\n",
      "Epoch 8/10 - Train Loss: 0.6970 - Train Acc: 0.7290 - Valid Loss: 0.7547 - Valid Acc: 0.7195\n",
      "../output/model_CvT_stage is saved!\n",
      "Epoch 9/10 - Train Loss: 0.6817 - Train Acc: 0.7331 - Valid Loss: 0.6685 - Valid Acc: 0.7418\n",
      "../output/model_CvT_stage is saved!\n",
      "Epoch 10/10 - Train Loss: 0.6738 - Train Acc: 0.7340 - Valid Loss: 0.6423 - Valid Acc: 0.7432\n",
      "../output/model_CvT_stage is saved!\n"
     ]
    },
    {
     "data": {
      "text/html": [],
      "text/plain": [
       "<IPython.core.display.HTML object>"
      ]
     },
     "metadata": {},
     "output_type": "display_data"
    },
    {
     "data": {
      "text/html": [
       "<br>    <style><br>        .wandb-row {<br>            display: flex;<br>            flex-direction: row;<br>            flex-wrap: wrap;<br>            justify-content: flex-start;<br>            width: 100%;<br>        }<br>        .wandb-col {<br>            display: flex;<br>            flex-direction: column;<br>            flex-basis: 100%;<br>            flex: 1;<br>            padding: 10px;<br>        }<br>    </style><br><div class=\"wandb-row\"><div class=\"wandb-col\"><h3>Run history:</h3><br/><table class=\"wandb\"><tr><td>train_F1</td><td>▁▆▇▇▇▇████</td></tr><tr><td>train_acc</td><td>▁▅▆▇▇▇████</td></tr><tr><td>train_loss</td><td>█▅▃▃▂▂▂▁▁▁</td></tr><tr><td>train_precision</td><td>▁▂▂▂▂▂▂▂▂█</td></tr><tr><td>train_recall</td><td>▁▅▇▇▇▇████</td></tr><tr><td>valid_F1</td><td>▁▅▇▅▇▇█▇██</td></tr><tr><td>valid_acc</td><td>▁▄▆▂▇▆█▆██</td></tr><tr><td>valid_loss</td><td>█▆▃▆▂▃▂▄▂▁</td></tr><tr><td>valid_precision</td><td>▅▁▄▅▇█▆▂▅▆</td></tr><tr><td>valid_recall</td><td>▁▅▇▅▆▆▇███</td></tr></table><br/></div><div class=\"wandb-col\"><h3>Run summary:</h3><br/><table class=\"wandb\"><tr><td>train_F1</td><td>0.56474</td></tr><tr><td>train_acc</td><td>0.73395</td></tr><tr><td>train_loss</td><td>0.67384</td></tr><tr><td>train_precision</td><td>0.79468</td></tr><tr><td>train_recall</td><td>0.58674</td></tr><tr><td>valid_F1</td><td>0.57146</td></tr><tr><td>valid_acc</td><td>0.74317</td></tr><tr><td>valid_loss</td><td>0.64227</td></tr><tr><td>valid_precision</td><td>0.55163</td></tr><tr><td>valid_recall</td><td>0.59459</td></tr></table><br/></div></div>"
      ],
      "text/plain": [
       "<IPython.core.display.HTML object>"
      ]
     },
     "metadata": {},
     "output_type": "display_data"
    },
    {
     "data": {
      "text/html": [
       " View run <strong style=\"color:#cdcd00\">CvT_stage</strong> at: <a href='https://wandb.ai/emadonev-xv-gimnazija/gmorph/runs/jyr7jsis' target=\"_blank\">https://wandb.ai/emadonev-xv-gimnazija/gmorph/runs/jyr7jsis</a><br> View project at: <a href='https://wandb.ai/emadonev-xv-gimnazija/gmorph' target=\"_blank\">https://wandb.ai/emadonev-xv-gimnazija/gmorph</a><br>Synced 5 W&B file(s), 0 media file(s), 0 artifact file(s) and 0 other file(s)"
      ],
      "text/plain": [
       "<IPython.core.display.HTML object>"
      ]
     },
     "metadata": {},
     "output_type": "display_data"
    },
    {
     "data": {
      "text/html": [
       "Find logs at: <code>./wandb/run-20250328_214630-jyr7jsis/logs</code>"
      ],
      "text/plain": [
       "<IPython.core.display.HTML object>"
      ]
     },
     "metadata": {},
     "output_type": "display_data"
    },
    {
     "name": "stdout",
     "output_type": "stream",
     "text": [
      "Training time = 27.99525281985601 minutes\n"
     ]
    }
   ],
   "source": [
    "gmorph_model = CvT_stage(embed_size, len(class_mapping))\n",
    "optimizer = torch.optim.AdamW(gmorph_model.parameters(), lr=lr, weight_decay=0.05)\n",
    "scheduler = torch.optim.lr_scheduler.CosineAnnealingLR(optimizer, tmax, eta_min=0.0001)\n",
    "loss_func = nn.CrossEntropyLoss()\n",
    "\n",
    "results, results_class, train_pred, train_true, train_probs, valid_pred, valid_true, valid_probs = train_model(epochs, gmorph_model, train_loader, val_loader, loss_func, optimizer, scheduler, device, save_name=f'CvT_stage')"
   ]
  },
  {
   "cell_type": "markdown",
   "metadata": {},
   "source": [
    "---"
   ]
  },
  {
   "cell_type": "code",
   "execution_count": 19,
   "metadata": {},
   "outputs": [],
   "source": [
    "epochs = 20\n",
    "lr = 0.0001\n",
    "tmax = epochs\n",
    "device= 'cuda' if torch.cuda.is_available() else 'cpu'\n",
    "batch_size = 32\n",
    "embed_size = 64\n",
    "\n",
    "train_loader = DataLoader(train_dataset, batch_size=batch_size, shuffle=True,\n",
    "                            num_workers=16, pin_memory=True\n",
    "                            )\n",
    "val_loader = DataLoader(val_dataset, batch_size=batch_size, shuffle=False,\n",
    "                        num_workers=16, pin_memory=True\n",
    "                        )\n",
    "test_loader = DataLoader(test_dataset, batch_size=batch_size, shuffle=False,\n",
    "                        num_workers=16, pin_memory=True\n",
    "                            )"
   ]
  },
  {
   "cell_type": "code",
   "execution_count": 23,
   "metadata": {},
   "outputs": [
    {
     "name": "stdout",
     "output_type": "stream",
     "text": [
      "Run name: CvT_gmorph\n",
      "Epoch 1/20 - Train Loss: 1.1102 - Train Acc: 0.5346 - Valid Loss: 0.9626 - Valid Acc: 0.6283\n",
      "../output/model_CvT_gmorph is saved!\n",
      "Epoch 2/20 - Train Loss: 0.8774 - Train Acc: 0.6717 - Valid Loss: 0.7731 - Valid Acc: 0.7063\n",
      "../output/model_CvT_gmorph is saved!\n",
      "Epoch 3/20 - Train Loss: 0.7932 - Train Acc: 0.7006 - Valid Loss: 0.8173 - Valid Acc: 0.6725\n",
      "../output/model_CvT_gmorph is saved!\n",
      "Epoch 4/20 - Train Loss: 0.7540 - Train Acc: 0.7152 - Valid Loss: 0.9673 - Valid Acc: 0.6183\n",
      "../output/model_CvT_gmorph is saved!\n",
      "Epoch 5/20 - Train Loss: 0.7319 - Train Acc: 0.7212 - Valid Loss: 0.8393 - Valid Acc: 0.6818\n",
      "../output/model_CvT_gmorph is saved!\n",
      "Epoch 6/20 - Train Loss: 0.7205 - Train Acc: 0.7270 - Valid Loss: 0.6987 - Valid Acc: 0.7375\n",
      "../output/model_CvT_gmorph is saved!\n",
      "Epoch 7/20 - Train Loss: 0.7013 - Train Acc: 0.7336 - Valid Loss: 0.7121 - Valid Acc: 0.7300\n",
      "../output/model_CvT_gmorph is saved!\n",
      "Epoch 8/20 - Train Loss: 0.6918 - Train Acc: 0.7333 - Valid Loss: 0.6838 - Valid Acc: 0.7365\n",
      "../output/model_CvT_gmorph is saved!\n",
      "Epoch 9/20 - Train Loss: 0.6808 - Train Acc: 0.7361 - Valid Loss: 0.7100 - Valid Acc: 0.7287\n",
      "../output/model_CvT_gmorph is saved!\n"
     ]
    },
    {
     "ename": "KeyboardInterrupt",
     "evalue": "",
     "output_type": "error",
     "traceback": [
      "\u001b[0;31m---------------------------------------------------------------------------\u001b[0m",
      "\u001b[0;31mKeyboardInterrupt\u001b[0m                         Traceback (most recent call last)",
      "Cell \u001b[0;32mIn[23], line 6\u001b[0m\n\u001b[1;32m      3\u001b[0m scheduler \u001b[38;5;241m=\u001b[39m torch\u001b[38;5;241m.\u001b[39moptim\u001b[38;5;241m.\u001b[39mlr_scheduler\u001b[38;5;241m.\u001b[39mCosineAnnealingLR(optimizer, tmax, eta_min\u001b[38;5;241m=\u001b[39m\u001b[38;5;241m0.0001\u001b[39m)\n\u001b[1;32m      4\u001b[0m loss_func \u001b[38;5;241m=\u001b[39m nn\u001b[38;5;241m.\u001b[39mCrossEntropyLoss()\n\u001b[0;32m----> 6\u001b[0m results, results_class, train_pred, train_true, train_probs, valid_pred, valid_true, valid_probs \u001b[38;5;241m=\u001b[39m \u001b[43mtrain_model\u001b[49m\u001b[43m(\u001b[49m\u001b[43mepochs\u001b[49m\u001b[43m,\u001b[49m\u001b[43m \u001b[49m\u001b[43mgmorph_model\u001b[49m\u001b[43m,\u001b[49m\u001b[43m \u001b[49m\u001b[43mtrain_loader\u001b[49m\u001b[43m,\u001b[49m\u001b[43m \u001b[49m\u001b[43mval_loader\u001b[49m\u001b[43m,\u001b[49m\u001b[43m \u001b[49m\u001b[43mloss_func\u001b[49m\u001b[43m,\u001b[49m\u001b[43m \u001b[49m\u001b[43moptimizer\u001b[49m\u001b[43m,\u001b[49m\u001b[43m \u001b[49m\u001b[43mscheduler\u001b[49m\u001b[43m,\u001b[49m\u001b[43m \u001b[49m\u001b[43mdevice\u001b[49m\u001b[43m,\u001b[49m\u001b[43m \u001b[49m\u001b[43msave_name\u001b[49m\u001b[38;5;241;43m=\u001b[39;49m\u001b[38;5;124;43mf\u001b[39;49m\u001b[38;5;124;43m'\u001b[39;49m\u001b[38;5;124;43mCvT_gmorph\u001b[39;49m\u001b[38;5;124;43m'\u001b[39;49m\u001b[43m)\u001b[49m\n",
      "File \u001b[0;32m~/galaxy_morph/nbs/../src/model_train.py:122\u001b[0m, in \u001b[0;36mtrain_model\u001b[0;34m(n_epochs, model, train_loader, valid_loader, loss_func, optimizer, learning_scheduler, device, save_name)\u001b[0m\n\u001b[1;32m    120\u001b[0m \u001b[38;5;28mprint\u001b[39m(\u001b[38;5;124m\"\u001b[39m\u001b[38;5;124mRun name:\u001b[39m\u001b[38;5;124m\"\u001b[39m, run\u001b[38;5;241m.\u001b[39mname)\n\u001b[1;32m    121\u001b[0m \u001b[38;5;28;01mfor\u001b[39;00m epoch \u001b[38;5;129;01min\u001b[39;00m \u001b[38;5;28mrange\u001b[39m(n_epochs):\n\u001b[0;32m--> 122\u001b[0m     train_loss, train_acc, train_prec, train_recall, train_F1, train_pred, train_true, train_probs \u001b[38;5;241m=\u001b[39m \u001b[43mtrain_epoch\u001b[49m\u001b[43m(\u001b[49m\u001b[43mmodel\u001b[49m\u001b[43m,\u001b[49m\u001b[43m \u001b[49m\u001b[43moptimizer\u001b[49m\u001b[43m,\u001b[49m\u001b[43m \u001b[49m\u001b[43mtrain_loader\u001b[49m\u001b[43m,\u001b[49m\u001b[43m \u001b[49m\u001b[43mloss_func\u001b[49m\u001b[43m,\u001b[49m\u001b[43m \u001b[49m\u001b[43mdevice\u001b[49m\u001b[43m)\u001b[49m\n\u001b[1;32m    124\u001b[0m     \u001b[38;5;66;03m#train_loss /= len(train_loader.dataset)\u001b[39;00m\n\u001b[1;32m    126\u001b[0m     run\u001b[38;5;241m.\u001b[39mlog({\u001b[38;5;124m'\u001b[39m\u001b[38;5;124mtrain_loss\u001b[39m\u001b[38;5;124m'\u001b[39m: train_loss, \u001b[38;5;124m'\u001b[39m\u001b[38;5;124mtrain_acc\u001b[39m\u001b[38;5;124m'\u001b[39m: train_acc, \u001b[38;5;124m'\u001b[39m\u001b[38;5;124mtrain_precision\u001b[39m\u001b[38;5;124m'\u001b[39m: train_prec, \u001b[38;5;124m'\u001b[39m\u001b[38;5;124mtrain_recall\u001b[39m\u001b[38;5;124m'\u001b[39m: train_recall, \u001b[38;5;124m'\u001b[39m\u001b[38;5;124mtrain_F1\u001b[39m\u001b[38;5;124m'\u001b[39m: train_F1})\n",
      "File \u001b[0;32m~/galaxy_morph/nbs/../src/model_train.py:50\u001b[0m, in \u001b[0;36mtrain_epoch\u001b[0;34m(model, optimizer, data_loader, loss_func, device)\u001b[0m\n\u001b[1;32m     46\u001b[0m loss\u001b[38;5;241m.\u001b[39mbackward()\n\u001b[1;32m     47\u001b[0m optimizer\u001b[38;5;241m.\u001b[39mstep()\n\u001b[0;32m---> 50\u001b[0m total_loss \u001b[38;5;241m+\u001b[39m\u001b[38;5;241m=\u001b[39m \u001b[43mloss\u001b[49m\u001b[38;5;241;43m.\u001b[39;49m\u001b[43mitem\u001b[49m\u001b[43m(\u001b[49m\u001b[43m)\u001b[49m\u001b[38;5;241m*\u001b[39mlabels\u001b[38;5;241m.\u001b[39msize(\u001b[38;5;241m0\u001b[39m)\n\u001b[1;32m     52\u001b[0m probabilities \u001b[38;5;241m=\u001b[39m F\u001b[38;5;241m.\u001b[39msoftmax(outputs, dim\u001b[38;5;241m=\u001b[39m\u001b[38;5;241m1\u001b[39m)\n\u001b[1;32m     54\u001b[0m preds \u001b[38;5;241m=\u001b[39m probabilities\u001b[38;5;241m.\u001b[39margmax(dim\u001b[38;5;241m=\u001b[39m\u001b[38;5;241m1\u001b[39m)\n",
      "\u001b[0;31mKeyboardInterrupt\u001b[0m: "
     ]
    }
   ],
   "source": [
    "gmorph_model = CvT_gmorph(embed_size, len(class_mapping))\n",
    "optimizer = torch.optim.AdamW(gmorph_model.parameters(), lr=lr, weight_decay=0.05)\n",
    "scheduler = torch.optim.lr_scheduler.CosineAnnealingLR(optimizer, tmax, eta_min=0.0001)\n",
    "loss_func = nn.CrossEntropyLoss()\n",
    "\n",
    "results, results_class, train_pred, train_true, train_probs, valid_pred, valid_true, valid_probs = train_model(epochs, gmorph_model, train_loader, val_loader, loss_func, optimizer, scheduler, device, save_name=f'CvT_gmorph')"
   ]
  },
  {
   "cell_type": "code",
   "execution_count": null,
   "metadata": {},
   "outputs": [],
   "source": []
  }
 ],
 "metadata": {
  "language_info": {
   "name": "python"
  }
 },
 "nbformat": 4,
 "nbformat_minor": 2
}
